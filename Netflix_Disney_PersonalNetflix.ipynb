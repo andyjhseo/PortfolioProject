{
  "nbformat": 4,
  "nbformat_minor": 0,
  "metadata": {
    "colab": {
      "name": "Netflix/Disney/PersonalNetflix.ipynb",
      "provenance": [],
      "collapsed_sections": []
    },
    "kernelspec": {
      "name": "python3",
      "display_name": "Python 3"
    },
    "language_info": {
      "name": "python"
    }
  },
  "cells": [
    {
      "cell_type": "code",
      "metadata": {
        "id": "K_BpGM_P-ZR1"
      },
      "source": [
        "import numpy as np # linear algebra\n",
        "import pandas as pd # data processing, CSV file I/O (e.g. pd.read_csv)\n",
        "import seaborn as sns \n",
        "import matplotlib.pyplot as plt\n"
      ],
      "execution_count": 1,
      "outputs": []
    },
    {
      "cell_type": "code",
      "metadata": {
        "colab": {
          "base_uri": "https://localhost:8080/"
        },
        "id": "0ZLnvoDc_Hm2",
        "outputId": "e5d01578-be63-4fb8-f2ec-fd9a5497ed3c"
      },
      "source": [
        "from google.colab import drive\n",
        "drive.mount('/content/gdrive')"
      ],
      "execution_count": 2,
      "outputs": [
        {
          "output_type": "stream",
          "name": "stdout",
          "text": [
            "Mounted at /content/gdrive\n"
          ]
        }
      ]
    },
    {
      "cell_type": "markdown",
      "metadata": {
        "id": "Tm2M95puzkH4"
      },
      "source": [
        "## This project will be an Exploratory Data Analysis on Netflix & Disney Plus Movies/Tv Shows dataset each obtained from Kaggle, along with my personal Netflix data acquired from Netflix Headquarters for a total of 3 different datasets. "
      ]
    },
    {
      "cell_type": "code",
      "metadata": {
        "id": "uGldpD1u_JCQ"
      },
      "source": [
        "df_netflix_main = pd.read_csv('/content/gdrive/My Drive/moviesdatasets/netflix_titles.csv')\n",
        "df_disney_main= pd.read_csv('/content/gdrive/My Drive/moviesdatasets/disney_plus_titles.csv')\n",
        "df_mynetflix_main = pd.read_csv('/content/gdrive/My Drive/moviesdatasets/ViewingActivity.csv')\n",
        "df_netflix = df_netflix_main.copy()\n",
        "df_disney = df_disney_main.copy()\n",
        "df_mynetflix = df_mynetflix_main.copy()"
      ],
      "execution_count": 4,
      "outputs": []
    },
    {
      "cell_type": "markdown",
      "metadata": {
        "id": "kHNABWjIHJBf"
      },
      "source": [
        "Take a quick peek at the data"
      ]
    },
    {
      "cell_type": "code",
      "metadata": {
        "colab": {
          "base_uri": "https://localhost:8080/",
          "height": 289
        },
        "id": "Au88oWpmAYQS",
        "outputId": "6e785de7-b95e-4394-dae1-be08879f96df"
      },
      "source": [
        "df_netflix.head()"
      ],
      "execution_count": 5,
      "outputs": [
        {
          "output_type": "execute_result",
          "data": {
            "text/html": [
              "<div>\n",
              "<style scoped>\n",
              "    .dataframe tbody tr th:only-of-type {\n",
              "        vertical-align: middle;\n",
              "    }\n",
              "\n",
              "    .dataframe tbody tr th {\n",
              "        vertical-align: top;\n",
              "    }\n",
              "\n",
              "    .dataframe thead th {\n",
              "        text-align: right;\n",
              "    }\n",
              "</style>\n",
              "<table border=\"1\" class=\"dataframe\">\n",
              "  <thead>\n",
              "    <tr style=\"text-align: right;\">\n",
              "      <th></th>\n",
              "      <th>show_id</th>\n",
              "      <th>type</th>\n",
              "      <th>title</th>\n",
              "      <th>director</th>\n",
              "      <th>cast</th>\n",
              "      <th>country</th>\n",
              "      <th>date_added</th>\n",
              "      <th>release_year</th>\n",
              "      <th>rating</th>\n",
              "      <th>duration</th>\n",
              "      <th>listed_in</th>\n",
              "      <th>description</th>\n",
              "    </tr>\n",
              "  </thead>\n",
              "  <tbody>\n",
              "    <tr>\n",
              "      <th>0</th>\n",
              "      <td>s1</td>\n",
              "      <td>Movie</td>\n",
              "      <td>Dick Johnson Is Dead</td>\n",
              "      <td>Kirsten Johnson</td>\n",
              "      <td>NaN</td>\n",
              "      <td>United States</td>\n",
              "      <td>September 25, 2021</td>\n",
              "      <td>2020</td>\n",
              "      <td>PG-13</td>\n",
              "      <td>90 min</td>\n",
              "      <td>Documentaries</td>\n",
              "      <td>As her father nears the end of his life, filmm...</td>\n",
              "    </tr>\n",
              "    <tr>\n",
              "      <th>1</th>\n",
              "      <td>s2</td>\n",
              "      <td>TV Show</td>\n",
              "      <td>Blood &amp; Water</td>\n",
              "      <td>NaN</td>\n",
              "      <td>Ama Qamata, Khosi Ngema, Gail Mabalane, Thaban...</td>\n",
              "      <td>South Africa</td>\n",
              "      <td>September 24, 2021</td>\n",
              "      <td>2021</td>\n",
              "      <td>TV-MA</td>\n",
              "      <td>2 Seasons</td>\n",
              "      <td>International TV Shows, TV Dramas, TV Mysteries</td>\n",
              "      <td>After crossing paths at a party, a Cape Town t...</td>\n",
              "    </tr>\n",
              "    <tr>\n",
              "      <th>2</th>\n",
              "      <td>s3</td>\n",
              "      <td>TV Show</td>\n",
              "      <td>Ganglands</td>\n",
              "      <td>Julien Leclercq</td>\n",
              "      <td>Sami Bouajila, Tracy Gotoas, Samuel Jouy, Nabi...</td>\n",
              "      <td>NaN</td>\n",
              "      <td>September 24, 2021</td>\n",
              "      <td>2021</td>\n",
              "      <td>TV-MA</td>\n",
              "      <td>1 Season</td>\n",
              "      <td>Crime TV Shows, International TV Shows, TV Act...</td>\n",
              "      <td>To protect his family from a powerful drug lor...</td>\n",
              "    </tr>\n",
              "    <tr>\n",
              "      <th>3</th>\n",
              "      <td>s4</td>\n",
              "      <td>TV Show</td>\n",
              "      <td>Jailbirds New Orleans</td>\n",
              "      <td>NaN</td>\n",
              "      <td>NaN</td>\n",
              "      <td>NaN</td>\n",
              "      <td>September 24, 2021</td>\n",
              "      <td>2021</td>\n",
              "      <td>TV-MA</td>\n",
              "      <td>1 Season</td>\n",
              "      <td>Docuseries, Reality TV</td>\n",
              "      <td>Feuds, flirtations and toilet talk go down amo...</td>\n",
              "    </tr>\n",
              "    <tr>\n",
              "      <th>4</th>\n",
              "      <td>s5</td>\n",
              "      <td>TV Show</td>\n",
              "      <td>Kota Factory</td>\n",
              "      <td>NaN</td>\n",
              "      <td>Mayur More, Jitendra Kumar, Ranjan Raj, Alam K...</td>\n",
              "      <td>India</td>\n",
              "      <td>September 24, 2021</td>\n",
              "      <td>2021</td>\n",
              "      <td>TV-MA</td>\n",
              "      <td>2 Seasons</td>\n",
              "      <td>International TV Shows, Romantic TV Shows, TV ...</td>\n",
              "      <td>In a city of coaching centers known to train I...</td>\n",
              "    </tr>\n",
              "  </tbody>\n",
              "</table>\n",
              "</div>"
            ],
            "text/plain": [
              "  show_id  ...                                        description\n",
              "0      s1  ...  As her father nears the end of his life, filmm...\n",
              "1      s2  ...  After crossing paths at a party, a Cape Town t...\n",
              "2      s3  ...  To protect his family from a powerful drug lor...\n",
              "3      s4  ...  Feuds, flirtations and toilet talk go down amo...\n",
              "4      s5  ...  In a city of coaching centers known to train I...\n",
              "\n",
              "[5 rows x 12 columns]"
            ]
          },
          "metadata": {},
          "execution_count": 5
        }
      ]
    },
    {
      "cell_type": "code",
      "metadata": {
        "id": "XXfkN-EQBKdN",
        "colab": {
          "base_uri": "https://localhost:8080/",
          "height": 289
        },
        "outputId": "b53030ff-d037-4ddf-b30b-b5e319f2fce1"
      },
      "source": [
        "df_disney.head()"
      ],
      "execution_count": 6,
      "outputs": [
        {
          "output_type": "execute_result",
          "data": {
            "text/html": [
              "<div>\n",
              "<style scoped>\n",
              "    .dataframe tbody tr th:only-of-type {\n",
              "        vertical-align: middle;\n",
              "    }\n",
              "\n",
              "    .dataframe tbody tr th {\n",
              "        vertical-align: top;\n",
              "    }\n",
              "\n",
              "    .dataframe thead th {\n",
              "        text-align: right;\n",
              "    }\n",
              "</style>\n",
              "<table border=\"1\" class=\"dataframe\">\n",
              "  <thead>\n",
              "    <tr style=\"text-align: right;\">\n",
              "      <th></th>\n",
              "      <th>show_id</th>\n",
              "      <th>type</th>\n",
              "      <th>title</th>\n",
              "      <th>director</th>\n",
              "      <th>cast</th>\n",
              "      <th>country</th>\n",
              "      <th>date_added</th>\n",
              "      <th>release_year</th>\n",
              "      <th>rating</th>\n",
              "      <th>duration</th>\n",
              "      <th>listed_in</th>\n",
              "      <th>description</th>\n",
              "    </tr>\n",
              "  </thead>\n",
              "  <tbody>\n",
              "    <tr>\n",
              "      <th>0</th>\n",
              "      <td>s1</td>\n",
              "      <td>Movie</td>\n",
              "      <td>A Spark Story</td>\n",
              "      <td>Jason Sterman, Leanne Dare</td>\n",
              "      <td>Apthon Corbin, Louis Gonzales</td>\n",
              "      <td>NaN</td>\n",
              "      <td>September 24, 2021</td>\n",
              "      <td>2021</td>\n",
              "      <td>TV-PG</td>\n",
              "      <td>88 min</td>\n",
              "      <td>Documentary</td>\n",
              "      <td>Two Pixar filmmakers strive to bring their uni...</td>\n",
              "    </tr>\n",
              "    <tr>\n",
              "      <th>1</th>\n",
              "      <td>s2</td>\n",
              "      <td>Movie</td>\n",
              "      <td>Spooky Buddies</td>\n",
              "      <td>Robert Vince</td>\n",
              "      <td>Tucker Albrizzi, Diedrich Bader, Ameko Eks Mas...</td>\n",
              "      <td>United States, Canada</td>\n",
              "      <td>September 24, 2021</td>\n",
              "      <td>2011</td>\n",
              "      <td>G</td>\n",
              "      <td>93 min</td>\n",
              "      <td>Comedy, Fantasy, Kids</td>\n",
              "      <td>The puppies go on a spooky adventure through a...</td>\n",
              "    </tr>\n",
              "    <tr>\n",
              "      <th>2</th>\n",
              "      <td>s3</td>\n",
              "      <td>Movie</td>\n",
              "      <td>The Fault in Our Stars</td>\n",
              "      <td>Josh Boone</td>\n",
              "      <td>Shailene Woodley, Ansel Elgort, Laura Dern, Sa...</td>\n",
              "      <td>United States</td>\n",
              "      <td>September 24, 2021</td>\n",
              "      <td>2014</td>\n",
              "      <td>PG-13</td>\n",
              "      <td>127 min</td>\n",
              "      <td>Coming of Age, Drama, Romance</td>\n",
              "      <td>Hazel and Gus share a love that sweeps them on...</td>\n",
              "    </tr>\n",
              "    <tr>\n",
              "      <th>3</th>\n",
              "      <td>s4</td>\n",
              "      <td>TV Show</td>\n",
              "      <td>Dog: Impossible</td>\n",
              "      <td>NaN</td>\n",
              "      <td>Matt Beisner</td>\n",
              "      <td>United States</td>\n",
              "      <td>September 22, 2021</td>\n",
              "      <td>2019</td>\n",
              "      <td>TV-PG</td>\n",
              "      <td>2 Seasons</td>\n",
              "      <td>Animals &amp; Nature, Docuseries, Family</td>\n",
              "      <td>Matt Beisner uses unique approaches to modifyi...</td>\n",
              "    </tr>\n",
              "    <tr>\n",
              "      <th>4</th>\n",
              "      <td>s5</td>\n",
              "      <td>TV Show</td>\n",
              "      <td>Spidey And His Amazing Friends</td>\n",
              "      <td>NaN</td>\n",
              "      <td>Benjamin Valic, Lily Sanfelippo, Jakari Fraser...</td>\n",
              "      <td>United States</td>\n",
              "      <td>September 22, 2021</td>\n",
              "      <td>2021</td>\n",
              "      <td>TV-Y</td>\n",
              "      <td>1 Season</td>\n",
              "      <td>Action-Adventure, Animation, Kids</td>\n",
              "      <td>Spidey teams up with pals to become The Spidey...</td>\n",
              "    </tr>\n",
              "  </tbody>\n",
              "</table>\n",
              "</div>"
            ],
            "text/plain": [
              "  show_id  ...                                        description\n",
              "0      s1  ...  Two Pixar filmmakers strive to bring their uni...\n",
              "1      s2  ...  The puppies go on a spooky adventure through a...\n",
              "2      s3  ...  Hazel and Gus share a love that sweeps them on...\n",
              "3      s4  ...  Matt Beisner uses unique approaches to modifyi...\n",
              "4      s5  ...  Spidey teams up with pals to become The Spidey...\n",
              "\n",
              "[5 rows x 12 columns]"
            ]
          },
          "metadata": {},
          "execution_count": 6
        }
      ]
    },
    {
      "cell_type": "code",
      "metadata": {
        "colab": {
          "base_uri": "https://localhost:8080/",
          "height": 204
        },
        "id": "WQvzjd4ryxKc",
        "outputId": "23fe7765-2139-4e76-878b-d97fa0aed293"
      },
      "source": [
        "df_mynetflix.head()"
      ],
      "execution_count": 7,
      "outputs": [
        {
          "output_type": "execute_result",
          "data": {
            "text/html": [
              "<div>\n",
              "<style scoped>\n",
              "    .dataframe tbody tr th:only-of-type {\n",
              "        vertical-align: middle;\n",
              "    }\n",
              "\n",
              "    .dataframe tbody tr th {\n",
              "        vertical-align: top;\n",
              "    }\n",
              "\n",
              "    .dataframe thead th {\n",
              "        text-align: right;\n",
              "    }\n",
              "</style>\n",
              "<table border=\"1\" class=\"dataframe\">\n",
              "  <thead>\n",
              "    <tr style=\"text-align: right;\">\n",
              "      <th></th>\n",
              "      <th>Profile Name</th>\n",
              "      <th>Start Time</th>\n",
              "      <th>Duration</th>\n",
              "      <th>Attributes</th>\n",
              "      <th>Title</th>\n",
              "      <th>Supplemental Video Type</th>\n",
              "      <th>Device Type</th>\n",
              "      <th>Bookmark</th>\n",
              "      <th>Latest Bookmark</th>\n",
              "      <th>Country</th>\n",
              "    </tr>\n",
              "  </thead>\n",
              "  <tbody>\n",
              "    <tr>\n",
              "      <th>0</th>\n",
              "      <td>Andy</td>\n",
              "      <td>2021-10-18 06:24:27</td>\n",
              "      <td>00:50:59</td>\n",
              "      <td>NaN</td>\n",
              "      <td>Squid Game: Season 1: One Lucky Day (Episode 9)</td>\n",
              "      <td>NaN</td>\n",
              "      <td>Apple iPhone XS Max (CDMA)</td>\n",
              "      <td>00:51:10</td>\n",
              "      <td>00:51:10</td>\n",
              "      <td>CA (Canada)</td>\n",
              "    </tr>\n",
              "    <tr>\n",
              "      <th>1</th>\n",
              "      <td>Andy</td>\n",
              "      <td>2021-10-18 05:56:33</td>\n",
              "      <td>00:27:54</td>\n",
              "      <td>NaN</td>\n",
              "      <td>Squid Game: Season 1: Front Man (Episode 8)</td>\n",
              "      <td>NaN</td>\n",
              "      <td>Apple iPhone XS Max (CDMA)</td>\n",
              "      <td>00:28:06</td>\n",
              "      <td>00:28:06</td>\n",
              "      <td>CA (Canada)</td>\n",
              "    </tr>\n",
              "    <tr>\n",
              "      <th>2</th>\n",
              "      <td>Andy</td>\n",
              "      <td>2021-10-18 05:10:38</td>\n",
              "      <td>00:45:53</td>\n",
              "      <td>NaN</td>\n",
              "      <td>Squid Game: Season 1: VIPS (Episode 7)</td>\n",
              "      <td>NaN</td>\n",
              "      <td>Apple iPhone XS Max (CDMA)</td>\n",
              "      <td>00:53:39</td>\n",
              "      <td>00:53:39</td>\n",
              "      <td>CA (Canada)</td>\n",
              "    </tr>\n",
              "    <tr>\n",
              "      <th>3</th>\n",
              "      <td>Andy</td>\n",
              "      <td>2021-10-18 05:09:16</td>\n",
              "      <td>00:00:54</td>\n",
              "      <td>NaN</td>\n",
              "      <td>Squid Game: Season 1: Gganbu (Episode 6)</td>\n",
              "      <td>NaN</td>\n",
              "      <td>Apple iPhone XS Max (CDMA)</td>\n",
              "      <td>00:57:16</td>\n",
              "      <td>00:57:16</td>\n",
              "      <td>CA (Canada)</td>\n",
              "    </tr>\n",
              "    <tr>\n",
              "      <th>4</th>\n",
              "      <td>Andy</td>\n",
              "      <td>2021-10-18 05:07:41</td>\n",
              "      <td>00:01:18</td>\n",
              "      <td>NaN</td>\n",
              "      <td>Squid Game: Season 1: VIPS (Episode 7)</td>\n",
              "      <td>NaN</td>\n",
              "      <td>Apple iPhone XS Max (CDMA)</td>\n",
              "      <td>00:07:45</td>\n",
              "      <td>Not latest view</td>\n",
              "      <td>CA (Canada)</td>\n",
              "    </tr>\n",
              "  </tbody>\n",
              "</table>\n",
              "</div>"
            ],
            "text/plain": [
              "  Profile Name           Start Time  ...  Latest Bookmark      Country\n",
              "0         Andy  2021-10-18 06:24:27  ...         00:51:10  CA (Canada)\n",
              "1         Andy  2021-10-18 05:56:33  ...         00:28:06  CA (Canada)\n",
              "2         Andy  2021-10-18 05:10:38  ...         00:53:39  CA (Canada)\n",
              "3         Andy  2021-10-18 05:09:16  ...         00:57:16  CA (Canada)\n",
              "4         Andy  2021-10-18 05:07:41  ...  Not latest view  CA (Canada)\n",
              "\n",
              "[5 rows x 10 columns]"
            ]
          },
          "metadata": {},
          "execution_count": 7
        }
      ]
    },
    {
      "cell_type": "markdown",
      "metadata": {
        "id": "YJE9bA8tHoGp"
      },
      "source": [
        "We notice the similarities in the two Kaggle datasets so we clean the two datasets together and the third dataset seperately."
      ]
    },
    {
      "cell_type": "markdown",
      "metadata": {
        "id": "QkOnoJZ9CGxb"
      },
      "source": [
        "# Data Cleaning - Kaggle Datasets\n"
      ]
    },
    {
      "cell_type": "markdown",
      "metadata": {
        "id": "gHSw4D5ICJDS"
      },
      "source": [
        "See how many null values there are for each column"
      ]
    },
    {
      "cell_type": "code",
      "metadata": {
        "colab": {
          "base_uri": "https://localhost:8080/"
        },
        "id": "Mwi_ufGtCGGs",
        "outputId": "fe5cf605-5248-4f8a-c8cc-21fa8b05bb6c"
      },
      "source": [
        "df_netflix.isna().sum()"
      ],
      "execution_count": 8,
      "outputs": [
        {
          "output_type": "execute_result",
          "data": {
            "text/plain": [
              "show_id            0\n",
              "type               0\n",
              "title              0\n",
              "director        2634\n",
              "cast             825\n",
              "country          831\n",
              "date_added        10\n",
              "release_year       0\n",
              "rating             4\n",
              "duration           3\n",
              "listed_in          0\n",
              "description        0\n",
              "dtype: int64"
            ]
          },
          "metadata": {},
          "execution_count": 8
        }
      ]
    },
    {
      "cell_type": "code",
      "metadata": {
        "colab": {
          "base_uri": "https://localhost:8080/"
        },
        "id": "7eSLpE2XsdEu",
        "outputId": "b0d98501-eff0-43e7-d48b-8bc535929784"
      },
      "source": [
        "df_disney.isna().sum()"
      ],
      "execution_count": 9,
      "outputs": [
        {
          "output_type": "execute_result",
          "data": {
            "text/plain": [
              "show_id           0\n",
              "type              0\n",
              "title             0\n",
              "director        440\n",
              "cast            174\n",
              "country         175\n",
              "date_added        3\n",
              "release_year      0\n",
              "rating            2\n",
              "duration          0\n",
              "listed_in         0\n",
              "description       0\n",
              "dtype: int64"
            ]
          },
          "metadata": {},
          "execution_count": 9
        }
      ]
    },
    {
      "cell_type": "markdown",
      "metadata": {
        "id": "Dr4t9Dq_C1JU"
      },
      "source": [
        "We can see that there are a lot of missing values for director, cast and country. They are names but we could possibly use them to rank the number of movies a director has filmed, for example. We replace the NaN values with \"Unknown\". As there are only an insignificant number of NA values for date added,rating,and duration, we may drop those rows."
      ]
    },
    {
      "cell_type": "markdown",
      "metadata": {
        "id": "Z8dNkceEGVBy"
      },
      "source": [
        "Get rid of rows with missing values for date added, rating and duration "
      ]
    },
    {
      "cell_type": "code",
      "metadata": {
        "id": "_DbfklqBGZPV"
      },
      "source": [
        "df_netflix = df_netflix.drop(df_netflix[df_netflix['date_added'].isna()].index)\n",
        "df_disney = df_disney.drop(df_disney[df_disney['date_added'].isna()].index)"
      ],
      "execution_count": 11,
      "outputs": []
    },
    {
      "cell_type": "code",
      "metadata": {
        "id": "UtdhGuc1FiLI"
      },
      "source": [
        "df_netflix = df_netflix.drop(df_netflix[df_netflix['rating'].isna()].index)\n",
        "df_disney = df_disney.drop(df_disney[df_disney['rating'].isna()].index)"
      ],
      "execution_count": 12,
      "outputs": []
    },
    {
      "cell_type": "code",
      "metadata": {
        "id": "21U0F31RGpV2"
      },
      "source": [
        "df_netflix = df_netflix.drop(df_netflix[df_netflix['duration'].isna()].index)"
      ],
      "execution_count": 14,
      "outputs": []
    },
    {
      "cell_type": "code",
      "metadata": {
        "colab": {
          "base_uri": "https://localhost:8080/"
        },
        "id": "l6G7VI_pGs8j",
        "outputId": "a90a6ae5-df7c-4b56-b12e-fbd7f0fa550d"
      },
      "source": [
        "df_netflix.isna().sum()"
      ],
      "execution_count": 15,
      "outputs": [
        {
          "output_type": "execute_result",
          "data": {
            "text/plain": [
              "show_id            0\n",
              "type               0\n",
              "title              0\n",
              "director        2621\n",
              "cast             825\n",
              "country          829\n",
              "date_added         0\n",
              "release_year       0\n",
              "rating             0\n",
              "duration           0\n",
              "listed_in          0\n",
              "description        0\n",
              "dtype: int64"
            ]
          },
          "metadata": {},
          "execution_count": 15
        }
      ]
    },
    {
      "cell_type": "code",
      "metadata": {
        "colab": {
          "base_uri": "https://localhost:8080/"
        },
        "id": "yaCwTgRSyYJB",
        "outputId": "19f7a5b7-e0a7-40e0-9035-6cb56e376840"
      },
      "source": [
        "df_disney.isna().sum()"
      ],
      "execution_count": 16,
      "outputs": [
        {
          "output_type": "execute_result",
          "data": {
            "text/plain": [
              "show_id           0\n",
              "type              0\n",
              "title             0\n",
              "director        436\n",
              "cast            173\n",
              "country         173\n",
              "date_added        0\n",
              "release_year      0\n",
              "rating            0\n",
              "duration          0\n",
              "listed_in         0\n",
              "description       0\n",
              "dtype: int64"
            ]
          },
          "metadata": {},
          "execution_count": 16
        }
      ]
    },
    {
      "cell_type": "markdown",
      "metadata": {
        "id": "0NocR5UcGw8g"
      },
      "source": [
        "The quantity of missing values are too high to drop the missing rows and quality of features are too important to drop columns. Instead we can just classify the NA's as \"Unknown\"."
      ]
    },
    {
      "cell_type": "code",
      "metadata": {
        "id": "9ZRVAVlfG8Vb"
      },
      "source": [
        "df_netflix['director'].fillna(\"Unknown\",inplace = True)\n",
        "df_netflix['cast'].fillna(\"Unknown\",inplace = True)\n",
        "df_netflix['country'].fillna(\"Unknown\",inplace = True)\n",
        "df_disney['director'].fillna(\"Unknown\",inplace = True)\n",
        "df_disney['cast'].fillna(\"Unknown\",inplace = True)\n",
        "df_disney['country'].fillna(\"Unknown\",inplace = True)"
      ],
      "execution_count": 17,
      "outputs": []
    },
    {
      "cell_type": "code",
      "metadata": {
        "colab": {
          "base_uri": "https://localhost:8080/"
        },
        "id": "vVcCc87WHxxv",
        "outputId": "deb1e97a-e9ab-4e7a-84fb-8d184cadb60a"
      },
      "source": [
        "df_netflix.isna().sum()"
      ],
      "execution_count": 18,
      "outputs": [
        {
          "output_type": "execute_result",
          "data": {
            "text/plain": [
              "show_id         0\n",
              "type            0\n",
              "title           0\n",
              "director        0\n",
              "cast            0\n",
              "country         0\n",
              "date_added      0\n",
              "release_year    0\n",
              "rating          0\n",
              "duration        0\n",
              "listed_in       0\n",
              "description     0\n",
              "dtype: int64"
            ]
          },
          "metadata": {},
          "execution_count": 18
        }
      ]
    },
    {
      "cell_type": "code",
      "metadata": {
        "colab": {
          "base_uri": "https://localhost:8080/"
        },
        "id": "g6bMoZGGzo5v",
        "outputId": "cc35219c-445a-4265-e2a0-f7520c18fd5f"
      },
      "source": [
        "df_disney.isna().sum()"
      ],
      "execution_count": 19,
      "outputs": [
        {
          "output_type": "execute_result",
          "data": {
            "text/plain": [
              "show_id         0\n",
              "type            0\n",
              "title           0\n",
              "director        0\n",
              "cast            0\n",
              "country         0\n",
              "date_added      0\n",
              "release_year    0\n",
              "rating          0\n",
              "duration        0\n",
              "listed_in       0\n",
              "description     0\n",
              "dtype: int64"
            ]
          },
          "metadata": {},
          "execution_count": 19
        }
      ]
    },
    {
      "cell_type": "markdown",
      "metadata": {
        "id": "XuDSCuvm0v7_"
      },
      "source": [
        "Now we see that there are no missing values for the Kaggle datasets."
      ]
    },
    {
      "cell_type": "markdown",
      "metadata": {
        "id": "aUnM_7u4AY_b"
      },
      "source": [
        "# Data Cleaning - Personal Data"
      ]
    },
    {
      "cell_type": "code",
      "metadata": {
        "colab": {
          "base_uri": "https://localhost:8080/"
        },
        "id": "YvFD7M3iAlah",
        "outputId": "89c7087e-1e4c-481d-de1f-34dd2a9254f8"
      },
      "source": [
        "df_mynetflix.isna().sum()"
      ],
      "execution_count": 20,
      "outputs": [
        {
          "output_type": "execute_result",
          "data": {
            "text/plain": [
              "Profile Name                   0\n",
              "Start Time                     0\n",
              "Duration                       0\n",
              "Attributes                  9221\n",
              "Title                          0\n",
              "Supplemental Video Type    12152\n",
              "Device Type                    0\n",
              "Bookmark                       0\n",
              "Latest Bookmark                0\n",
              "Country                        0\n",
              "dtype: int64"
            ]
          },
          "metadata": {},
          "execution_count": 20
        }
      ]
    },
    {
      "cell_type": "markdown",
      "metadata": {
        "id": "-dkvvXSNzhxr"
      },
      "source": [
        "For my personal dataset recieved by Netflix, we have missing values for Attributes and Supplemental Video Type. Attributes are whether a video was viewed through autoplay. Supplemental Video Type is whether a viewer watched the trailer or the Hook(auto playing trailers when hovering over title). We may safely remove those columns as we are mainly interested in the films that were actually watched. We may also drop Bookmark and Latest Bookmark, as it is severely correlated with duration of watch time because as soon as we turn off a video, Netflix automatically bookmarks the timestamp."
      ]
    },
    {
      "cell_type": "code",
      "metadata": {
        "colab": {
          "base_uri": "https://localhost:8080/",
          "height": 204
        },
        "id": "gMfULTP1ACzW",
        "outputId": "2a1dcf01-7198-48ef-ce86-ebbfb7bfa544"
      },
      "source": [
        "df_mynetflix = df_mynetflix.drop(['Attributes','Supplemental Video Type','Latest Bookmark','Bookmark'],axis = 1)\n",
        "\n",
        "df_mynetflix.head()"
      ],
      "execution_count": 21,
      "outputs": [
        {
          "output_type": "execute_result",
          "data": {
            "text/html": [
              "<div>\n",
              "<style scoped>\n",
              "    .dataframe tbody tr th:only-of-type {\n",
              "        vertical-align: middle;\n",
              "    }\n",
              "\n",
              "    .dataframe tbody tr th {\n",
              "        vertical-align: top;\n",
              "    }\n",
              "\n",
              "    .dataframe thead th {\n",
              "        text-align: right;\n",
              "    }\n",
              "</style>\n",
              "<table border=\"1\" class=\"dataframe\">\n",
              "  <thead>\n",
              "    <tr style=\"text-align: right;\">\n",
              "      <th></th>\n",
              "      <th>Profile Name</th>\n",
              "      <th>Start Time</th>\n",
              "      <th>Duration</th>\n",
              "      <th>Title</th>\n",
              "      <th>Device Type</th>\n",
              "      <th>Country</th>\n",
              "    </tr>\n",
              "  </thead>\n",
              "  <tbody>\n",
              "    <tr>\n",
              "      <th>0</th>\n",
              "      <td>Andy</td>\n",
              "      <td>2021-10-18 06:24:27</td>\n",
              "      <td>00:50:59</td>\n",
              "      <td>Squid Game: Season 1: One Lucky Day (Episode 9)</td>\n",
              "      <td>Apple iPhone XS Max (CDMA)</td>\n",
              "      <td>CA (Canada)</td>\n",
              "    </tr>\n",
              "    <tr>\n",
              "      <th>1</th>\n",
              "      <td>Andy</td>\n",
              "      <td>2021-10-18 05:56:33</td>\n",
              "      <td>00:27:54</td>\n",
              "      <td>Squid Game: Season 1: Front Man (Episode 8)</td>\n",
              "      <td>Apple iPhone XS Max (CDMA)</td>\n",
              "      <td>CA (Canada)</td>\n",
              "    </tr>\n",
              "    <tr>\n",
              "      <th>2</th>\n",
              "      <td>Andy</td>\n",
              "      <td>2021-10-18 05:10:38</td>\n",
              "      <td>00:45:53</td>\n",
              "      <td>Squid Game: Season 1: VIPS (Episode 7)</td>\n",
              "      <td>Apple iPhone XS Max (CDMA)</td>\n",
              "      <td>CA (Canada)</td>\n",
              "    </tr>\n",
              "    <tr>\n",
              "      <th>3</th>\n",
              "      <td>Andy</td>\n",
              "      <td>2021-10-18 05:09:16</td>\n",
              "      <td>00:00:54</td>\n",
              "      <td>Squid Game: Season 1: Gganbu (Episode 6)</td>\n",
              "      <td>Apple iPhone XS Max (CDMA)</td>\n",
              "      <td>CA (Canada)</td>\n",
              "    </tr>\n",
              "    <tr>\n",
              "      <th>4</th>\n",
              "      <td>Andy</td>\n",
              "      <td>2021-10-18 05:07:41</td>\n",
              "      <td>00:01:18</td>\n",
              "      <td>Squid Game: Season 1: VIPS (Episode 7)</td>\n",
              "      <td>Apple iPhone XS Max (CDMA)</td>\n",
              "      <td>CA (Canada)</td>\n",
              "    </tr>\n",
              "  </tbody>\n",
              "</table>\n",
              "</div>"
            ],
            "text/plain": [
              "  Profile Name           Start Time  ...                 Device Type      Country\n",
              "0         Andy  2021-10-18 06:24:27  ...  Apple iPhone XS Max (CDMA)  CA (Canada)\n",
              "1         Andy  2021-10-18 05:56:33  ...  Apple iPhone XS Max (CDMA)  CA (Canada)\n",
              "2         Andy  2021-10-18 05:10:38  ...  Apple iPhone XS Max (CDMA)  CA (Canada)\n",
              "3         Andy  2021-10-18 05:09:16  ...  Apple iPhone XS Max (CDMA)  CA (Canada)\n",
              "4         Andy  2021-10-18 05:07:41  ...  Apple iPhone XS Max (CDMA)  CA (Canada)\n",
              "\n",
              "[5 rows x 6 columns]"
            ]
          },
          "metadata": {},
          "execution_count": 21
        }
      ]
    },
    {
      "cell_type": "markdown",
      "metadata": {
        "id": "s3XAdkIYCO12"
      },
      "source": [
        "Now, We try to look for any incomplete values or any outliers."
      ]
    },
    {
      "cell_type": "code",
      "metadata": {
        "colab": {
          "base_uri": "https://localhost:8080/"
        },
        "id": "y80es0bpBZnK",
        "outputId": "6fbcf053-d648-4a4a-838b-3adff4fbdb04"
      },
      "source": [
        "df_mynetflix['Profile Name'].value_counts()"
      ],
      "execution_count": 22,
      "outputs": [
        {
          "output_type": "execute_result",
          "data": {
            "text/plain": [
              "Iris        7345\n",
              "나           3461\n",
              "Andy        3041\n",
              "youngjin     175\n",
              "Kids           9\n",
              "Name: Profile Name, dtype: int64"
            ]
          },
          "metadata": {},
          "execution_count": 22
        }
      ]
    },
    {
      "cell_type": "code",
      "metadata": {
        "colab": {
          "base_uri": "https://localhost:8080/"
        },
        "id": "phCOzHP_Crp9",
        "outputId": "9fbe0816-fd41-4ab6-827b-7b4f38deb6b9"
      },
      "source": [
        "df_mynetflix['Title'].value_counts()"
      ],
      "execution_count": 23,
      "outputs": [
        {
          "output_type": "execute_result",
          "data": {
            "text/plain": [
              "Superbad                                                         27\n",
              "Pineapple Express                                                24\n",
              "Zombieland                                                       23\n",
              "Inception                                                        19\n",
              "Charlie and the Chocolate Factory                                18\n",
              "                                                                 ..\n",
              "Season 1 Trailer: Shadow and Bone                                 1\n",
              "투 더 레이크: 시즌 1: 1화 (1화)                                            1\n",
              "Bob's Burgers: Season 3: Lindapendent Woman (Episode 14)          1\n",
              "Brooklyn Nine-Nine: Season 4: Coral Palms: Part 3 (Episode 3)     1\n",
              "Ginny & Georgia: Season 1: Feelings Are Hard (Episode 9)          1\n",
              "Name: Title, Length: 7089, dtype: int64"
            ]
          },
          "metadata": {},
          "execution_count": 23
        }
      ]
    },
    {
      "cell_type": "markdown",
      "metadata": {
        "id": "ifEvG03uC0pe"
      },
      "source": [
        "Looks like one user has the language settings to Korean, and therefore there are inconsistencies in the data. Due to these complications, we have no choice but to drop the Korean account."
      ]
    },
    {
      "cell_type": "code",
      "metadata": {
        "colab": {
          "base_uri": "https://localhost:8080/"
        },
        "id": "Bsn7y8krDRri",
        "outputId": "fe47bd59-ee0b-42fe-f970-d83e5cb8abaf"
      },
      "source": [
        "df_mynetflix = df_mynetflix.drop(df_mynetflix[df_mynetflix['Profile Name'] == '나'].index)\n",
        "df_mynetflix['Profile Name'].value_counts()"
      ],
      "execution_count": 24,
      "outputs": [
        {
          "output_type": "execute_result",
          "data": {
            "text/plain": [
              "Iris        7345\n",
              "Andy        3041\n",
              "youngjin     175\n",
              "Kids           9\n",
              "Name: Profile Name, dtype: int64"
            ]
          },
          "metadata": {},
          "execution_count": 24
        }
      ]
    },
    {
      "cell_type": "markdown",
      "metadata": {
        "id": "lJTLHDO100aw"
      },
      "source": [
        "# Changing to appropriate data types"
      ]
    },
    {
      "cell_type": "markdown",
      "metadata": {
        "id": "-6yV41ocJeMm"
      },
      "source": [
        "In this section, we change the datatypes of appropriate columns to category"
      ]
    },
    {
      "cell_type": "code",
      "metadata": {
        "colab": {
          "base_uri": "https://localhost:8080/"
        },
        "id": "WFLi8c2kzry8",
        "outputId": "611a3045-7d96-4891-ff12-a19cc019d8b2"
      },
      "source": [
        "df_netflix.info()"
      ],
      "execution_count": 26,
      "outputs": [
        {
          "output_type": "stream",
          "name": "stdout",
          "text": [
            "<class 'pandas.core.frame.DataFrame'>\n",
            "Int64Index: 8790 entries, 0 to 8806\n",
            "Data columns (total 12 columns):\n",
            " #   Column        Non-Null Count  Dtype \n",
            "---  ------        --------------  ----- \n",
            " 0   show_id       8790 non-null   object\n",
            " 1   type          8790 non-null   object\n",
            " 2   title         8790 non-null   object\n",
            " 3   director      8790 non-null   object\n",
            " 4   cast          8790 non-null   object\n",
            " 5   country       8790 non-null   object\n",
            " 6   date_added    8790 non-null   object\n",
            " 7   release_year  8790 non-null   int64 \n",
            " 8   rating        8790 non-null   object\n",
            " 9   duration      8790 non-null   object\n",
            " 10  listed_in     8790 non-null   object\n",
            " 11  description   8790 non-null   object\n",
            "dtypes: int64(1), object(11)\n",
            "memory usage: 892.7+ KB\n"
          ]
        }
      ]
    },
    {
      "cell_type": "code",
      "metadata": {
        "colab": {
          "base_uri": "https://localhost:8080/"
        },
        "id": "Qf1ZTNYu0IDr",
        "outputId": "96a954bd-c416-477e-fc4d-2ce2da36ee2a"
      },
      "source": [
        "df_disney.info()"
      ],
      "execution_count": 27,
      "outputs": [
        {
          "output_type": "stream",
          "name": "stdout",
          "text": [
            "<class 'pandas.core.frame.DataFrame'>\n",
            "Int64Index: 1363 entries, 0 to 1364\n",
            "Data columns (total 12 columns):\n",
            " #   Column        Non-Null Count  Dtype \n",
            "---  ------        --------------  ----- \n",
            " 0   show_id       1363 non-null   object\n",
            " 1   type          1363 non-null   object\n",
            " 2   title         1363 non-null   object\n",
            " 3   director      1363 non-null   object\n",
            " 4   cast          1363 non-null   object\n",
            " 5   country       1363 non-null   object\n",
            " 6   date_added    1363 non-null   object\n",
            " 7   release_year  1363 non-null   int64 \n",
            " 8   rating        1363 non-null   object\n",
            " 9   duration      1363 non-null   object\n",
            " 10  listed_in     1363 non-null   object\n",
            " 11  description   1363 non-null   object\n",
            "dtypes: int64(1), object(11)\n",
            "memory usage: 138.4+ KB\n"
          ]
        }
      ]
    },
    {
      "cell_type": "code",
      "metadata": {
        "colab": {
          "base_uri": "https://localhost:8080/"
        },
        "id": "tY2owKcNEld_",
        "outputId": "4e1917fc-b0ab-4b85-88da-30211f21a906"
      },
      "source": [
        "df_mynetflix.info()"
      ],
      "execution_count": 28,
      "outputs": [
        {
          "output_type": "stream",
          "name": "stdout",
          "text": [
            "<class 'pandas.core.frame.DataFrame'>\n",
            "Int64Index: 10570 entries, 0 to 10569\n",
            "Data columns (total 6 columns):\n",
            " #   Column        Non-Null Count  Dtype \n",
            "---  ------        --------------  ----- \n",
            " 0   Profile Name  10570 non-null  object\n",
            " 1   Start Time    10570 non-null  object\n",
            " 2   Duration      10570 non-null  object\n",
            " 3   Title         10570 non-null  object\n",
            " 4   Device Type   10570 non-null  object\n",
            " 5   Country       10570 non-null  object\n",
            "dtypes: object(6)\n",
            "memory usage: 578.0+ KB\n"
          ]
        }
      ]
    },
    {
      "cell_type": "code",
      "metadata": {
        "id": "mj-TRfkU1907"
      },
      "source": [
        "df_netflix['rating'] = df_netflix['rating'].astype('category')\n",
        "df_disney['rating'] = df_disney['rating'].astype('category')\n",
        "df_mynetflix['Profile Name'] = df_mynetflix['Profile Name'].astype('category')\n",
        "df_mynetflix['Device Type'] = df_mynetflix['Device Type'].astype('category')\n",
        "df_mynetflix['Country'] = df_mynetflix['Country'].astype('category')\n"
      ],
      "execution_count": 29,
      "outputs": []
    },
    {
      "cell_type": "markdown",
      "metadata": {
        "id": "0W07-eAiIYyi"
      },
      "source": [
        "# Feature Engineering - Kaggle Dataset"
      ]
    },
    {
      "cell_type": "markdown",
      "metadata": {
        "id": "MLyng3ryIucL"
      },
      "source": [
        "Extract year and month of when it was added as new columns from the dates added column "
      ]
    },
    {
      "cell_type": "code",
      "metadata": {
        "id": "Qws3yqkUIXgi"
      },
      "source": [
        "df_netflix['year_added'] = df_netflix['date_added'].apply(lambda x: x.split(\" \")[-1])\n",
        "df_netflix['month_added'] = df_netflix['date_added'].apply(lambda x: x.split(\" \")[0])\n",
        "\n",
        "df_disney['year_added'] = df_disney['date_added'].apply(lambda x: x.split(\" \")[-1])\n",
        "df_disney['month_added'] = df_disney['date_added'].apply(lambda x: x.split(\" \")[0])\n"
      ],
      "execution_count": 31,
      "outputs": []
    },
    {
      "cell_type": "markdown",
      "metadata": {
        "id": "TZP_fGggJ9Rp"
      },
      "source": [
        "Can maybe extract another feature with number of genres the movie/tv show is listed in"
      ]
    },
    {
      "cell_type": "code",
      "metadata": {
        "id": "dTltgRirJ4eu"
      },
      "source": [
        "df_netflix['num_genres'] = df_netflix['listed_in'].apply(lambda x: len(x.split(\",\")))\n",
        "df_disney['num_genres'] = df_disney['listed_in'].apply(lambda x: len(x.split(\",\")))\n"
      ],
      "execution_count": 32,
      "outputs": []
    },
    {
      "cell_type": "markdown",
      "metadata": {
        "id": "p-IMQe5eZOyy"
      },
      "source": [
        "Can extract another feature with the number of seasons. If its a movie with no seasons, then we would set it to 0"
      ]
    },
    {
      "cell_type": "code",
      "metadata": {
        "id": "j1PpKnjCYvSC"
      },
      "source": [
        "df_netflix['num_seasons'] = df_netflix['duration'].apply(lambda x: x.split(\" \")[0] if (x.split(\" \")[-1] == \"Seasons\" or x.split(\" \")[-1] == \"Season\") else 0)\n",
        "df_disney['num_seasons'] = df_disney['duration'].apply(lambda x: x.split(\" \")[0] if (x.split(\" \")[-1] == \"Seasons\" or x.split(\" \")[-1] == \"Season\") else 0)\n"
      ],
      "execution_count": 33,
      "outputs": []
    },
    {
      "cell_type": "markdown",
      "metadata": {
        "id": "ycI7DpWVMGhL"
      },
      "source": [
        "We can also split the duration into chunks like 100 min or less, more than 100 minutes, 5 seasons or less, and more than 5 seasons. The duration variable is better off splitting it into sections due to the varying number of movie duration. Computationally expensive to make different dummies for all different movie durations."
      ]
    },
    {
      "cell_type": "code",
      "metadata": {
        "id": "nHn96DVZKujc"
      },
      "source": [
        "df_netflix['duration'] = df_netflix['duration'].apply(lambda x: \"5 Seasons or Less\" if ((x.split(\" \")[-1] == \"Seasons\" or x.split(\" \")[-1] == \"Season\") and (int(x.split(\" \")[0])) <= 5) else x)\n",
        "df_netflix['duration'] = df_netflix['duration'].apply(lambda x: \"More than 5 Seasons\" if (x.split(\" \")[-1] == \"Seasons\" or x.split(\" \")[-1] == \"Season\") and (int(x.split(\" \")[0]) > 5) else x)\n",
        "df_netflix['duration'] = df_netflix['duration'].apply(lambda x: \"50 minutes or less\" if (x.split(\" \")[-1] == \"min\") and (int(x.split(\" \")[0]) <= 50) else x)\n",
        "df_netflix['duration'] = df_netflix['duration'].apply(lambda x: \"Between 50 mins and 100 mins\" if (x.split(\" \")[-1] == \"min\") and ((int(x.split(\" \")[0]) > 50) and (int(x.split(\" \")[0]) <= 100)) else x)\n",
        "df_netflix['duration'] = df_netflix['duration'].apply(lambda x: \"Between 100 mins and 150 mins\" if (x.split(\" \")[-1] == \"min\") and ((int(x.split(\" \")[0]) > 100) and (int(x.split(\" \")[0]) <= 150)) else x)\n",
        "df_netflix['duration'] = df_netflix['duration'].apply(lambda x: \"More than 150 minutes\" if (x.split(\" \")[-1] == \"min\") and (int(x.split(\" \")[0]) > 150)else x)\n",
        "\n",
        "df_disney['duration'] = df_disney['duration'].apply(lambda x: \"5 Seasons or Less\" if ((x.split(\" \")[-1] == \"Seasons\" or x.split(\" \")[-1] == \"Season\") and (int(x.split(\" \")[0])) <= 5) else x)\n",
        "df_disney['duration'] = df_disney['duration'].apply(lambda x: \"More than 5 Seasons\" if (x.split(\" \")[-1] == \"Seasons\" or x.split(\" \")[-1] == \"Season\") and (int(x.split(\" \")[0]) > 5) else x)\n",
        "df_disney['duration'] = df_disney['duration'].apply(lambda x: \"50 minutes or less\" if (x.split(\" \")[-1] == \"min\") and (int(x.split(\" \")[0]) <= 50) else x)\n",
        "df_disney['duration'] = df_disney['duration'].apply(lambda x: \"Between 50 mins and 100 mins\" if (x.split(\" \")[-1] == \"min\") and ((int(x.split(\" \")[0]) > 50) and (int(x.split(\" \")[0]) <= 100)) else x)\n",
        "df_disney['duration'] = df_disney['duration'].apply(lambda x: \"Between 100 mins and 150 mins\" if (x.split(\" \")[-1] == \"min\") and ((int(x.split(\" \")[0]) > 100) and (int(x.split(\" \")[0]) <= 150)) else x)\n",
        "df_disney['duration'] = df_disney['duration'].apply(lambda x: \"More than 150 minutes\" if (x.split(\" \")[-1] == \"min\") and (int(x.split(\" \")[0]) > 150)else x)\n"
      ],
      "execution_count": 34,
      "outputs": []
    },
    {
      "cell_type": "markdown",
      "metadata": {
        "id": "DdeE9ztH7JwC"
      },
      "source": [
        "We can also add another feature for number of casts as it might be useful for analysis."
      ]
    },
    {
      "cell_type": "code",
      "metadata": {
        "colab": {
          "base_uri": "https://localhost:8080/",
          "height": 374
        },
        "id": "fiumn0Br7Squ",
        "outputId": "a16b334e-4bb4-49fc-a94f-1ab790d01394"
      },
      "source": [
        "df_netflix['num_cast'] = df_netflix['cast'].apply(lambda x: len(x.split(\",\")) if x != \"Unknown\" else 0)\n",
        "df_disney['num_cast'] = df_disney['cast'].apply(lambda x: len(x.split(\",\")) if x != \"Unknown\" else 0)\n",
        "df_disney.head()"
      ],
      "execution_count": 35,
      "outputs": [
        {
          "output_type": "execute_result",
          "data": {
            "text/html": [
              "<div>\n",
              "<style scoped>\n",
              "    .dataframe tbody tr th:only-of-type {\n",
              "        vertical-align: middle;\n",
              "    }\n",
              "\n",
              "    .dataframe tbody tr th {\n",
              "        vertical-align: top;\n",
              "    }\n",
              "\n",
              "    .dataframe thead th {\n",
              "        text-align: right;\n",
              "    }\n",
              "</style>\n",
              "<table border=\"1\" class=\"dataframe\">\n",
              "  <thead>\n",
              "    <tr style=\"text-align: right;\">\n",
              "      <th></th>\n",
              "      <th>show_id</th>\n",
              "      <th>type</th>\n",
              "      <th>title</th>\n",
              "      <th>director</th>\n",
              "      <th>cast</th>\n",
              "      <th>country</th>\n",
              "      <th>date_added</th>\n",
              "      <th>release_year</th>\n",
              "      <th>rating</th>\n",
              "      <th>duration</th>\n",
              "      <th>listed_in</th>\n",
              "      <th>description</th>\n",
              "      <th>year_added</th>\n",
              "      <th>month_added</th>\n",
              "      <th>num_genres</th>\n",
              "      <th>num_seasons</th>\n",
              "      <th>num_cast</th>\n",
              "    </tr>\n",
              "  </thead>\n",
              "  <tbody>\n",
              "    <tr>\n",
              "      <th>0</th>\n",
              "      <td>s1</td>\n",
              "      <td>Movie</td>\n",
              "      <td>A Spark Story</td>\n",
              "      <td>Jason Sterman, Leanne Dare</td>\n",
              "      <td>Apthon Corbin, Louis Gonzales</td>\n",
              "      <td>Unknown</td>\n",
              "      <td>September 24, 2021</td>\n",
              "      <td>2021</td>\n",
              "      <td>TV-PG</td>\n",
              "      <td>Between 50 mins and 100 mins</td>\n",
              "      <td>Documentary</td>\n",
              "      <td>Two Pixar filmmakers strive to bring their uni...</td>\n",
              "      <td>2021</td>\n",
              "      <td>September</td>\n",
              "      <td>1</td>\n",
              "      <td>0</td>\n",
              "      <td>2</td>\n",
              "    </tr>\n",
              "    <tr>\n",
              "      <th>1</th>\n",
              "      <td>s2</td>\n",
              "      <td>Movie</td>\n",
              "      <td>Spooky Buddies</td>\n",
              "      <td>Robert Vince</td>\n",
              "      <td>Tucker Albrizzi, Diedrich Bader, Ameko Eks Mas...</td>\n",
              "      <td>United States, Canada</td>\n",
              "      <td>September 24, 2021</td>\n",
              "      <td>2011</td>\n",
              "      <td>G</td>\n",
              "      <td>Between 50 mins and 100 mins</td>\n",
              "      <td>Comedy, Fantasy, Kids</td>\n",
              "      <td>The puppies go on a spooky adventure through a...</td>\n",
              "      <td>2021</td>\n",
              "      <td>September</td>\n",
              "      <td>3</td>\n",
              "      <td>0</td>\n",
              "      <td>6</td>\n",
              "    </tr>\n",
              "    <tr>\n",
              "      <th>2</th>\n",
              "      <td>s3</td>\n",
              "      <td>Movie</td>\n",
              "      <td>The Fault in Our Stars</td>\n",
              "      <td>Josh Boone</td>\n",
              "      <td>Shailene Woodley, Ansel Elgort, Laura Dern, Sa...</td>\n",
              "      <td>United States</td>\n",
              "      <td>September 24, 2021</td>\n",
              "      <td>2014</td>\n",
              "      <td>PG-13</td>\n",
              "      <td>Between 100 mins and 150 mins</td>\n",
              "      <td>Coming of Age, Drama, Romance</td>\n",
              "      <td>Hazel and Gus share a love that sweeps them on...</td>\n",
              "      <td>2021</td>\n",
              "      <td>September</td>\n",
              "      <td>3</td>\n",
              "      <td>0</td>\n",
              "      <td>6</td>\n",
              "    </tr>\n",
              "    <tr>\n",
              "      <th>3</th>\n",
              "      <td>s4</td>\n",
              "      <td>TV Show</td>\n",
              "      <td>Dog: Impossible</td>\n",
              "      <td>Unknown</td>\n",
              "      <td>Matt Beisner</td>\n",
              "      <td>United States</td>\n",
              "      <td>September 22, 2021</td>\n",
              "      <td>2019</td>\n",
              "      <td>TV-PG</td>\n",
              "      <td>5 Seasons or Less</td>\n",
              "      <td>Animals &amp; Nature, Docuseries, Family</td>\n",
              "      <td>Matt Beisner uses unique approaches to modifyi...</td>\n",
              "      <td>2021</td>\n",
              "      <td>September</td>\n",
              "      <td>3</td>\n",
              "      <td>2</td>\n",
              "      <td>1</td>\n",
              "    </tr>\n",
              "    <tr>\n",
              "      <th>4</th>\n",
              "      <td>s5</td>\n",
              "      <td>TV Show</td>\n",
              "      <td>Spidey And His Amazing Friends</td>\n",
              "      <td>Unknown</td>\n",
              "      <td>Benjamin Valic, Lily Sanfelippo, Jakari Fraser...</td>\n",
              "      <td>United States</td>\n",
              "      <td>September 22, 2021</td>\n",
              "      <td>2021</td>\n",
              "      <td>TV-Y</td>\n",
              "      <td>5 Seasons or Less</td>\n",
              "      <td>Action-Adventure, Animation, Kids</td>\n",
              "      <td>Spidey teams up with pals to become The Spidey...</td>\n",
              "      <td>2021</td>\n",
              "      <td>September</td>\n",
              "      <td>3</td>\n",
              "      <td>1</td>\n",
              "      <td>5</td>\n",
              "    </tr>\n",
              "  </tbody>\n",
              "</table>\n",
              "</div>"
            ],
            "text/plain": [
              "  show_id     type  ... num_seasons num_cast\n",
              "0      s1    Movie  ...           0        2\n",
              "1      s2    Movie  ...           0        6\n",
              "2      s3    Movie  ...           0        6\n",
              "3      s4  TV Show  ...           2        1\n",
              "4      s5  TV Show  ...           1        5\n",
              "\n",
              "[5 rows x 17 columns]"
            ]
          },
          "metadata": {},
          "execution_count": 35
        }
      ]
    },
    {
      "cell_type": "markdown",
      "metadata": {
        "id": "_NBOCjjqFIG8"
      },
      "source": [
        "# Feature Engineering - Personal Dataset\n"
      ]
    },
    {
      "cell_type": "code",
      "metadata": {
        "colab": {
          "base_uri": "https://localhost:8080/",
          "height": 204
        },
        "id": "dqG4VhXlFVeT",
        "outputId": "198ceb4a-4244-415f-8c26-4c63ff4a89e2"
      },
      "source": [
        "df_mynetflix.head()"
      ],
      "execution_count": 36,
      "outputs": [
        {
          "output_type": "execute_result",
          "data": {
            "text/html": [
              "<div>\n",
              "<style scoped>\n",
              "    .dataframe tbody tr th:only-of-type {\n",
              "        vertical-align: middle;\n",
              "    }\n",
              "\n",
              "    .dataframe tbody tr th {\n",
              "        vertical-align: top;\n",
              "    }\n",
              "\n",
              "    .dataframe thead th {\n",
              "        text-align: right;\n",
              "    }\n",
              "</style>\n",
              "<table border=\"1\" class=\"dataframe\">\n",
              "  <thead>\n",
              "    <tr style=\"text-align: right;\">\n",
              "      <th></th>\n",
              "      <th>Profile Name</th>\n",
              "      <th>Start Time</th>\n",
              "      <th>Duration</th>\n",
              "      <th>Title</th>\n",
              "      <th>Device Type</th>\n",
              "      <th>Country</th>\n",
              "    </tr>\n",
              "  </thead>\n",
              "  <tbody>\n",
              "    <tr>\n",
              "      <th>0</th>\n",
              "      <td>Andy</td>\n",
              "      <td>2021-10-18 06:24:27</td>\n",
              "      <td>00:50:59</td>\n",
              "      <td>Squid Game: Season 1: One Lucky Day (Episode 9)</td>\n",
              "      <td>Apple iPhone XS Max (CDMA)</td>\n",
              "      <td>CA (Canada)</td>\n",
              "    </tr>\n",
              "    <tr>\n",
              "      <th>1</th>\n",
              "      <td>Andy</td>\n",
              "      <td>2021-10-18 05:56:33</td>\n",
              "      <td>00:27:54</td>\n",
              "      <td>Squid Game: Season 1: Front Man (Episode 8)</td>\n",
              "      <td>Apple iPhone XS Max (CDMA)</td>\n",
              "      <td>CA (Canada)</td>\n",
              "    </tr>\n",
              "    <tr>\n",
              "      <th>2</th>\n",
              "      <td>Andy</td>\n",
              "      <td>2021-10-18 05:10:38</td>\n",
              "      <td>00:45:53</td>\n",
              "      <td>Squid Game: Season 1: VIPS (Episode 7)</td>\n",
              "      <td>Apple iPhone XS Max (CDMA)</td>\n",
              "      <td>CA (Canada)</td>\n",
              "    </tr>\n",
              "    <tr>\n",
              "      <th>3</th>\n",
              "      <td>Andy</td>\n",
              "      <td>2021-10-18 05:09:16</td>\n",
              "      <td>00:00:54</td>\n",
              "      <td>Squid Game: Season 1: Gganbu (Episode 6)</td>\n",
              "      <td>Apple iPhone XS Max (CDMA)</td>\n",
              "      <td>CA (Canada)</td>\n",
              "    </tr>\n",
              "    <tr>\n",
              "      <th>4</th>\n",
              "      <td>Andy</td>\n",
              "      <td>2021-10-18 05:07:41</td>\n",
              "      <td>00:01:18</td>\n",
              "      <td>Squid Game: Season 1: VIPS (Episode 7)</td>\n",
              "      <td>Apple iPhone XS Max (CDMA)</td>\n",
              "      <td>CA (Canada)</td>\n",
              "    </tr>\n",
              "  </tbody>\n",
              "</table>\n",
              "</div>"
            ],
            "text/plain": [
              "  Profile Name           Start Time  ...                 Device Type      Country\n",
              "0         Andy  2021-10-18 06:24:27  ...  Apple iPhone XS Max (CDMA)  CA (Canada)\n",
              "1         Andy  2021-10-18 05:56:33  ...  Apple iPhone XS Max (CDMA)  CA (Canada)\n",
              "2         Andy  2021-10-18 05:10:38  ...  Apple iPhone XS Max (CDMA)  CA (Canada)\n",
              "3         Andy  2021-10-18 05:09:16  ...  Apple iPhone XS Max (CDMA)  CA (Canada)\n",
              "4         Andy  2021-10-18 05:07:41  ...  Apple iPhone XS Max (CDMA)  CA (Canada)\n",
              "\n",
              "[5 rows x 6 columns]"
            ]
          },
          "metadata": {},
          "execution_count": 36
        }
      ]
    },
    {
      "cell_type": "markdown",
      "metadata": {
        "id": "rEXAguo6FnV5"
      },
      "source": [
        "We can add columns for Start Year, Start Month, Start Hour, Device Brand, and can modify Duration into sections :less than 30 minutes, between 30 minutes and 1 hour, more than 1 hour  "
      ]
    },
    {
      "cell_type": "code",
      "metadata": {
        "id": "IVcS5JTqGzl2"
      },
      "source": [
        "df_mynetflix['Start Year'] = df_mynetflix['Start Time'].apply(lambda x: x.split(\" \")[0].split(\"-\")[0])\n",
        "df_mynetflix['Start Month'] = df_mynetflix['Start Time'].apply(lambda x: x.split(\" \")[0].split(\"-\")[1])\n",
        "df_mynetflix['Start Hour'] = df_mynetflix['Start Time'].apply(lambda x: x.split(\" \")[1].split(\"-\")[0].split(\":\")[0])"
      ],
      "execution_count": 37,
      "outputs": []
    },
    {
      "cell_type": "markdown",
      "metadata": {
        "id": "OZLuMX1PIly7"
      },
      "source": [
        "Now, we can relabel the month in numbers to the month names, and can convert start hour to AM/PM"
      ]
    },
    {
      "cell_type": "code",
      "metadata": {
        "id": "yRA_uSKQIUzl"
      },
      "source": [
        "months = {'01': 'January', '02': 'Feburary', '03': 'March', '04': 'April', '05': 'May', '06': 'June', '07': 'July', '08': 'August', '09': 'September', '10': 'October', '11': 'November', '12': 'December'}\n",
        "df_mynetflix['Start Month'] = df_mynetflix['Start Month'].map(months)"
      ],
      "execution_count": 38,
      "outputs": []
    },
    {
      "cell_type": "markdown",
      "metadata": {
        "id": "0WAVQ8ezKUlp"
      },
      "source": [
        "Double check to see if all months were converted correctly"
      ]
    },
    {
      "cell_type": "code",
      "metadata": {
        "colab": {
          "base_uri": "https://localhost:8080/"
        },
        "id": "UnxB3fNpKUOZ",
        "outputId": "eacd14af-4d5f-4f11-f547-4ce1464fc168"
      },
      "source": [
        "df_mynetflix['Start Month'].value_counts()"
      ],
      "execution_count": 39,
      "outputs": [
        {
          "output_type": "execute_result",
          "data": {
            "text/plain": [
              "August       1210\n",
              "October      1138\n",
              "July         1052\n",
              "September     968\n",
              "April         888\n",
              "Feburary      879\n",
              "January       865\n",
              "March         812\n",
              "June          771\n",
              "December      767\n",
              "November      622\n",
              "May           598\n",
              "Name: Start Month, dtype: int64"
            ]
          },
          "metadata": {},
          "execution_count": 39
        }
      ]
    },
    {
      "cell_type": "code",
      "metadata": {
        "id": "_peUkSFgKedY"
      },
      "source": [
        "hours = {'00': '12:00AM','01':'1:00AM' ,'02': '2:00AM', '03': '3:00AM', '04': '4:00AM', '05': '5:00AM', '06': '6:00AM', '07': '7:00AM', '08': '8:00AM', '09': '9:00AM', '10': '10:00AM', '11': '11:00AM', '12': '12:00PM',\n",
        "          '13': '1:00PM','14': '2:00PM','15': '3:00PM','16': '4:00PM','17': '5:00PM','18': '6:00PM','19': '7:00PM','20': '8:00PM','21': '9:00PM','22': '10:00PM','23': '11:00PM'}\n",
        "df_mynetflix['Start Hour'] = df_mynetflix['Start Hour'].map(hours)"
      ],
      "execution_count": 40,
      "outputs": []
    },
    {
      "cell_type": "markdown",
      "metadata": {
        "id": "LZGVUGi5KLD6"
      },
      "source": [
        "Again, check if conversion was successful"
      ]
    },
    {
      "cell_type": "code",
      "metadata": {
        "colab": {
          "base_uri": "https://localhost:8080/"
        },
        "id": "MiHdUgvIL4Aj",
        "outputId": "c5108291-1817-467d-8a7c-2c0eacce37b8"
      },
      "source": [
        "df_mynetflix['Start Hour'].value_counts()"
      ],
      "execution_count": 41,
      "outputs": [
        {
          "output_type": "execute_result",
          "data": {
            "text/plain": [
              "5:00AM     777\n",
              "4:00AM     762\n",
              "1:00AM     749\n",
              "2:00AM     747\n",
              "3:00AM     717\n",
              "6:00AM     663\n",
              "12:00AM    624\n",
              "11:00PM    579\n",
              "10:00PM    492\n",
              "9:00PM     473\n",
              "7:00AM     468\n",
              "4:00PM     460\n",
              "8:00PM     410\n",
              "5:00PM     379\n",
              "3:00PM     365\n",
              "2:00PM     335\n",
              "6:00PM     307\n",
              "7:00PM     298\n",
              "8:00AM     266\n",
              "1:00PM     232\n",
              "9:00AM     163\n",
              "12:00PM    137\n",
              "11:00AM     94\n",
              "10:00AM     73\n",
              "Name: Start Hour, dtype: int64"
            ]
          },
          "metadata": {},
          "execution_count": 41
        }
      ]
    },
    {
      "cell_type": "markdown",
      "metadata": {
        "id": "EtkYToIMSQwL"
      },
      "source": [
        "Since we extracted all the useful informations from the Start Time column, it is no longer useful. We can drop Start Time column."
      ]
    },
    {
      "cell_type": "code",
      "metadata": {
        "id": "qbmo0KM5SQK4"
      },
      "source": [
        "df_mynetflix = df_mynetflix.drop(['Start Time'], axis = 1)"
      ],
      "execution_count": 42,
      "outputs": []
    },
    {
      "cell_type": "markdown",
      "metadata": {
        "id": "RZk7cXQoS6S6"
      },
      "source": [
        "We can now extract the device brand from the Device Type column."
      ]
    },
    {
      "cell_type": "code",
      "metadata": {
        "colab": {
          "base_uri": "https://localhost:8080/"
        },
        "id": "FPHp9eupTC5M",
        "outputId": "657be113-ff8b-454c-e2e8-ca6b6f6d4f87"
      },
      "source": [
        "df_mynetflix['Device Brand'] = df_mynetflix['Device Type'].apply(lambda x: x.split(\" \")[0])\n",
        "df_mynetflix['Device Brand'].value_counts()"
      ],
      "execution_count": 43,
      "outputs": [
        {
          "output_type": "execute_result",
          "data": {
            "text/plain": [
              "Netflix     6794\n",
              "Apple       1898\n",
              "Chrome      1104\n",
              "Samsung      382\n",
              "Safari       205\n",
              "Internet      88\n",
              "iPad          50\n",
              "Roku          27\n",
              "Edge          19\n",
              "Android        3\n",
              "Name: Device Brand, dtype: int64"
            ]
          },
          "metadata": {},
          "execution_count": 43
        }
      ]
    },
    {
      "cell_type": "code",
      "metadata": {
        "colab": {
          "base_uri": "https://localhost:8080/",
          "height": 204
        },
        "id": "pt2WB91XZ2b-",
        "outputId": "cfc0cfcc-5490-465c-c7fb-eddb4a3358c3"
      },
      "source": [
        "df_mynetflix.head()"
      ],
      "execution_count": 44,
      "outputs": [
        {
          "output_type": "execute_result",
          "data": {
            "text/html": [
              "<div>\n",
              "<style scoped>\n",
              "    .dataframe tbody tr th:only-of-type {\n",
              "        vertical-align: middle;\n",
              "    }\n",
              "\n",
              "    .dataframe tbody tr th {\n",
              "        vertical-align: top;\n",
              "    }\n",
              "\n",
              "    .dataframe thead th {\n",
              "        text-align: right;\n",
              "    }\n",
              "</style>\n",
              "<table border=\"1\" class=\"dataframe\">\n",
              "  <thead>\n",
              "    <tr style=\"text-align: right;\">\n",
              "      <th></th>\n",
              "      <th>Profile Name</th>\n",
              "      <th>Duration</th>\n",
              "      <th>Title</th>\n",
              "      <th>Device Type</th>\n",
              "      <th>Country</th>\n",
              "      <th>Start Year</th>\n",
              "      <th>Start Month</th>\n",
              "      <th>Start Hour</th>\n",
              "      <th>Device Brand</th>\n",
              "    </tr>\n",
              "  </thead>\n",
              "  <tbody>\n",
              "    <tr>\n",
              "      <th>0</th>\n",
              "      <td>Andy</td>\n",
              "      <td>00:50:59</td>\n",
              "      <td>Squid Game: Season 1: One Lucky Day (Episode 9)</td>\n",
              "      <td>Apple iPhone XS Max (CDMA)</td>\n",
              "      <td>CA (Canada)</td>\n",
              "      <td>2021</td>\n",
              "      <td>October</td>\n",
              "      <td>6:00AM</td>\n",
              "      <td>Apple</td>\n",
              "    </tr>\n",
              "    <tr>\n",
              "      <th>1</th>\n",
              "      <td>Andy</td>\n",
              "      <td>00:27:54</td>\n",
              "      <td>Squid Game: Season 1: Front Man (Episode 8)</td>\n",
              "      <td>Apple iPhone XS Max (CDMA)</td>\n",
              "      <td>CA (Canada)</td>\n",
              "      <td>2021</td>\n",
              "      <td>October</td>\n",
              "      <td>5:00AM</td>\n",
              "      <td>Apple</td>\n",
              "    </tr>\n",
              "    <tr>\n",
              "      <th>2</th>\n",
              "      <td>Andy</td>\n",
              "      <td>00:45:53</td>\n",
              "      <td>Squid Game: Season 1: VIPS (Episode 7)</td>\n",
              "      <td>Apple iPhone XS Max (CDMA)</td>\n",
              "      <td>CA (Canada)</td>\n",
              "      <td>2021</td>\n",
              "      <td>October</td>\n",
              "      <td>5:00AM</td>\n",
              "      <td>Apple</td>\n",
              "    </tr>\n",
              "    <tr>\n",
              "      <th>3</th>\n",
              "      <td>Andy</td>\n",
              "      <td>00:00:54</td>\n",
              "      <td>Squid Game: Season 1: Gganbu (Episode 6)</td>\n",
              "      <td>Apple iPhone XS Max (CDMA)</td>\n",
              "      <td>CA (Canada)</td>\n",
              "      <td>2021</td>\n",
              "      <td>October</td>\n",
              "      <td>5:00AM</td>\n",
              "      <td>Apple</td>\n",
              "    </tr>\n",
              "    <tr>\n",
              "      <th>4</th>\n",
              "      <td>Andy</td>\n",
              "      <td>00:01:18</td>\n",
              "      <td>Squid Game: Season 1: VIPS (Episode 7)</td>\n",
              "      <td>Apple iPhone XS Max (CDMA)</td>\n",
              "      <td>CA (Canada)</td>\n",
              "      <td>2021</td>\n",
              "      <td>October</td>\n",
              "      <td>5:00AM</td>\n",
              "      <td>Apple</td>\n",
              "    </tr>\n",
              "  </tbody>\n",
              "</table>\n",
              "</div>"
            ],
            "text/plain": [
              "  Profile Name  Duration  ... Start Hour Device Brand\n",
              "0         Andy  00:50:59  ...     6:00AM        Apple\n",
              "1         Andy  00:27:54  ...     5:00AM        Apple\n",
              "2         Andy  00:45:53  ...     5:00AM        Apple\n",
              "3         Andy  00:00:54  ...     5:00AM        Apple\n",
              "4         Andy  00:01:18  ...     5:00AM        Apple\n",
              "\n",
              "[5 rows x 9 columns]"
            ]
          },
          "metadata": {},
          "execution_count": 44
        }
      ]
    },
    {
      "cell_type": "markdown",
      "metadata": {
        "id": "CPRnlUplUMpI"
      },
      "source": [
        "We have to relabel the devices. We can relable Netflix, Chrome, Internet as PC. We can rename iPad and safari as Apple, Android and Edge as Samsung. So in the end we would have PC, Apple, Samsung, Roku. After getting the Brands, we can delete the Device type column."
      ]
    },
    {
      "cell_type": "code",
      "metadata": {
        "id": "vkkBdW-tVnHo"
      },
      "source": [
        "devices = {'Netflix':'PC','Chrome':'PC','Safari':'Apple','Internet':'PC','iPad':'Apple','Android':'Samsung','Edge':'Samsung'}\n",
        "df_mynetflix['Device Brand'] = df_mynetflix['Device Brand'].replace(devices)\n",
        "df_mynetflix = df_mynetflix.drop(['Device Type'], axis = 1)"
      ],
      "execution_count": 45,
      "outputs": []
    },
    {
      "cell_type": "markdown",
      "metadata": {
        "id": "9MT8fj2YMKSW"
      },
      "source": [
        "Now, we try to modify Duration into sections: less than 30 minutes, between 30 minutes and 1 hour, more than 1 hour"
      ]
    },
    {
      "cell_type": "code",
      "metadata": {
        "id": "-PWPH4s9MUTZ"
      },
      "source": [
        "df_mynetflix['Duration'] = df_mynetflix['Duration'].apply(lambda x: 'Less than 30 Minutes' if (int(x.split(\":\")[0]) == 0 and int(x.split(\":\")[1]) < 30) else x)\n",
        "df_mynetflix['Duration'] = df_mynetflix['Duration'].apply(lambda x: 'Between 30 Minutes and 1 Hour' if (x != 'Less than 30 Minutes' and int(x.split(\":\")[1]) <= 59  and int(x.split(\":\")[1]) >= 30) else x)\n",
        "df_mynetflix['Duration'] = df_mynetflix['Duration'].apply(lambda x: 'More than 1 Hour' if (x != 'Less than 30 Minutes' and x != 'Between 30 Minutes and 1 Hour' and int(x.split(\":\")[0]) >= 1) else x)"
      ],
      "execution_count": 47,
      "outputs": []
    },
    {
      "cell_type": "code",
      "metadata": {
        "colab": {
          "base_uri": "https://localhost:8080/"
        },
        "id": "Lf5CxWmvPHzD",
        "outputId": "af6d0d6f-f05a-42fa-db7f-879b7a230e5f"
      },
      "source": [
        "df_mynetflix['Duration'].value_counts()"
      ],
      "execution_count": 48,
      "outputs": [
        {
          "output_type": "execute_result",
          "data": {
            "text/plain": [
              "Less than 30 Minutes             7939\n",
              "Between 30 Minutes and 1 Hour    2308\n",
              "More than 1 Hour                  323\n",
              "Name: Duration, dtype: int64"
            ]
          },
          "metadata": {},
          "execution_count": 48
        }
      ]
    },
    {
      "cell_type": "markdown",
      "metadata": {
        "id": "BSvyXJPZcpTT"
      },
      "source": [
        "Finally, we can finish off the feature engineering with extracting the country name from the country column."
      ]
    },
    {
      "cell_type": "code",
      "metadata": {
        "colab": {
          "base_uri": "https://localhost:8080/"
        },
        "id": "Ls2X3-GpdAPz",
        "outputId": "e88a509d-e239-4ba7-f013-2cec9a33b505"
      },
      "source": [
        "df_mynetflix['Country'] = df_mynetflix['Country'].apply(lambda x: x.split(\"(\")[1].split(\")\")[0])\n",
        "df_mynetflix['Country'].value_counts()"
      ],
      "execution_count": 49,
      "outputs": [
        {
          "output_type": "execute_result",
          "data": {
            "text/plain": [
              "Canada                9999\n",
              "Korea, Republic of     454\n",
              "United Kingdom          51\n",
              "United States           48\n",
              "France                  15\n",
              "Mexico                   3\n",
              "Name: Country, dtype: int64"
            ]
          },
          "metadata": {},
          "execution_count": 49
        }
      ]
    },
    {
      "cell_type": "code",
      "metadata": {
        "colab": {
          "base_uri": "https://localhost:8080/",
          "height": 204
        },
        "id": "qCun_A-2dtD0",
        "outputId": "4c607986-f185-4c69-b3f4-debacf70e22b"
      },
      "source": [
        "df_mynetflix.head()"
      ],
      "execution_count": 50,
      "outputs": [
        {
          "output_type": "execute_result",
          "data": {
            "text/html": [
              "<div>\n",
              "<style scoped>\n",
              "    .dataframe tbody tr th:only-of-type {\n",
              "        vertical-align: middle;\n",
              "    }\n",
              "\n",
              "    .dataframe tbody tr th {\n",
              "        vertical-align: top;\n",
              "    }\n",
              "\n",
              "    .dataframe thead th {\n",
              "        text-align: right;\n",
              "    }\n",
              "</style>\n",
              "<table border=\"1\" class=\"dataframe\">\n",
              "  <thead>\n",
              "    <tr style=\"text-align: right;\">\n",
              "      <th></th>\n",
              "      <th>Profile Name</th>\n",
              "      <th>Duration</th>\n",
              "      <th>Title</th>\n",
              "      <th>Country</th>\n",
              "      <th>Start Year</th>\n",
              "      <th>Start Month</th>\n",
              "      <th>Start Hour</th>\n",
              "      <th>Device Brand</th>\n",
              "    </tr>\n",
              "  </thead>\n",
              "  <tbody>\n",
              "    <tr>\n",
              "      <th>0</th>\n",
              "      <td>Andy</td>\n",
              "      <td>Between 30 Minutes and 1 Hour</td>\n",
              "      <td>Squid Game: Season 1: One Lucky Day (Episode 9)</td>\n",
              "      <td>Canada</td>\n",
              "      <td>2021</td>\n",
              "      <td>October</td>\n",
              "      <td>6:00AM</td>\n",
              "      <td>Apple</td>\n",
              "    </tr>\n",
              "    <tr>\n",
              "      <th>1</th>\n",
              "      <td>Andy</td>\n",
              "      <td>Less than 30 Minutes</td>\n",
              "      <td>Squid Game: Season 1: Front Man (Episode 8)</td>\n",
              "      <td>Canada</td>\n",
              "      <td>2021</td>\n",
              "      <td>October</td>\n",
              "      <td>5:00AM</td>\n",
              "      <td>Apple</td>\n",
              "    </tr>\n",
              "    <tr>\n",
              "      <th>2</th>\n",
              "      <td>Andy</td>\n",
              "      <td>Between 30 Minutes and 1 Hour</td>\n",
              "      <td>Squid Game: Season 1: VIPS (Episode 7)</td>\n",
              "      <td>Canada</td>\n",
              "      <td>2021</td>\n",
              "      <td>October</td>\n",
              "      <td>5:00AM</td>\n",
              "      <td>Apple</td>\n",
              "    </tr>\n",
              "    <tr>\n",
              "      <th>3</th>\n",
              "      <td>Andy</td>\n",
              "      <td>Less than 30 Minutes</td>\n",
              "      <td>Squid Game: Season 1: Gganbu (Episode 6)</td>\n",
              "      <td>Canada</td>\n",
              "      <td>2021</td>\n",
              "      <td>October</td>\n",
              "      <td>5:00AM</td>\n",
              "      <td>Apple</td>\n",
              "    </tr>\n",
              "    <tr>\n",
              "      <th>4</th>\n",
              "      <td>Andy</td>\n",
              "      <td>Less than 30 Minutes</td>\n",
              "      <td>Squid Game: Season 1: VIPS (Episode 7)</td>\n",
              "      <td>Canada</td>\n",
              "      <td>2021</td>\n",
              "      <td>October</td>\n",
              "      <td>5:00AM</td>\n",
              "      <td>Apple</td>\n",
              "    </tr>\n",
              "  </tbody>\n",
              "</table>\n",
              "</div>"
            ],
            "text/plain": [
              "  Profile Name                       Duration  ... Start Hour Device Brand\n",
              "0         Andy  Between 30 Minutes and 1 Hour  ...     6:00AM        Apple\n",
              "1         Andy           Less than 30 Minutes  ...     5:00AM        Apple\n",
              "2         Andy  Between 30 Minutes and 1 Hour  ...     5:00AM        Apple\n",
              "3         Andy           Less than 30 Minutes  ...     5:00AM        Apple\n",
              "4         Andy           Less than 30 Minutes  ...     5:00AM        Apple\n",
              "\n",
              "[5 rows x 8 columns]"
            ]
          },
          "metadata": {},
          "execution_count": 50
        }
      ]
    },
    {
      "cell_type": "markdown",
      "metadata": {
        "id": "XslRujP05xml"
      },
      "source": [
        "# Change datatypes for newly added/ modified features"
      ]
    },
    {
      "cell_type": "code",
      "metadata": {
        "colab": {
          "base_uri": "https://localhost:8080/"
        },
        "id": "Phwa4_J4a4_t",
        "outputId": "ebf4e121-ca78-4374-c405-e761a248f755"
      },
      "source": [
        "df_netflix.info()"
      ],
      "execution_count": 51,
      "outputs": [
        {
          "output_type": "stream",
          "name": "stdout",
          "text": [
            "<class 'pandas.core.frame.DataFrame'>\n",
            "Int64Index: 8790 entries, 0 to 8806\n",
            "Data columns (total 17 columns):\n",
            " #   Column        Non-Null Count  Dtype   \n",
            "---  ------        --------------  -----   \n",
            " 0   show_id       8790 non-null   object  \n",
            " 1   type          8790 non-null   object  \n",
            " 2   title         8790 non-null   object  \n",
            " 3   director      8790 non-null   object  \n",
            " 4   cast          8790 non-null   object  \n",
            " 5   country       8790 non-null   object  \n",
            " 6   date_added    8790 non-null   object  \n",
            " 7   release_year  8790 non-null   int64   \n",
            " 8   rating        8790 non-null   category\n",
            " 9   duration      8790 non-null   object  \n",
            " 10  listed_in     8790 non-null   object  \n",
            " 11  description   8790 non-null   object  \n",
            " 12  year_added    8790 non-null   object  \n",
            " 13  month_added   8790 non-null   object  \n",
            " 14  num_genres    8790 non-null   int64   \n",
            " 15  num_seasons   8790 non-null   object  \n",
            " 16  num_cast      8790 non-null   int64   \n",
            "dtypes: category(1), int64(3), object(13)\n",
            "memory usage: 1.1+ MB\n"
          ]
        }
      ]
    },
    {
      "cell_type": "code",
      "metadata": {
        "colab": {
          "base_uri": "https://localhost:8080/"
        },
        "id": "8zQpzGXF56hN",
        "outputId": "5ccf8c04-2af6-4bb5-96f1-2874d953575c"
      },
      "source": [
        "df_disney.info()"
      ],
      "execution_count": 52,
      "outputs": [
        {
          "output_type": "stream",
          "name": "stdout",
          "text": [
            "<class 'pandas.core.frame.DataFrame'>\n",
            "Int64Index: 1363 entries, 0 to 1364\n",
            "Data columns (total 17 columns):\n",
            " #   Column        Non-Null Count  Dtype   \n",
            "---  ------        --------------  -----   \n",
            " 0   show_id       1363 non-null   object  \n",
            " 1   type          1363 non-null   object  \n",
            " 2   title         1363 non-null   object  \n",
            " 3   director      1363 non-null   object  \n",
            " 4   cast          1363 non-null   object  \n",
            " 5   country       1363 non-null   object  \n",
            " 6   date_added    1363 non-null   object  \n",
            " 7   release_year  1363 non-null   int64   \n",
            " 8   rating        1363 non-null   category\n",
            " 9   duration      1363 non-null   object  \n",
            " 10  listed_in     1363 non-null   object  \n",
            " 11  description   1363 non-null   object  \n",
            " 12  year_added    1363 non-null   object  \n",
            " 13  month_added   1363 non-null   object  \n",
            " 14  num_genres    1363 non-null   int64   \n",
            " 15  num_seasons   1363 non-null   object  \n",
            " 16  num_cast      1363 non-null   int64   \n",
            "dtypes: category(1), int64(3), object(13)\n",
            "memory usage: 182.7+ KB\n"
          ]
        }
      ]
    },
    {
      "cell_type": "code",
      "metadata": {
        "id": "N5fdC8zd59cm"
      },
      "source": [
        "df_netflix['year_added'] = df_netflix['year_added'].astype('category')\n",
        "df_netflix['month_added'] = df_netflix['month_added'].astype('category')\n",
        "df_netflix['num_genres'] = df_netflix['num_genres'].astype('category')\n",
        "df_netflix['duration'] = df_netflix['duration'].astype('category')\n",
        "df_netflix['num_seasons'] = df_netflix['num_seasons'].astype('category')\n",
        "df_netflix['num_cast'] = df_netflix['num_cast'].astype('category')\n",
        "\n",
        "\n",
        "df_disney['year_added'] = df_disney['year_added'].astype('category')\n",
        "df_disney['month_added'] = df_disney['month_added'].astype('category')\n",
        "df_disney['num_genres'] = df_disney['num_genres'].astype('category')\n",
        "df_disney['duration'] = df_disney['duration'].astype('category')\n",
        "df_disney['num_seasons'] = df_disney['num_seasons'].astype('category')\n",
        "df_disney['num_cast'] = df_disney['num_cast'].astype('category')\n",
        "\n"
      ],
      "execution_count": 53,
      "outputs": []
    },
    {
      "cell_type": "code",
      "metadata": {
        "colab": {
          "base_uri": "https://localhost:8080/"
        },
        "id": "2evuPSz9QOvq",
        "outputId": "33189a58-2798-464e-f979-5cd2bfc585e4"
      },
      "source": [
        "df_mynetflix.info()"
      ],
      "execution_count": 54,
      "outputs": [
        {
          "output_type": "stream",
          "name": "stdout",
          "text": [
            "<class 'pandas.core.frame.DataFrame'>\n",
            "Int64Index: 10570 entries, 0 to 10569\n",
            "Data columns (total 8 columns):\n",
            " #   Column        Non-Null Count  Dtype   \n",
            "---  ------        --------------  -----   \n",
            " 0   Profile Name  10570 non-null  category\n",
            " 1   Duration      10570 non-null  object  \n",
            " 2   Title         10570 non-null  object  \n",
            " 3   Country       10570 non-null  category\n",
            " 4   Start Year    10570 non-null  object  \n",
            " 5   Start Month   10570 non-null  object  \n",
            " 6   Start Hour    10570 non-null  object  \n",
            " 7   Device Brand  10570 non-null  object  \n",
            "dtypes: category(2), object(6)\n",
            "memory usage: 599.1+ KB\n"
          ]
        }
      ]
    },
    {
      "cell_type": "markdown",
      "metadata": {
        "id": "nlpp3zT5QQrr"
      },
      "source": [
        "Since we changed duration into 3 categories, we have to change the data type to category, similarly for Year,Month, and Hour."
      ]
    },
    {
      "cell_type": "code",
      "metadata": {
        "id": "1sk1plqxQjkP"
      },
      "source": [
        "df_mynetflix['Duration'] = df_mynetflix['Duration'].astype('category')\n",
        "df_mynetflix['Start Year'] = df_mynetflix['Start Year'].astype('category')\n",
        "df_mynetflix['Start Month'] = df_mynetflix['Start Month'].astype('category')\n",
        "df_mynetflix['Start Hour'] = df_mynetflix['Start Hour'].astype('category')\n",
        "df_mynetflix['Device Brand'] = df_mynetflix['Device Brand'].astype('category')\n",
        "\n",
        "\n"
      ],
      "execution_count": 55,
      "outputs": []
    },
    {
      "cell_type": "code",
      "metadata": {
        "id": "uKWrDE0qA7Rz"
      },
      "source": [
        "df_netflix.to_csv('/content/gdrive/My Drive/moviesdatasets/netflix_titles_vis.csv')\n",
        "df_disney.to_csv('/content/gdrive/My Drive/moviesdatasets/disney_titles_vis.csv')"
      ],
      "execution_count": null,
      "outputs": []
    },
    {
      "cell_type": "code",
      "metadata": {
        "id": "iD1Cz8foRzHQ"
      },
      "source": [
        "df_mynetflix.to_csv('/content/gdrive/My Drive/moviesdatasets/ViewingActivity_vis.csv')"
      ],
      "execution_count": 44,
      "outputs": []
    },
    {
      "cell_type": "markdown",
      "metadata": {
        "id": "GPQgboVxZ1iW"
      },
      "source": [
        "# Data Visualization"
      ]
    },
    {
      "cell_type": "markdown",
      "metadata": {
        "id": "uzHywCZR65O2"
      },
      "source": [
        "Data Visialization/ Dashboards with Tableau\n"
      ]
    },
    {
      "cell_type": "markdown",
      "metadata": {
        "id": "LOESvIjmb4lN"
      },
      "source": [
        "https://public.tableau.com/views/NetflixDisneyAnalysis/NetflixDisneyPersonalNetflixViewingHistoryAnalysis?:language=en-US&publish=yes&:display_count=n&:origin=viz_share_link"
      ]
    }
  ]
}