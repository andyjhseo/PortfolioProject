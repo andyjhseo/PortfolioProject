{
  "nbformat": 4,
  "nbformat_minor": 0,
  "metadata": {
    "colab": {
      "name": "Olympic2021 EDA with SQL.ipynb",
      "provenance": [],
      "collapsed_sections": []
    },
    "kernelspec": {
      "name": "python3",
      "display_name": "Python 3"
    },
    "language_info": {
      "name": "python"
    }
  },
  "cells": [
    {
      "cell_type": "code",
      "metadata": {
        "id": "DEE1b8ANbwQ8"
      },
      "source": [
        "import numpy as np # linear algebra\n",
        "import pandas as pd # data processing, CSV file I/O (e.g. pd.read_csv)\n",
        "import seaborn as sns \n",
        "import matplotlib.pyplot as plt\n",
        "import sqlite3\n",
        "\n"
      ],
      "execution_count": null,
      "outputs": []
    },
    {
      "cell_type": "code",
      "metadata": {
        "colab": {
          "base_uri": "https://localhost:8080/"
        },
        "id": "WQtIZz1edNFi",
        "outputId": "b6dce4ea-721e-40f3-8ff6-43eb7ad90f32"
      },
      "source": [
        "from google.colab import drive\n",
        "drive.mount('/content/gdrive')"
      ],
      "execution_count": null,
      "outputs": [
        {
          "output_type": "stream",
          "name": "stdout",
          "text": [
            "Mounted at /content/gdrive\n"
          ]
        }
      ]
    },
    {
      "cell_type": "code",
      "metadata": {
        "id": "V518aZqjdPye"
      },
      "source": [
        "df_athletes= pd.read_excel('/content/gdrive/My Drive/2021olympic/Athletes.xlsx')\n",
        "df_entriesgender= pd.read_excel('/content/gdrive/My Drive/2021olympic/EntriesGender.xlsx')\n",
        "df_teams= pd.read_excel('/content/gdrive/My Drive/2021olympic/Teams.xlsx')\n",
        "df_coaches= pd.read_excel('/content/gdrive/My Drive/2021olympic/Coaches.xlsx')\n",
        "df_medals= pd.read_excel('/content/gdrive/My Drive/2021olympic/Medals.xlsx')"
      ],
      "execution_count": null,
      "outputs": []
    },
    {
      "cell_type": "code",
      "metadata": {
        "id": "_x3pU-H9dYif"
      },
      "source": [
        "df_entriesgender_SQL = df_entriesgender\n",
        "\n",
        "df_teams_SQL = df_teams \n",
        "\n",
        "df_athletes_SQL = df_athletes \n",
        "\n",
        "df_coaches_SQL = df_coaches \n",
        "\n",
        "df_medals_SQL = df_medals.rename(columns = {'Team/NOC': 'Teamnoc',\n",
        "                              }, inplace = False)"
      ],
      "execution_count": null,
      "outputs": []
    },
    {
      "cell_type": "code",
      "metadata": {
        "id": "geWc9HZdhc_d"
      },
      "source": [
        "from sqlalchemy import create_engine\n",
        "engine = create_engine('sqlite://', echo=False)\n",
        "\n",
        "df_entriesgender_SQL.to_sql(\"EntriesGender\", con =engine)\n",
        "df_teams_SQL.to_sql(\"Teams\", con =engine)\n",
        "df_athletes_SQL.to_sql(\"Athletes\", con =engine)\n",
        "df_coaches_SQL.to_sql(\"Coaches\", con =engine)\n",
        "df_medals_SQL.to_sql(\"Medals\", con =engine)"
      ],
      "execution_count": null,
      "outputs": []
    },
    {
      "cell_type": "code",
      "metadata": {
        "colab": {
          "base_uri": "https://localhost:8080/",
          "height": 204
        },
        "id": "YXSflCIXhidf",
        "outputId": "80824218-9866-423a-df41-db17a8ef64af"
      },
      "source": [
        "sql='''\n",
        "\n",
        "Select * from entriesgender\n",
        "\n",
        "''';\n",
        "\n",
        "    \n",
        "df_sql = pd.read_sql_query(sql,con=engine)\n",
        "df_sql.head()"
      ],
      "execution_count": null,
      "outputs": [
        {
          "output_type": "execute_result",
          "data": {
            "text/html": [
              "<div>\n",
              "<style scoped>\n",
              "    .dataframe tbody tr th:only-of-type {\n",
              "        vertical-align: middle;\n",
              "    }\n",
              "\n",
              "    .dataframe tbody tr th {\n",
              "        vertical-align: top;\n",
              "    }\n",
              "\n",
              "    .dataframe thead th {\n",
              "        text-align: right;\n",
              "    }\n",
              "</style>\n",
              "<table border=\"1\" class=\"dataframe\">\n",
              "  <thead>\n",
              "    <tr style=\"text-align: right;\">\n",
              "      <th></th>\n",
              "      <th>index</th>\n",
              "      <th>Discipline</th>\n",
              "      <th>Female</th>\n",
              "      <th>Male</th>\n",
              "      <th>Total</th>\n",
              "    </tr>\n",
              "  </thead>\n",
              "  <tbody>\n",
              "    <tr>\n",
              "      <th>0</th>\n",
              "      <td>0</td>\n",
              "      <td>3x3 Basketball</td>\n",
              "      <td>32</td>\n",
              "      <td>32</td>\n",
              "      <td>64</td>\n",
              "    </tr>\n",
              "    <tr>\n",
              "      <th>1</th>\n",
              "      <td>1</td>\n",
              "      <td>Archery</td>\n",
              "      <td>64</td>\n",
              "      <td>64</td>\n",
              "      <td>128</td>\n",
              "    </tr>\n",
              "    <tr>\n",
              "      <th>2</th>\n",
              "      <td>2</td>\n",
              "      <td>Artistic Gymnastics</td>\n",
              "      <td>98</td>\n",
              "      <td>98</td>\n",
              "      <td>196</td>\n",
              "    </tr>\n",
              "    <tr>\n",
              "      <th>3</th>\n",
              "      <td>3</td>\n",
              "      <td>Artistic Swimming</td>\n",
              "      <td>105</td>\n",
              "      <td>0</td>\n",
              "      <td>105</td>\n",
              "    </tr>\n",
              "    <tr>\n",
              "      <th>4</th>\n",
              "      <td>4</td>\n",
              "      <td>Athletics</td>\n",
              "      <td>969</td>\n",
              "      <td>1072</td>\n",
              "      <td>2041</td>\n",
              "    </tr>\n",
              "  </tbody>\n",
              "</table>\n",
              "</div>"
            ],
            "text/plain": [
              "   index           Discipline  Female  Male  Total\n",
              "0      0       3x3 Basketball      32    32     64\n",
              "1      1              Archery      64    64    128\n",
              "2      2  Artistic Gymnastics      98    98    196\n",
              "3      3    Artistic Swimming     105     0    105\n",
              "4      4            Athletics     969  1072   2041"
            ]
          },
          "metadata": {},
          "execution_count": 6
        }
      ]
    },
    {
      "cell_type": "markdown",
      "metadata": {
        "id": "RD4vOF4njcfB"
      },
      "source": [
        "# Get the total count of participants for each discipline"
      ]
    },
    {
      "cell_type": "code",
      "metadata": {
        "colab": {
          "base_uri": "https://localhost:8080/",
          "height": 204
        },
        "id": "tUVkVR_kidZx",
        "outputId": "2b4a43a8-24a6-44ed-a5a8-c7e3ae72c832"
      },
      "source": [
        "sql = '''\n",
        "Select discipline, total as participants\n",
        "from entriesgender\n",
        "group by discipline\n",
        "order by participants desc\n",
        "LIMIT 20\n",
        "''' \n",
        "\n",
        "df_sql = pd.read_sql_query(sql,con=engine)\n",
        "df_sql.head()"
      ],
      "execution_count": null,
      "outputs": [
        {
          "output_type": "execute_result",
          "data": {
            "text/html": [
              "<div>\n",
              "<style scoped>\n",
              "    .dataframe tbody tr th:only-of-type {\n",
              "        vertical-align: middle;\n",
              "    }\n",
              "\n",
              "    .dataframe tbody tr th {\n",
              "        vertical-align: top;\n",
              "    }\n",
              "\n",
              "    .dataframe thead th {\n",
              "        text-align: right;\n",
              "    }\n",
              "</style>\n",
              "<table border=\"1\" class=\"dataframe\">\n",
              "  <thead>\n",
              "    <tr style=\"text-align: right;\">\n",
              "      <th></th>\n",
              "      <th>Discipline</th>\n",
              "      <th>participants</th>\n",
              "    </tr>\n",
              "  </thead>\n",
              "  <tbody>\n",
              "    <tr>\n",
              "      <th>0</th>\n",
              "      <td>Athletics</td>\n",
              "      <td>2041</td>\n",
              "    </tr>\n",
              "    <tr>\n",
              "      <th>1</th>\n",
              "      <td>Swimming</td>\n",
              "      <td>779</td>\n",
              "    </tr>\n",
              "    <tr>\n",
              "      <th>2</th>\n",
              "      <td>Football</td>\n",
              "      <td>608</td>\n",
              "    </tr>\n",
              "    <tr>\n",
              "      <th>3</th>\n",
              "      <td>Rowing</td>\n",
              "      <td>522</td>\n",
              "    </tr>\n",
              "    <tr>\n",
              "      <th>4</th>\n",
              "      <td>Judo</td>\n",
              "      <td>393</td>\n",
              "    </tr>\n",
              "  </tbody>\n",
              "</table>\n",
              "</div>"
            ],
            "text/plain": [
              "  Discipline  participants\n",
              "0  Athletics          2041\n",
              "1   Swimming           779\n",
              "2   Football           608\n",
              "3     Rowing           522\n",
              "4       Judo           393"
            ]
          },
          "metadata": {},
          "execution_count": 64
        }
      ]
    },
    {
      "cell_type": "code",
      "metadata": {
        "colab": {
          "base_uri": "https://localhost:8080/",
          "height": 296
        },
        "id": "H41JHd-CPVy-",
        "outputId": "d4dcd652-fb5d-43cf-8717-6ab635943f46"
      },
      "source": [
        "sns.barplot(y = 'Discipline', x = 'participants', data = df_sql)"
      ],
      "execution_count": null,
      "outputs": [
        {
          "output_type": "execute_result",
          "data": {
            "text/plain": [
              "<matplotlib.axes._subplots.AxesSubplot at 0x7eff4af7ca90>"
            ]
          },
          "metadata": {},
          "execution_count": 65
        },
        {
          "output_type": "display_data",
          "data": {
            "image/png": "[encoded data removed]",
            "text/plain": [
              "<Figure size 432x288 with 1 Axes>"
            ]
          },
          "metadata": {
            "needs_background": "light"
          }
        }
      ]
    },
    {
      "cell_type": "markdown",
      "metadata": {
        "id": "CAPN7eO5lId1"
      },
      "source": [
        "# get top 5 countries with most medals"
      ]
    },
    {
      "cell_type": "code",
      "metadata": {
        "colab": {
          "base_uri": "https://localhost:8080/",
          "height": 204
        },
        "id": "ur1aoZr1jkRh",
        "outputId": "8b87fac2-8d77-4422-b02b-9d1a4b082501"
      },
      "source": [
        "sql = '''\n",
        "Select *\n",
        "From medals\n",
        "order by total desc\n",
        "LIMIT  5\n",
        "''' \n",
        "\n",
        "df_sql = pd.read_sql_query(sql,con=engine)\n",
        "df_sql.head()"
      ],
      "execution_count": null,
      "outputs": [
        {
          "output_type": "execute_result",
          "data": {
            "text/html": [
              "<div>\n",
              "<style scoped>\n",
              "    .dataframe tbody tr th:only-of-type {\n",
              "        vertical-align: middle;\n",
              "    }\n",
              "\n",
              "    .dataframe tbody tr th {\n",
              "        vertical-align: top;\n",
              "    }\n",
              "\n",
              "    .dataframe thead th {\n",
              "        text-align: right;\n",
              "    }\n",
              "</style>\n",
              "<table border=\"1\" class=\"dataframe\">\n",
              "  <thead>\n",
              "    <tr style=\"text-align: right;\">\n",
              "      <th></th>\n",
              "      <th>index</th>\n",
              "      <th>Rank</th>\n",
              "      <th>Teamnoc</th>\n",
              "      <th>Gold</th>\n",
              "      <th>Silver</th>\n",
              "      <th>Bronze</th>\n",
              "      <th>Total</th>\n",
              "      <th>Rank by Total</th>\n",
              "    </tr>\n",
              "  </thead>\n",
              "  <tbody>\n",
              "    <tr>\n",
              "      <th>0</th>\n",
              "      <td>0</td>\n",
              "      <td>1</td>\n",
              "      <td>United States of America</td>\n",
              "      <td>39</td>\n",
              "      <td>41</td>\n",
              "      <td>33</td>\n",
              "      <td>113</td>\n",
              "      <td>1</td>\n",
              "    </tr>\n",
              "    <tr>\n",
              "      <th>1</th>\n",
              "      <td>1</td>\n",
              "      <td>2</td>\n",
              "      <td>People's Republic of China</td>\n",
              "      <td>38</td>\n",
              "      <td>32</td>\n",
              "      <td>18</td>\n",
              "      <td>88</td>\n",
              "      <td>2</td>\n",
              "    </tr>\n",
              "    <tr>\n",
              "      <th>2</th>\n",
              "      <td>4</td>\n",
              "      <td>5</td>\n",
              "      <td>ROC</td>\n",
              "      <td>20</td>\n",
              "      <td>28</td>\n",
              "      <td>23</td>\n",
              "      <td>71</td>\n",
              "      <td>3</td>\n",
              "    </tr>\n",
              "    <tr>\n",
              "      <th>3</th>\n",
              "      <td>3</td>\n",
              "      <td>4</td>\n",
              "      <td>Great Britain</td>\n",
              "      <td>22</td>\n",
              "      <td>21</td>\n",
              "      <td>22</td>\n",
              "      <td>65</td>\n",
              "      <td>4</td>\n",
              "    </tr>\n",
              "    <tr>\n",
              "      <th>4</th>\n",
              "      <td>2</td>\n",
              "      <td>3</td>\n",
              "      <td>Japan</td>\n",
              "      <td>27</td>\n",
              "      <td>14</td>\n",
              "      <td>17</td>\n",
              "      <td>58</td>\n",
              "      <td>5</td>\n",
              "    </tr>\n",
              "  </tbody>\n",
              "</table>\n",
              "</div>"
            ],
            "text/plain": [
              "   index  Rank                     Teamnoc  ...  Bronze  Total  Rank by Total\n",
              "0      0     1    United States of America  ...      33    113              1\n",
              "1      1     2  People's Republic of China  ...      18     88              2\n",
              "2      4     5                         ROC  ...      23     71              3\n",
              "3      3     4               Great Britain  ...      22     65              4\n",
              "4      2     3                       Japan  ...      17     58              5\n",
              "\n",
              "[5 rows x 8 columns]"
            ]
          },
          "metadata": {},
          "execution_count": 66
        }
      ]
    },
    {
      "cell_type": "code",
      "metadata": {
        "colab": {
          "base_uri": "https://localhost:8080/",
          "height": 1000
        },
        "id": "QOZTadIhQUva",
        "outputId": "7913aa44-9a51-4bd4-cd1e-7aea31b2e006"
      },
      "source": [
        "for i in range(5):\n",
        "  plt.figure(i)\n",
        "  plt.pie(x = [df_sql[i:i+1][['Gold']],df_sql[i:i+1][['Silver']],df_sql[i:i+1][['Bronze']]] ,labels = ['Gold','Silver','Bronze'],autopct='%.0f%%')\n",
        "  str(df_sql[i:i+1][['Teamnoc']])\n",
        "  plt.title(df_sql.loc[df_sql['Rank by Total'] == i+1, 'Teamnoc'].item())\n",
        "plt.show()"
      ],
      "execution_count": null,
      "outputs": [
        {
          "output_type": "stream",
          "name": "stderr",
          "text": [
            "/usr/local/lib/python3.7/dist-packages/ipykernel_launcher.py:3: MatplotlibDeprecationWarning: Non-1D inputs to pie() are currently squeeze()d, but this behavior is deprecated since 3.1 and will be removed in 3.3; pass a 1D array instead.\n",
            "  This is separate from the ipykernel package so we can avoid doing imports until\n",
            "/usr/local/lib/python3.7/dist-packages/ipykernel_launcher.py:3: MatplotlibDeprecationWarning: Non-1D inputs to pie() are currently squeeze()d, but this behavior is deprecated since 3.1 and will be removed in 3.3; pass a 1D array instead.\n",
            "  This is separate from the ipykernel package so we can avoid doing imports until\n",
            "/usr/local/lib/python3.7/dist-packages/ipykernel_launcher.py:3: MatplotlibDeprecationWarning: Non-1D inputs to pie() are currently squeeze()d, but this behavior is deprecated since 3.1 and will be removed in 3.3; pass a 1D array instead.\n",
            "  This is separate from the ipykernel package so we can avoid doing imports until\n",
            "/usr/local/lib/python3.7/dist-packages/ipykernel_launcher.py:3: MatplotlibDeprecationWarning: Non-1D inputs to pie() are currently squeeze()d, but this behavior is deprecated since 3.1 and will be removed in 3.3; pass a 1D array instead.\n",
            "  This is separate from the ipykernel package so we can avoid doing imports until\n",
            "/usr/local/lib/python3.7/dist-packages/ipykernel_launcher.py:3: MatplotlibDeprecationWarning: Non-1D inputs to pie() are currently squeeze()d, but this behavior is deprecated since 3.1 and will be removed in 3.3; pass a 1D array instead.\n",
            "  This is separate from the ipykernel package so we can avoid doing imports until\n"
          ]
        },
        {
          "output_type": "display_data",
          "data": {
            "image/png": "[encoded data removed]",
            "text/plain": [
              "<Figure size 432x288 with 1 Axes>"
            ]
          },
          "metadata": {}
        },
        {
          "output_type": "display_data",
          "data": {
            "image/png": "[encoded data removed]",
            "text/plain": [
              "<Figure size 432x288 with 1 Axes>"
            ]
          },
          "metadata": {}
        },
        {
          "output_type": "display_data",
          "data": {
            "image/png": "[encoded data removed]",
            "text/plain": [
              "<Figure size 432x288 with 1 Axes>"
            ]
          },
          "metadata": {}
        },
        {
          "output_type": "display_data",
          "data": {
            "image/png": "[encoded data removed]",
            "text/plain": [
              "<Figure size 432x288 with 1 Axes>"
            ]
          },
          "metadata": {}
        },
        {
          "output_type": "display_data",
          "data": {
            "image/png": "[encoded data removed]",
            "text/plain": [
              "<Figure size 432x288 with 1 Axes>"
            ]
          },
          "metadata": {}
        }
      ]
    },
    {
      "cell_type": "markdown",
      "metadata": {
        "id": "fV2x5LK0mHOL"
      },
      "source": [
        "# Get the number of athletes for each country, in descending order"
      ]
    },
    {
      "cell_type": "code",
      "metadata": {
        "colab": {
          "base_uri": "https://localhost:8080/",
          "height": 204
        },
        "id": "5aIVz172lM7y",
        "outputId": "bbca76e6-b0a3-488a-8a8f-fc731be4c48d"
      },
      "source": [
        "sql = '''\n",
        "Select *\n",
        "From (Select NOC, Count(name) as number_athletes \n",
        "      from athletes\n",
        "      group by NOC\n",
        "      order by number_athletes DESC )\n",
        "''' \n",
        "\n",
        "df_sql = pd.read_sql_query(sql,con=engine)\n",
        "df_sql.head()"
      ],
      "execution_count": null,
      "outputs": [
        {
          "output_type": "execute_result",
          "data": {
            "text/html": [
              "<div>\n",
              "<style scoped>\n",
              "    .dataframe tbody tr th:only-of-type {\n",
              "        vertical-align: middle;\n",
              "    }\n",
              "\n",
              "    .dataframe tbody tr th {\n",
              "        vertical-align: top;\n",
              "    }\n",
              "\n",
              "    .dataframe thead th {\n",
              "        text-align: right;\n",
              "    }\n",
              "</style>\n",
              "<table border=\"1\" class=\"dataframe\">\n",
              "  <thead>\n",
              "    <tr style=\"text-align: right;\">\n",
              "      <th></th>\n",
              "      <th>NOC</th>\n",
              "      <th>number_athletes</th>\n",
              "    </tr>\n",
              "  </thead>\n",
              "  <tbody>\n",
              "    <tr>\n",
              "      <th>0</th>\n",
              "      <td>United States of America</td>\n",
              "      <td>615</td>\n",
              "    </tr>\n",
              "    <tr>\n",
              "      <th>1</th>\n",
              "      <td>Japan</td>\n",
              "      <td>586</td>\n",
              "    </tr>\n",
              "    <tr>\n",
              "      <th>2</th>\n",
              "      <td>Australia</td>\n",
              "      <td>470</td>\n",
              "    </tr>\n",
              "    <tr>\n",
              "      <th>3</th>\n",
              "      <td>People's Republic of China</td>\n",
              "      <td>401</td>\n",
              "    </tr>\n",
              "    <tr>\n",
              "      <th>4</th>\n",
              "      <td>Germany</td>\n",
              "      <td>400</td>\n",
              "    </tr>\n",
              "  </tbody>\n",
              "</table>\n",
              "</div>"
            ],
            "text/plain": [
              "                          NOC  number_athletes\n",
              "0    United States of America              615\n",
              "1                       Japan              586\n",
              "2                   Australia              470\n",
              "3  People's Republic of China              401\n",
              "4                     Germany              400"
            ]
          },
          "metadata": {},
          "execution_count": 27
        }
      ]
    },
    {
      "cell_type": "markdown",
      "metadata": {
        "id": "iZz830SmmjE3"
      },
      "source": [
        "# Number of Coaches per country "
      ]
    },
    {
      "cell_type": "code",
      "metadata": {
        "colab": {
          "base_uri": "https://localhost:8080/",
          "height": 204
        },
        "id": "OzC-IuAVmNuL",
        "outputId": "a077a794-0dfa-4b14-b96c-a886ea89a76e"
      },
      "source": [
        "sql = '''\n",
        "Select Count(Name) as number_coaches, NOC\n",
        "From coaches\n",
        "group by NOC\n",
        "Order by number_coaches DESC\n",
        "''' \n",
        "\n",
        "df_sql = pd.read_sql_query(sql,con=engine)\n",
        "df_sql.head()"
      ],
      "execution_count": null,
      "outputs": [
        {
          "output_type": "execute_result",
          "data": {
            "text/html": [
              "<div>\n",
              "<style scoped>\n",
              "    .dataframe tbody tr th:only-of-type {\n",
              "        vertical-align: middle;\n",
              "    }\n",
              "\n",
              "    .dataframe tbody tr th {\n",
              "        vertical-align: top;\n",
              "    }\n",
              "\n",
              "    .dataframe thead th {\n",
              "        text-align: right;\n",
              "    }\n",
              "</style>\n",
              "<table border=\"1\" class=\"dataframe\">\n",
              "  <thead>\n",
              "    <tr style=\"text-align: right;\">\n",
              "      <th></th>\n",
              "      <th>number_coaches</th>\n",
              "      <th>NOC</th>\n",
              "    </tr>\n",
              "  </thead>\n",
              "  <tbody>\n",
              "    <tr>\n",
              "      <th>0</th>\n",
              "      <td>35</td>\n",
              "      <td>Japan</td>\n",
              "    </tr>\n",
              "    <tr>\n",
              "      <th>1</th>\n",
              "      <td>28</td>\n",
              "      <td>Spain</td>\n",
              "    </tr>\n",
              "    <tr>\n",
              "      <th>2</th>\n",
              "      <td>28</td>\n",
              "      <td>United States of America</td>\n",
              "    </tr>\n",
              "    <tr>\n",
              "      <th>3</th>\n",
              "      <td>22</td>\n",
              "      <td>Australia</td>\n",
              "    </tr>\n",
              "    <tr>\n",
              "      <th>4</th>\n",
              "      <td>16</td>\n",
              "      <td>Canada</td>\n",
              "    </tr>\n",
              "  </tbody>\n",
              "</table>\n",
              "</div>"
            ],
            "text/plain": [
              "   number_coaches                       NOC\n",
              "0              35                     Japan\n",
              "1              28                     Spain\n",
              "2              28  United States of America\n",
              "3              22                 Australia\n",
              "4              16                    Canada"
            ]
          },
          "metadata": {},
          "execution_count": 35
        }
      ]
    },
    {
      "cell_type": "markdown",
      "metadata": {
        "id": "OM4dvasOnOke"
      },
      "source": [
        "# Coach vs Player Ratio using *CTE*"
      ]
    },
    {
      "cell_type": "code",
      "metadata": {
        "colab": {
          "base_uri": "https://localhost:8080/",
          "height": 204
        },
        "id": "BLg8IaZEnN_E",
        "outputId": "c44d8cd3-5325-4915-ad3b-53af049618b2"
      },
      "source": [
        "sql = '''\n",
        "WITH coach as (SELECT Count(Name) as number_coaches, NOC\n",
        "From coaches\n",
        "group by NOC\n",
        "Order by number_coaches DESC\n",
        "), \n",
        "ath as (SELECT Count(Name) as number_athletes, NOC\n",
        "From athletes\n",
        "group by NOC\n",
        "Order by number_athletes DESC)\n",
        "SELECT c.NOC, a.number_athletes, c.number_coaches,  (a.number_athletes/c.number_coaches) as player_coach_ratio\n",
        "FROM coach as c\n",
        "inner join ath as a \n",
        "on c.NOC = a.NOC\n",
        "order by player_coach_ratio DESC\n",
        "\n",
        "''' \n",
        "\n",
        "df_sql = pd.read_sql_query(sql,con=engine)\n",
        "df_sql.head()"
      ],
      "execution_count": null,
      "outputs": [
        {
          "output_type": "execute_result",
          "data": {
            "text/html": [
              "<div>\n",
              "<style scoped>\n",
              "    .dataframe tbody tr th:only-of-type {\n",
              "        vertical-align: middle;\n",
              "    }\n",
              "\n",
              "    .dataframe tbody tr th {\n",
              "        vertical-align: top;\n",
              "    }\n",
              "\n",
              "    .dataframe thead th {\n",
              "        text-align: right;\n",
              "    }\n",
              "</style>\n",
              "<table border=\"1\" class=\"dataframe\">\n",
              "  <thead>\n",
              "    <tr style=\"text-align: right;\">\n",
              "      <th></th>\n",
              "      <th>NOC</th>\n",
              "      <th>number_athletes</th>\n",
              "      <th>number_coaches</th>\n",
              "      <th>player_coach_ratio</th>\n",
              "    </tr>\n",
              "  </thead>\n",
              "  <tbody>\n",
              "    <tr>\n",
              "      <th>0</th>\n",
              "      <td>Belarus</td>\n",
              "      <td>104</td>\n",
              "      <td>1</td>\n",
              "      <td>104</td>\n",
              "    </tr>\n",
              "    <tr>\n",
              "      <th>1</th>\n",
              "      <td>Turkey</td>\n",
              "      <td>102</td>\n",
              "      <td>1</td>\n",
              "      <td>102</td>\n",
              "    </tr>\n",
              "    <tr>\n",
              "      <th>2</th>\n",
              "      <td>Portugal</td>\n",
              "      <td>85</td>\n",
              "      <td>1</td>\n",
              "      <td>85</td>\n",
              "    </tr>\n",
              "    <tr>\n",
              "      <th>3</th>\n",
              "      <td>Poland</td>\n",
              "      <td>195</td>\n",
              "      <td>3</td>\n",
              "      <td>65</td>\n",
              "    </tr>\n",
              "    <tr>\n",
              "      <th>4</th>\n",
              "      <td>Czech Republic</td>\n",
              "      <td>117</td>\n",
              "      <td>2</td>\n",
              "      <td>58</td>\n",
              "    </tr>\n",
              "  </tbody>\n",
              "</table>\n",
              "</div>"
            ],
            "text/plain": [
              "              NOC  number_athletes  number_coaches  player_coach_ratio\n",
              "0         Belarus              104               1                 104\n",
              "1          Turkey              102               1                 102\n",
              "2        Portugal               85               1                  85\n",
              "3          Poland              195               3                  65\n",
              "4  Czech Republic              117               2                  58"
            ]
          },
          "metadata": {},
          "execution_count": 8
        }
      ]
    },
    {
      "cell_type": "markdown",
      "metadata": {
        "id": "1z1R7jOVppLP"
      },
      "source": [
        "We see that Belarus has the highest player to coach ratio with 104 times more athletes than coaches\n"
      ]
    },
    {
      "cell_type": "markdown",
      "metadata": {
        "id": "e8VKmlF2qgJG"
      },
      "source": [
        "# Sports with Highest female participation percentage"
      ]
    },
    {
      "cell_type": "code",
      "metadata": {
        "colab": {
          "base_uri": "https://localhost:8080/",
          "height": 204
        },
        "id": "cZgn6mxAqg3_",
        "outputId": "fc424385-5234-48d5-8bf3-23448b3a77e5"
      },
      "source": [
        "sql = '''\n",
        "Select Discipline, Female as Count_of_female,Total as Count_of_total ,(cast(Female as float)/cast(Total as float)) * 100 as Female_participation_percentage\n",
        "from entriesgender\n",
        "order by Female_participation_percentage desc\n",
        "''' \n",
        "\n",
        "df_sql = pd.read_sql_query(sql,con=engine)\n",
        "df_sql.head()"
      ],
      "execution_count": null,
      "outputs": [
        {
          "output_type": "execute_result",
          "data": {
            "text/html": [
              "<div>\n",
              "<style scoped>\n",
              "    .dataframe tbody tr th:only-of-type {\n",
              "        vertical-align: middle;\n",
              "    }\n",
              "\n",
              "    .dataframe tbody tr th {\n",
              "        vertical-align: top;\n",
              "    }\n",
              "\n",
              "    .dataframe thead th {\n",
              "        text-align: right;\n",
              "    }\n",
              "</style>\n",
              "<table border=\"1\" class=\"dataframe\">\n",
              "  <thead>\n",
              "    <tr style=\"text-align: right;\">\n",
              "      <th></th>\n",
              "      <th>Discipline</th>\n",
              "      <th>Count_of_female</th>\n",
              "      <th>Count_of_total</th>\n",
              "      <th>Female_participation_percentage</th>\n",
              "    </tr>\n",
              "  </thead>\n",
              "  <tbody>\n",
              "    <tr>\n",
              "      <th>0</th>\n",
              "      <td>Artistic Swimming</td>\n",
              "      <td>105</td>\n",
              "      <td>105</td>\n",
              "      <td>100.000000</td>\n",
              "    </tr>\n",
              "    <tr>\n",
              "      <th>1</th>\n",
              "      <td>Rhythmic Gymnastics</td>\n",
              "      <td>96</td>\n",
              "      <td>96</td>\n",
              "      <td>100.000000</td>\n",
              "    </tr>\n",
              "    <tr>\n",
              "      <th>2</th>\n",
              "      <td>Cycling BMX Freestyle</td>\n",
              "      <td>10</td>\n",
              "      <td>19</td>\n",
              "      <td>52.631579</td>\n",
              "    </tr>\n",
              "    <tr>\n",
              "      <th>3</th>\n",
              "      <td>Diving</td>\n",
              "      <td>72</td>\n",
              "      <td>143</td>\n",
              "      <td>50.349650</td>\n",
              "    </tr>\n",
              "    <tr>\n",
              "      <th>4</th>\n",
              "      <td>3x3 Basketball</td>\n",
              "      <td>32</td>\n",
              "      <td>64</td>\n",
              "      <td>50.000000</td>\n",
              "    </tr>\n",
              "  </tbody>\n",
              "</table>\n",
              "</div>"
            ],
            "text/plain": [
              "              Discipline  ...  Female_participation_percentage\n",
              "0      Artistic Swimming  ...                       100.000000\n",
              "1    Rhythmic Gymnastics  ...                       100.000000\n",
              "2  Cycling BMX Freestyle  ...                        52.631579\n",
              "3                 Diving  ...                        50.349650\n",
              "4         3x3 Basketball  ...                        50.000000\n",
              "\n",
              "[5 rows x 4 columns]"
            ]
          },
          "metadata": {},
          "execution_count": 56
        }
      ]
    },
    {
      "cell_type": "markdown",
      "metadata": {
        "id": "_ssGU2Y5r1h9"
      },
      "source": [
        "We can see that Artistic Swimming and Rhythmic Gymnastics are female dominated sports with 100% female athletes"
      ]
    },
    {
      "cell_type": "markdown",
      "metadata": {
        "id": "aMC4oq1pr_64"
      },
      "source": [
        "# Sports with Highest Male participation Percentage"
      ]
    },
    {
      "cell_type": "code",
      "metadata": {
        "colab": {
          "base_uri": "https://localhost:8080/",
          "height": 204
        },
        "id": "NDesQNFdsKZt",
        "outputId": "7147826b-a968-4660-d6f2-7b7ae2ea9155"
      },
      "source": [
        "sql = '''\n",
        "Select Discipline, Male as Count_of_male,Total as Count_of_total ,(cast(Male as float)/cast(Total as float)) * 100 as Male_participation_percentage\n",
        "from entriesgender\n",
        "order by Male_participation_percentage desc\n",
        "''' \n",
        "\n",
        "df_sql = pd.read_sql_query(sql,con=engine)\n",
        "df_sql.head()"
      ],
      "execution_count": null,
      "outputs": [
        {
          "output_type": "execute_result",
          "data": {
            "text/html": [
              "<div>\n",
              "<style scoped>\n",
              "    .dataframe tbody tr th:only-of-type {\n",
              "        vertical-align: middle;\n",
              "    }\n",
              "\n",
              "    .dataframe tbody tr th {\n",
              "        vertical-align: top;\n",
              "    }\n",
              "\n",
              "    .dataframe thead th {\n",
              "        text-align: right;\n",
              "    }\n",
              "</style>\n",
              "<table border=\"1\" class=\"dataframe\">\n",
              "  <thead>\n",
              "    <tr style=\"text-align: right;\">\n",
              "      <th></th>\n",
              "      <th>Discipline</th>\n",
              "      <th>Count_of_male</th>\n",
              "      <th>Count_of_total</th>\n",
              "      <th>Male_participation_percentage</th>\n",
              "    </tr>\n",
              "  </thead>\n",
              "  <tbody>\n",
              "    <tr>\n",
              "      <th>0</th>\n",
              "      <td>Wrestling</td>\n",
              "      <td>193</td>\n",
              "      <td>289</td>\n",
              "      <td>66.782007</td>\n",
              "    </tr>\n",
              "    <tr>\n",
              "      <th>1</th>\n",
              "      <td>Cycling Road</td>\n",
              "      <td>131</td>\n",
              "      <td>201</td>\n",
              "      <td>65.174129</td>\n",
              "    </tr>\n",
              "    <tr>\n",
              "      <th>2</th>\n",
              "      <td>Boxing</td>\n",
              "      <td>187</td>\n",
              "      <td>289</td>\n",
              "      <td>64.705882</td>\n",
              "    </tr>\n",
              "    <tr>\n",
              "      <th>3</th>\n",
              "      <td>Equestrian</td>\n",
              "      <td>125</td>\n",
              "      <td>198</td>\n",
              "      <td>63.131313</td>\n",
              "    </tr>\n",
              "    <tr>\n",
              "      <th>4</th>\n",
              "      <td>Baseball/Softball</td>\n",
              "      <td>144</td>\n",
              "      <td>234</td>\n",
              "      <td>61.538462</td>\n",
              "    </tr>\n",
              "  </tbody>\n",
              "</table>\n",
              "</div>"
            ],
            "text/plain": [
              "          Discipline  ...  Male_participation_percentage\n",
              "0          Wrestling  ...                      66.782007\n",
              "1       Cycling Road  ...                      65.174129\n",
              "2             Boxing  ...                      64.705882\n",
              "3         Equestrian  ...                      63.131313\n",
              "4  Baseball/Softball  ...                      61.538462\n",
              "\n",
              "[5 rows x 4 columns]"
            ]
          },
          "metadata": {},
          "execution_count": 57
        }
      ]
    },
    {
      "cell_type": "markdown",
      "metadata": {
        "id": "OikLFUJRsTCi"
      },
      "source": [
        "We can see the most male dominated sports are Wrestling, Cycling Road, and Boxing. Unlike some sports that are 100% female dominated, there are no sports where 100% of athletes are men. "
      ]
    },
    {
      "cell_type": "markdown",
      "metadata": {
        "id": "dKfFj8c3Ac82"
      },
      "source": [
        "# Using Case statements to create a new column\n"
      ]
    },
    {
      "cell_type": "markdown",
      "metadata": {
        "id": "zOezwtCeF6-o"
      },
      "source": [
        "Make a new column indicating whether the sport is a ball game"
      ]
    },
    {
      "cell_type": "code",
      "metadata": {
        "colab": {
          "base_uri": "https://localhost:8080/",
          "height": 204
        },
        "id": "cFOyJwFXLUKR",
        "outputId": "f912f2a8-66f2-45a5-a51e-0fc6b2c14451"
      },
      "source": [
        "sql = '''\n",
        "Select Discipline,\n",
        "CASE \n",
        "  WHEN Discipline LIKE '%ball' or Discipline = 'Golf' or Discipline = 'Tennis'\n",
        "  or Discipline LIKE '%Polo'\n",
        "  THEN 'Ball Game'\n",
        "  ELSE 'Non-Ball Game' END as Ball_game_or_not\n",
        "from Athletes\n",
        "group by Discipline\n",
        "order by Discipline\n",
        "''' \n",
        "\n",
        "df_sql = pd.read_sql_query(sql,con=engine)\n",
        "df_sql.tail()"
      ],
      "execution_count": null,
      "outputs": [
        {
          "output_type": "execute_result",
          "data": {
            "text/html": [
              "<div>\n",
              "<style scoped>\n",
              "    .dataframe tbody tr th:only-of-type {\n",
              "        vertical-align: middle;\n",
              "    }\n",
              "\n",
              "    .dataframe tbody tr th {\n",
              "        vertical-align: top;\n",
              "    }\n",
              "\n",
              "    .dataframe thead th {\n",
              "        text-align: right;\n",
              "    }\n",
              "</style>\n",
              "<table border=\"1\" class=\"dataframe\">\n",
              "  <thead>\n",
              "    <tr style=\"text-align: right;\">\n",
              "      <th></th>\n",
              "      <th>Discipline</th>\n",
              "      <th>Ball_game_or_not</th>\n",
              "    </tr>\n",
              "  </thead>\n",
              "  <tbody>\n",
              "    <tr>\n",
              "      <th>41</th>\n",
              "      <td>Triathlon</td>\n",
              "      <td>Non-Ball Game</td>\n",
              "    </tr>\n",
              "    <tr>\n",
              "      <th>42</th>\n",
              "      <td>Volleyball</td>\n",
              "      <td>Ball Game</td>\n",
              "    </tr>\n",
              "    <tr>\n",
              "      <th>43</th>\n",
              "      <td>Water Polo</td>\n",
              "      <td>Ball Game</td>\n",
              "    </tr>\n",
              "    <tr>\n",
              "      <th>44</th>\n",
              "      <td>Weightlifting</td>\n",
              "      <td>Non-Ball Game</td>\n",
              "    </tr>\n",
              "    <tr>\n",
              "      <th>45</th>\n",
              "      <td>Wrestling</td>\n",
              "      <td>Non-Ball Game</td>\n",
              "    </tr>\n",
              "  </tbody>\n",
              "</table>\n",
              "</div>"
            ],
            "text/plain": [
              "       Discipline Ball_game_or_not\n",
              "41      Triathlon    Non-Ball Game\n",
              "42     Volleyball        Ball Game\n",
              "43     Water Polo        Ball Game\n",
              "44  Weightlifting    Non-Ball Game\n",
              "45      Wrestling    Non-Ball Game"
            ]
          },
          "metadata": {},
          "execution_count": 45
        }
      ]
    },
    {
      "cell_type": "markdown",
      "metadata": {
        "id": "LzCiJ6yvMO6g"
      },
      "source": [
        "# Count the number of ball game participants each country has"
      ]
    },
    {
      "cell_type": "code",
      "metadata": {
        "colab": {
          "base_uri": "https://localhost:8080/",
          "height": 419
        },
        "id": "jg2rA7WEAtX0",
        "outputId": "77bdb9d2-d466-429f-fb1c-d24e6762117f"
      },
      "source": [
        "sql = '''\n",
        "WITH ball as (Select *\n",
        "from Athletes\n",
        "where Discipline LIKE '%ball' or Discipline = 'Golf' or Discipline = 'Tennis')\n",
        "SELECT NOC,COUNT(Discipline) as num_ball_game\n",
        "from ball\n",
        "group by NOC\n",
        "order by num_ball_game desc\n",
        "''' \n",
        "\n",
        "df_sql = pd.read_sql_query(sql,con=engine)\n",
        "df_sql"
      ],
      "execution_count": null,
      "outputs": [
        {
          "output_type": "execute_result",
          "data": {
            "text/html": [
              "<div>\n",
              "<style scoped>\n",
              "    .dataframe tbody tr th:only-of-type {\n",
              "        vertical-align: middle;\n",
              "    }\n",
              "\n",
              "    .dataframe tbody tr th {\n",
              "        vertical-align: top;\n",
              "    }\n",
              "\n",
              "    .dataframe thead th {\n",
              "        text-align: right;\n",
              "    }\n",
              "</style>\n",
              "<table border=\"1\" class=\"dataframe\">\n",
              "  <thead>\n",
              "    <tr style=\"text-align: right;\">\n",
              "      <th></th>\n",
              "      <th>NOC</th>\n",
              "      <th>num_ball_game</th>\n",
              "    </tr>\n",
              "  </thead>\n",
              "  <tbody>\n",
              "    <tr>\n",
              "      <th>0</th>\n",
              "      <td>Japan</td>\n",
              "      <td>178</td>\n",
              "    </tr>\n",
              "    <tr>\n",
              "      <th>1</th>\n",
              "      <td>United States of America</td>\n",
              "      <td>133</td>\n",
              "    </tr>\n",
              "    <tr>\n",
              "      <th>2</th>\n",
              "      <td>Brazil</td>\n",
              "      <td>104</td>\n",
              "    </tr>\n",
              "    <tr>\n",
              "      <th>3</th>\n",
              "      <td>Australia</td>\n",
              "      <td>99</td>\n",
              "    </tr>\n",
              "    <tr>\n",
              "      <th>4</th>\n",
              "      <td>France</td>\n",
              "      <td>99</td>\n",
              "    </tr>\n",
              "    <tr>\n",
              "      <th>...</th>\n",
              "      <td>...</td>\n",
              "      <td>...</td>\n",
              "    </tr>\n",
              "    <tr>\n",
              "      <th>72</th>\n",
              "      <td>Hong Kong, China</td>\n",
              "      <td>1</td>\n",
              "    </tr>\n",
              "    <tr>\n",
              "      <th>73</th>\n",
              "      <td>Peru</td>\n",
              "      <td>1</td>\n",
              "    </tr>\n",
              "    <tr>\n",
              "      <th>74</th>\n",
              "      <td>Qatar</td>\n",
              "      <td>1</td>\n",
              "    </tr>\n",
              "    <tr>\n",
              "      <th>75</th>\n",
              "      <td>Uzbekistan</td>\n",
              "      <td>1</td>\n",
              "    </tr>\n",
              "    <tr>\n",
              "      <th>76</th>\n",
              "      <td>Zimbabwe</td>\n",
              "      <td>1</td>\n",
              "    </tr>\n",
              "  </tbody>\n",
              "</table>\n",
              "<p>77 rows × 2 columns</p>\n",
              "</div>"
            ],
            "text/plain": [
              "                         NOC  num_ball_game\n",
              "0                      Japan            178\n",
              "1   United States of America            133\n",
              "2                     Brazil            104\n",
              "3                  Australia             99\n",
              "4                     France             99\n",
              "..                       ...            ...\n",
              "72          Hong Kong, China              1\n",
              "73                      Peru              1\n",
              "74                     Qatar              1\n",
              "75                Uzbekistan              1\n",
              "76                  Zimbabwe              1\n",
              "\n",
              "[77 rows x 2 columns]"
            ]
          },
          "metadata": {},
          "execution_count": 34
        }
      ]
    },
    {
      "cell_type": "markdown",
      "metadata": {
        "id": "3WE682oCMiUC"
      },
      "source": [
        "From the above analysis, we can see that Japan has the most number of participants in the ball games category. "
      ]
    },
    {
      "cell_type": "markdown",
      "metadata": {
        "id": "9cNxSXOTNhPt"
      },
      "source": [
        "Now clean some of the Data"
      ]
    },
    {
      "cell_type": "code",
      "metadata": {
        "colab": {
          "base_uri": "https://localhost:8080/"
        },
        "id": "sx0DVE0Z-ofq",
        "outputId": "142de717-0994-4851-d958-1c94b11b329b"
      },
      "source": [
        "df_coaches.isnull().sum()"
      ],
      "execution_count": null,
      "outputs": [
        {
          "output_type": "execute_result",
          "data": {
            "text/plain": [
              "Name            0\n",
              "NOC             0\n",
              "Discipline      0\n",
              "Event         145\n",
              "dtype: int64"
            ]
          },
          "metadata": {},
          "execution_count": 18
        }
      ]
    },
    {
      "cell_type": "markdown",
      "metadata": {
        "id": "54IM1Sbc_Z6J"
      },
      "source": [
        "Drop Event as there are too many nulls. "
      ]
    },
    {
      "cell_type": "code",
      "metadata": {
        "colab": {
          "base_uri": "https://localhost:8080/",
          "height": 419
        },
        "id": "OPldIVN6_XUV",
        "outputId": "3dab94a3-e689-483c-e34c-e32d2759d710"
      },
      "source": [
        "df_coaches.drop(['Event'],axis = 1)"
      ],
      "execution_count": null,
      "outputs": [
        {
          "output_type": "execute_result",
          "data": {
            "text/html": [
              "<div>\n",
              "<style scoped>\n",
              "    .dataframe tbody tr th:only-of-type {\n",
              "        vertical-align: middle;\n",
              "    }\n",
              "\n",
              "    .dataframe tbody tr th {\n",
              "        vertical-align: top;\n",
              "    }\n",
              "\n",
              "    .dataframe thead th {\n",
              "        text-align: right;\n",
              "    }\n",
              "</style>\n",
              "<table border=\"1\" class=\"dataframe\">\n",
              "  <thead>\n",
              "    <tr style=\"text-align: right;\">\n",
              "      <th></th>\n",
              "      <th>Name</th>\n",
              "      <th>NOC</th>\n",
              "      <th>Discipline</th>\n",
              "    </tr>\n",
              "  </thead>\n",
              "  <tbody>\n",
              "    <tr>\n",
              "      <th>0</th>\n",
              "      <td>ABDELMAGID Wael</td>\n",
              "      <td>Egypt</td>\n",
              "      <td>Football</td>\n",
              "    </tr>\n",
              "    <tr>\n",
              "      <th>1</th>\n",
              "      <td>ABE Junya</td>\n",
              "      <td>Japan</td>\n",
              "      <td>Volleyball</td>\n",
              "    </tr>\n",
              "    <tr>\n",
              "      <th>2</th>\n",
              "      <td>ABE Katsuhiko</td>\n",
              "      <td>Japan</td>\n",
              "      <td>Basketball</td>\n",
              "    </tr>\n",
              "    <tr>\n",
              "      <th>3</th>\n",
              "      <td>ADAMA Cherif</td>\n",
              "      <td>Côte d'Ivoire</td>\n",
              "      <td>Football</td>\n",
              "    </tr>\n",
              "    <tr>\n",
              "      <th>4</th>\n",
              "      <td>AGEBA Yuya</td>\n",
              "      <td>Japan</td>\n",
              "      <td>Volleyball</td>\n",
              "    </tr>\n",
              "    <tr>\n",
              "      <th>...</th>\n",
              "      <td>...</td>\n",
              "      <td>...</td>\n",
              "      <td>...</td>\n",
              "    </tr>\n",
              "    <tr>\n",
              "      <th>389</th>\n",
              "      <td>ZAMORA PEDREIRA Javier</td>\n",
              "      <td>Spain</td>\n",
              "      <td>Basketball</td>\n",
              "    </tr>\n",
              "    <tr>\n",
              "      <th>390</th>\n",
              "      <td>ZAMPIERI Francesca</td>\n",
              "      <td>Liechtenstein</td>\n",
              "      <td>Artistic Swimming</td>\n",
              "    </tr>\n",
              "    <tr>\n",
              "      <th>391</th>\n",
              "      <td>ZHANG Xiaohuan</td>\n",
              "      <td>People's Republic of China</td>\n",
              "      <td>Artistic Swimming</td>\n",
              "    </tr>\n",
              "    <tr>\n",
              "      <th>392</th>\n",
              "      <td>ZIJP Simon</td>\n",
              "      <td>Netherlands</td>\n",
              "      <td>Hockey</td>\n",
              "    </tr>\n",
              "    <tr>\n",
              "      <th>393</th>\n",
              "      <td>ZONDI Nkuliso</td>\n",
              "      <td>South Africa</td>\n",
              "      <td>Hockey</td>\n",
              "    </tr>\n",
              "  </tbody>\n",
              "</table>\n",
              "<p>394 rows × 3 columns</p>\n",
              "</div>"
            ],
            "text/plain": [
              "                       Name                         NOC         Discipline\n",
              "0           ABDELMAGID Wael                       Egypt           Football\n",
              "1                 ABE Junya                       Japan         Volleyball\n",
              "2             ABE Katsuhiko                       Japan         Basketball\n",
              "3              ADAMA Cherif               Côte d'Ivoire           Football\n",
              "4                AGEBA Yuya                       Japan         Volleyball\n",
              "..                      ...                         ...                ...\n",
              "389  ZAMORA PEDREIRA Javier                       Spain         Basketball\n",
              "390      ZAMPIERI Francesca               Liechtenstein  Artistic Swimming\n",
              "391          ZHANG Xiaohuan  People's Republic of China  Artistic Swimming\n",
              "392              ZIJP Simon                 Netherlands             Hockey\n",
              "393           ZONDI Nkuliso                South Africa             Hockey\n",
              "\n",
              "[394 rows x 3 columns]"
            ]
          },
          "metadata": {},
          "execution_count": 23
        }
      ]
    },
    {
      "cell_type": "markdown",
      "metadata": {
        "id": "fqc99WiQ-Vnx"
      },
      "source": [
        "This dataset is actually pretty clean, and the reduction of the Events column will suffice"
      ]
    },
    {
      "cell_type": "code",
      "metadata": {
        "colab": {
          "base_uri": "https://localhost:8080/"
        },
        "id": "trMwfIAy3byB",
        "outputId": "900a8994-379e-4dea-c2ac-26c005eea1b5"
      },
      "source": [
        "df_medals.info()"
      ],
      "execution_count": null,
      "outputs": [
        {
          "output_type": "stream",
          "name": "stdout",
          "text": [
            "<class 'pandas.core.frame.DataFrame'>\n",
            "RangeIndex: 93 entries, 0 to 92\n",
            "Data columns (total 7 columns):\n",
            " #   Column         Non-Null Count  Dtype \n",
            "---  ------         --------------  ----- \n",
            " 0   Rank           93 non-null     int64 \n",
            " 1   Team/NOC       93 non-null     object\n",
            " 2   Gold           93 non-null     int64 \n",
            " 3   Silver         93 non-null     int64 \n",
            " 4   Bronze         93 non-null     int64 \n",
            " 5   Total          93 non-null     int64 \n",
            " 6   Rank by Total  93 non-null     int64 \n",
            "dtypes: int64(6), object(1)\n",
            "memory usage: 5.2+ KB\n"
          ]
        }
      ]
    },
    {
      "cell_type": "code",
      "metadata": {
        "id": "rD6tYTqQntlX"
      },
      "source": [
        "df_athletes.to_csv('/content/gdrive/My Drive/2021olympic/df_athletes.csv')\n",
        "df_entriesgender.to_csv('/content/gdrive/My Drive/2021olympic/df_entriesgender.csv')\n",
        "df_teams.to_csv('/content/gdrive/My Drive/2021olympic/df_teams.csv')\n",
        "df_coaches.to_csv('/content/gdrive/My Drive/2021olympic/df_coaches.csv')\n",
        "df_medals.to_csv('/content/gdrive/My Drive/2021olympic/df_medals.csv')"
      ],
      "execution_count": null,
      "outputs": []
    }
  ]
}