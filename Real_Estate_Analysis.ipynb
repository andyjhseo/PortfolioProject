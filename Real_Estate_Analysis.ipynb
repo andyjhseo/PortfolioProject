{
  "nbformat": 4,
  "nbformat_minor": 0,
  "metadata": {
    "colab": {
      "name": "Real Estate Analysis.ipynb",
      "provenance": []
    },
    "kernelspec": {
      "name": "python3",
      "display_name": "Python 3"
    },
    "language_info": {
      "name": "python"
    }
  },
  "cells": [
    {
      "cell_type": "code",
      "metadata": {
        "id": "K_BpGM_P-ZR1"
      },
      "source": [
        "import numpy as np # linear algebra\n",
        "import pandas as pd # data processing, CSV file I/O (e.g. pd.read_csv)\n",
        "import seaborn as sns \n",
        "import matplotlib.pyplot as plt\n"
      ],
      "execution_count": 1,
      "outputs": []
    },
    {
      "cell_type": "code",
      "metadata": {
        "colab": {
          "base_uri": "https://localhost:8080/"
        },
        "id": "0ZLnvoDc_Hm2",
        "outputId": "3c50f50d-d562-47d0-e089-8f42024c4b66"
      },
      "source": [
        "from google.colab import drive\n",
        "drive.mount('/content/gdrive')"
      ],
      "execution_count": 2,
      "outputs": [
        {
          "output_type": "stream",
          "name": "stdout",
          "text": [
            "Drive already mounted at /content/gdrive; to attempt to forcibly remount, call drive.mount(\"/content/gdrive\", force_remount=True).\n"
          ]
        }
      ]
    },
    {
      "cell_type": "markdown",
      "metadata": {
        "id": "iCBRB-iD3DqH"
      },
      "source": [
        "This project is an Exploratory Data Analysis for Housing Data extracted from realtor.ca using Web scraping. I used web scraping to extract the address, price, number of rooms, number of bathrooms, property type, building type, storeys, community name, title, annual property taxes (in CAD), parking type, property type for houses near Richmond Hill Ontario. (https://www.realtor.ca/map#ZoomLevel=12&Center=43.903631%2C-79.428110&LatitudeMax=44.00682&LongitudeMax=-79.15620&LatitudeMin=43.80027&LongitudeMin=-79.70002&view=list&Sort=6-D&PGeoIds=g30_dpz9b86g&GeoName=Richmond%20Hill%2C%20ON&PropertyTypeGroupID=1&PropertySearchTypeId=1&TransactionTypeId=2&Currency=CAD) .\n",
        "If I were to get all the data at once, we ran into complications as the website had a bot proof verification, so I had to split up the data collection process into 7 different datasets. I will be cleaning the data, doing some feature engineering, and will be making an interactive dashboard to present my findings. "
      ]
    },
    {
      "cell_type": "markdown",
      "metadata": {
        "id": "Mc_1dURY5WyQ"
      },
      "source": [
        "# Importing the Data"
      ]
    },
    {
      "cell_type": "code",
      "metadata": {
        "id": "uGldpD1u_JCQ"
      },
      "source": [
        "df_realtor0 = pd.read_csv('/content/gdrive/My Drive/realtor.ca/realtor0-850000.csv')\n",
        "df_realtor1 = pd.read_csv('/content/gdrive/My Drive/realtor.ca/realtor850000-1200000.csv')\n",
        "df_realtor2 = pd.read_csv('/content/gdrive/My Drive/realtor.ca/realtor1200000-1500000.csv')\n",
        "df_realtor3 = pd.read_csv('/content/gdrive/My Drive/realtor.ca/realtor1500000-1800000.csv')\n",
        "df_realtor4 = pd.read_csv('/content/gdrive/My Drive/realtor.ca/realtor1800000-2500000.csv')\n",
        "df_realtor5 = pd.read_csv('/content/gdrive/My Drive/realtor.ca/realtor2500000-3500000.csv')\n",
        "df_realtor6 = pd.read_csv('/content/gdrive/My Drive/realtor.ca/realtor3500000-5000000.csv')"
      ],
      "execution_count": 3,
      "outputs": []
    },
    {
      "cell_type": "markdown",
      "metadata": {
        "id": "-7wsYWe25ZS2"
      },
      "source": [
        "Combining the 7 datasets into one big dataset as the datasets have identical columns. "
      ]
    },
    {
      "cell_type": "code",
      "metadata": {
        "id": "WV4mV1QvqCmi"
      },
      "source": [
        "df_realtor = pd.concat([df_realtor0, df_realtor1, df_realtor2, df_realtor3, df_realtor4, df_realtor5, df_realtor6], ignore_index=True)"
      ],
      "execution_count": 4,
      "outputs": []
    },
    {
      "cell_type": "code",
      "metadata": {
        "colab": {
          "base_uri": "https://localhost:8080/"
        },
        "id": "vTZrnQjmrLVY",
        "outputId": "6632fc41-3a82-436a-f223-8d859331120b"
      },
      "source": [
        "df_realtor.shape"
      ],
      "execution_count": 5,
      "outputs": [
        {
          "output_type": "execute_result",
          "data": {
            "text/plain": [
              "(1063, 16)"
            ]
          },
          "metadata": {},
          "execution_count": 5
        }
      ]
    },
    {
      "cell_type": "markdown",
      "metadata": {
        "id": "fLBKP1g05oUg"
      },
      "source": [
        "Now that the dataset is combined and loaded into the pandas dataframe, we may start looking for missing values and proceed with the Data Cleaning Process."
      ]
    },
    {
      "cell_type": "markdown",
      "metadata": {
        "id": "-IUGVcPF5xfO"
      },
      "source": [
        "# Data Cleaning"
      ]
    },
    {
      "cell_type": "markdown",
      "metadata": {
        "id": "42WidQGFC8xl"
      },
      "source": [
        "We would often perform EDA before the cleaning process, but this data is dirty in a sense that the datatype of price is a string, for example. Would be difficult to explore the data with these complications. We clean the data first,change the datatype, explore the data, perform feature engineering, then to summarize our findings."
      ]
    },
    {
      "cell_type": "code",
      "metadata": {
        "colab": {
          "base_uri": "https://localhost:8080/"
        },
        "id": "oeKmKP7koYA2",
        "outputId": "59b8123a-8e3b-4420-bb77-dfa300075c8b"
      },
      "source": [
        "df_realtor.isna().sum()"
      ],
      "execution_count": 6,
      "outputs": [
        {
          "output_type": "execute_result",
          "data": {
            "text/plain": [
              "web-scraper-order           0\n",
              "web-scraper-start-url       0\n",
              "nextpage                 1063\n",
              "link                        0\n",
              "link-href                   0\n",
              "address                     5\n",
              "price                       5\n",
              "num_rooms                  58\n",
              "num_bath                   27\n",
              "Property Type               5\n",
              "Building Type              62\n",
              "storeys                   308\n",
              "Community Name             14\n",
              "Title                      73\n",
              "Annual Property Taxes      14\n",
              "Parking Type              115\n",
              "dtype: int64"
            ]
          },
          "metadata": {},
          "execution_count": 6
        }
      ]
    },
    {
      "cell_type": "code",
      "metadata": {
        "colab": {
          "base_uri": "https://localhost:8080/",
          "height": 510
        },
        "id": "VKhfofqg53z7",
        "outputId": "6b2878fb-03ce-4515-c136-c463f57c3bbb"
      },
      "source": [
        "df_realtor.head()"
      ],
      "execution_count": 7,
      "outputs": [
        {
          "output_type": "execute_result",
          "data": {
            "text/html": [
              "<div>\n",
              "<style scoped>\n",
              "    .dataframe tbody tr th:only-of-type {\n",
              "        vertical-align: middle;\n",
              "    }\n",
              "\n",
              "    .dataframe tbody tr th {\n",
              "        vertical-align: top;\n",
              "    }\n",
              "\n",
              "    .dataframe thead th {\n",
              "        text-align: right;\n",
              "    }\n",
              "</style>\n",
              "<table border=\"1\" class=\"dataframe\">\n",
              "  <thead>\n",
              "    <tr style=\"text-align: right;\">\n",
              "      <th></th>\n",
              "      <th>web-scraper-order</th>\n",
              "      <th>web-scraper-start-url</th>\n",
              "      <th>nextpage</th>\n",
              "      <th>link</th>\n",
              "      <th>link-href</th>\n",
              "      <th>address</th>\n",
              "      <th>price</th>\n",
              "      <th>num_rooms</th>\n",
              "      <th>num_bath</th>\n",
              "      <th>Property Type</th>\n",
              "      <th>Building Type</th>\n",
              "      <th>storeys</th>\n",
              "      <th>Community Name</th>\n",
              "      <th>Title</th>\n",
              "      <th>Annual Property Taxes</th>\n",
              "      <th>Parking Type</th>\n",
              "    </tr>\n",
              "  </thead>\n",
              "  <tbody>\n",
              "    <tr>\n",
              "      <th>0</th>\n",
              "      <td>1634702012-570</td>\n",
              "      <td>https://www.realtor.ca/map#ZoomLevel=12&amp;Center...</td>\n",
              "      <td>NaN</td>\n",
              "      <td>MLS®: E5358167                    $535,000    ...</td>\n",
              "      <td>https://www.realtor.ca/real-estate/23595880/70...</td>\n",
              "      <td>#708 -480 MCLEVIN AVE\\nToronto, Ontario M1B5N9</td>\n",
              "      <td>$535,000</td>\n",
              "      <td>2</td>\n",
              "      <td>2.0</td>\n",
              "      <td>Single Family</td>\n",
              "      <td>Apartment</td>\n",
              "      <td>NaN</td>\n",
              "      <td>Malvern</td>\n",
              "      <td>Condominium/Strata</td>\n",
              "      <td>$1,173.15 (CAD)</td>\n",
              "      <td>Underground, Visitor Parking</td>\n",
              "    </tr>\n",
              "    <tr>\n",
              "      <th>1</th>\n",
              "      <td>1634701801-520</td>\n",
              "      <td>https://www.realtor.ca/map#ZoomLevel=12&amp;Center...</td>\n",
              "      <td>NaN</td>\n",
              "      <td>MLS®: N5280313                    $659,999    ...</td>\n",
              "      <td>https://www.realtor.ca/real-estate/23353498/24...</td>\n",
              "      <td>#2414 -8960 JANE ST\\nVaughan, Ontario L4K2M9</td>\n",
              "      <td>$659,999</td>\n",
              "      <td>1 + 1</td>\n",
              "      <td>2.0</td>\n",
              "      <td>Single Family</td>\n",
              "      <td>Apartment</td>\n",
              "      <td>NaN</td>\n",
              "      <td>Concord</td>\n",
              "      <td>Condominium/Strata</td>\n",
              "      <td>$0 (CAD)</td>\n",
              "      <td>Underground</td>\n",
              "    </tr>\n",
              "    <tr>\n",
              "      <th>2</th>\n",
              "      <td>1634702473-679</td>\n",
              "      <td>https://www.realtor.ca/map#ZoomLevel=12&amp;Center...</td>\n",
              "      <td>NaN</td>\n",
              "      <td>MLS®: N5393778                    $508,000    ...</td>\n",
              "      <td>https://www.realtor.ca/real-estate/23709262/20...</td>\n",
              "      <td>#202 -9017 LESLIE ST\\nRichmond Hill, Ontario L...</td>\n",
              "      <td>$508,000</td>\n",
              "      <td>1</td>\n",
              "      <td>1.0</td>\n",
              "      <td>Single Family</td>\n",
              "      <td>Apartment</td>\n",
              "      <td>NaN</td>\n",
              "      <td>Beaver Creek Business Park</td>\n",
              "      <td>Condominium/Strata</td>\n",
              "      <td>$1,516.97 (CAD)</td>\n",
              "      <td>Underground</td>\n",
              "    </tr>\n",
              "    <tr>\n",
              "      <th>3</th>\n",
              "      <td>1634702550-697</td>\n",
              "      <td>https://www.realtor.ca/map#ZoomLevel=12&amp;Center...</td>\n",
              "      <td>NaN</td>\n",
              "      <td>MLS®: E5396455                    $475,000    ...</td>\n",
              "      <td>https://www.realtor.ca/real-estate/23716831/ph...</td>\n",
              "      <td>#PH 11 -25 SILVER SPRINGS BLVD\\nToronto, Ontar...</td>\n",
              "      <td>$475,000</td>\n",
              "      <td>1 + 1</td>\n",
              "      <td>1.0</td>\n",
              "      <td>Single Family</td>\n",
              "      <td>Apartment</td>\n",
              "      <td>NaN</td>\n",
              "      <td>L'Amoreaux</td>\n",
              "      <td>Condominium/Strata</td>\n",
              "      <td>$1,496.98 (CAD)</td>\n",
              "      <td>Underground</td>\n",
              "    </tr>\n",
              "    <tr>\n",
              "      <th>4</th>\n",
              "      <td>1634701810-522</td>\n",
              "      <td>https://www.realtor.ca/map#ZoomLevel=12&amp;Center...</td>\n",
              "      <td>NaN</td>\n",
              "      <td>MLS®: N5297044                    $599,900    ...</td>\n",
              "      <td>https://www.realtor.ca/real-estate/23407327/19...</td>\n",
              "      <td>#1922 -8960 JANE ST\\nVaughan, Ontario</td>\n",
              "      <td>$599,900</td>\n",
              "      <td>1 + 1</td>\n",
              "      <td>1.0</td>\n",
              "      <td>Single Family</td>\n",
              "      <td>Apartment</td>\n",
              "      <td>NaN</td>\n",
              "      <td>Concord</td>\n",
              "      <td>Condominium/Strata</td>\n",
              "      <td>$0 (CAD)</td>\n",
              "      <td>Underground</td>\n",
              "    </tr>\n",
              "  </tbody>\n",
              "</table>\n",
              "</div>"
            ],
            "text/plain": [
              "  web-scraper-order  ...                  Parking Type\n",
              "0    1634702012-570  ...  Underground, Visitor Parking\n",
              "1    1634701801-520  ...                   Underground\n",
              "2    1634702473-679  ...                   Underground\n",
              "3    1634702550-697  ...                   Underground\n",
              "4    1634701810-522  ...                   Underground\n",
              "\n",
              "[5 rows x 16 columns]"
            ]
          },
          "metadata": {},
          "execution_count": 7
        }
      ]
    },
    {
      "cell_type": "markdown",
      "metadata": {
        "id": "lfPkftfu508g"
      },
      "source": [
        "We may safely remove the columns web-scraper-order, web-scraper-start-url,nextpage, link, link-href as they are meaningless to the housing analysis. "
      ]
    },
    {
      "cell_type": "code",
      "metadata": {
        "id": "KQkHTyUr6ZmD"
      },
      "source": [
        "df_realtor = df_realtor.drop(['web-scraper-order','web-scraper-start-url','nextpage','link','link-href'], axis = 1)"
      ],
      "execution_count": 8,
      "outputs": []
    },
    {
      "cell_type": "code",
      "metadata": {
        "colab": {
          "base_uri": "https://localhost:8080/",
          "height": 204
        },
        "id": "HgxzpuNG6lzl",
        "outputId": "a12d6652-d13a-4657-8eeb-280a533bcb9e"
      },
      "source": [
        "df_realtor.head()"
      ],
      "execution_count": 9,
      "outputs": [
        {
          "output_type": "execute_result",
          "data": {
            "text/html": [
              "<div>\n",
              "<style scoped>\n",
              "    .dataframe tbody tr th:only-of-type {\n",
              "        vertical-align: middle;\n",
              "    }\n",
              "\n",
              "    .dataframe tbody tr th {\n",
              "        vertical-align: top;\n",
              "    }\n",
              "\n",
              "    .dataframe thead th {\n",
              "        text-align: right;\n",
              "    }\n",
              "</style>\n",
              "<table border=\"1\" class=\"dataframe\">\n",
              "  <thead>\n",
              "    <tr style=\"text-align: right;\">\n",
              "      <th></th>\n",
              "      <th>address</th>\n",
              "      <th>price</th>\n",
              "      <th>num_rooms</th>\n",
              "      <th>num_bath</th>\n",
              "      <th>Property Type</th>\n",
              "      <th>Building Type</th>\n",
              "      <th>storeys</th>\n",
              "      <th>Community Name</th>\n",
              "      <th>Title</th>\n",
              "      <th>Annual Property Taxes</th>\n",
              "      <th>Parking Type</th>\n",
              "    </tr>\n",
              "  </thead>\n",
              "  <tbody>\n",
              "    <tr>\n",
              "      <th>0</th>\n",
              "      <td>#708 -480 MCLEVIN AVE\\nToronto, Ontario M1B5N9</td>\n",
              "      <td>$535,000</td>\n",
              "      <td>2</td>\n",
              "      <td>2.0</td>\n",
              "      <td>Single Family</td>\n",
              "      <td>Apartment</td>\n",
              "      <td>NaN</td>\n",
              "      <td>Malvern</td>\n",
              "      <td>Condominium/Strata</td>\n",
              "      <td>$1,173.15 (CAD)</td>\n",
              "      <td>Underground, Visitor Parking</td>\n",
              "    </tr>\n",
              "    <tr>\n",
              "      <th>1</th>\n",
              "      <td>#2414 -8960 JANE ST\\nVaughan, Ontario L4K2M9</td>\n",
              "      <td>$659,999</td>\n",
              "      <td>1 + 1</td>\n",
              "      <td>2.0</td>\n",
              "      <td>Single Family</td>\n",
              "      <td>Apartment</td>\n",
              "      <td>NaN</td>\n",
              "      <td>Concord</td>\n",
              "      <td>Condominium/Strata</td>\n",
              "      <td>$0 (CAD)</td>\n",
              "      <td>Underground</td>\n",
              "    </tr>\n",
              "    <tr>\n",
              "      <th>2</th>\n",
              "      <td>#202 -9017 LESLIE ST\\nRichmond Hill, Ontario L...</td>\n",
              "      <td>$508,000</td>\n",
              "      <td>1</td>\n",
              "      <td>1.0</td>\n",
              "      <td>Single Family</td>\n",
              "      <td>Apartment</td>\n",
              "      <td>NaN</td>\n",
              "      <td>Beaver Creek Business Park</td>\n",
              "      <td>Condominium/Strata</td>\n",
              "      <td>$1,516.97 (CAD)</td>\n",
              "      <td>Underground</td>\n",
              "    </tr>\n",
              "    <tr>\n",
              "      <th>3</th>\n",
              "      <td>#PH 11 -25 SILVER SPRINGS BLVD\\nToronto, Ontar...</td>\n",
              "      <td>$475,000</td>\n",
              "      <td>1 + 1</td>\n",
              "      <td>1.0</td>\n",
              "      <td>Single Family</td>\n",
              "      <td>Apartment</td>\n",
              "      <td>NaN</td>\n",
              "      <td>L'Amoreaux</td>\n",
              "      <td>Condominium/Strata</td>\n",
              "      <td>$1,496.98 (CAD)</td>\n",
              "      <td>Underground</td>\n",
              "    </tr>\n",
              "    <tr>\n",
              "      <th>4</th>\n",
              "      <td>#1922 -8960 JANE ST\\nVaughan, Ontario</td>\n",
              "      <td>$599,900</td>\n",
              "      <td>1 + 1</td>\n",
              "      <td>1.0</td>\n",
              "      <td>Single Family</td>\n",
              "      <td>Apartment</td>\n",
              "      <td>NaN</td>\n",
              "      <td>Concord</td>\n",
              "      <td>Condominium/Strata</td>\n",
              "      <td>$0 (CAD)</td>\n",
              "      <td>Underground</td>\n",
              "    </tr>\n",
              "  </tbody>\n",
              "</table>\n",
              "</div>"
            ],
            "text/plain": [
              "                                             address  ...                  Parking Type\n",
              "0     #708 -480 MCLEVIN AVE\\nToronto, Ontario M1B5N9  ...  Underground, Visitor Parking\n",
              "1       #2414 -8960 JANE ST\\nVaughan, Ontario L4K2M9  ...                   Underground\n",
              "2  #202 -9017 LESLIE ST\\nRichmond Hill, Ontario L...  ...                   Underground\n",
              "3  #PH 11 -25 SILVER SPRINGS BLVD\\nToronto, Ontar...  ...                   Underground\n",
              "4              #1922 -8960 JANE ST\\nVaughan, Ontario  ...                   Underground\n",
              "\n",
              "[5 rows x 11 columns]"
            ]
          },
          "metadata": {},
          "execution_count": 9
        }
      ]
    },
    {
      "cell_type": "markdown",
      "metadata": {
        "id": "OSZ9ayCW66Mp"
      },
      "source": [
        "Now, we consider the columns address, price, community name, and annual property taxes. These have very little missing values compared to other ones. We can just get rid of the rows with missing values in those columns. Also, By looking through the dataset, I've noticed that there are some misleading information on the website. Some houses are listed as low as a dollar and it is inaccurate information. We can filter out the prices that are lower than $100,000."
      ]
    },
    {
      "cell_type": "code",
      "metadata": {
        "id": "BUZt9YSV7M5H"
      },
      "source": [
        "df_realtor = df_realtor.drop(df_realtor[df_realtor['address'].isna()].index)\n",
        "df_realtor = df_realtor.drop(df_realtor[df_realtor['price'].isna()].index)\n",
        "df_realtor = df_realtor.drop(df_realtor[df_realtor['Community Name'].isna()].index)\n",
        "df_realtor = df_realtor.drop(df_realtor[df_realtor['Annual Property Taxes'].isna()].index)"
      ],
      "execution_count": 10,
      "outputs": []
    },
    {
      "cell_type": "code",
      "metadata": {
        "colab": {
          "base_uri": "https://localhost:8080/"
        },
        "id": "jcPfTx2_7ZBk",
        "outputId": "1498acfe-e076-4364-bacb-c980ace1d836"
      },
      "source": [
        "df_realtor.isna().sum()"
      ],
      "execution_count": 11,
      "outputs": [
        {
          "output_type": "execute_result",
          "data": {
            "text/plain": [
              "address                    0\n",
              "price                      0\n",
              "num_rooms                 53\n",
              "num_bath                  22\n",
              "Property Type              0\n",
              "Building Type             57\n",
              "storeys                  302\n",
              "Community Name             0\n",
              "Title                     68\n",
              "Annual Property Taxes      0\n",
              "Parking Type             109\n",
              "dtype: int64"
            ]
          },
          "metadata": {},
          "execution_count": 11
        }
      ]
    },
    {
      "cell_type": "markdown",
      "metadata": {
        "id": "hZfraqb87ofL"
      },
      "source": [
        "Now, to clean the rest of the data, I took a look at the rows with missing values for number of rooms to determine why."
      ]
    },
    {
      "cell_type": "code",
      "metadata": {
        "colab": {
          "base_uri": "https://localhost:8080/",
          "height": 359
        },
        "id": "rgyZXT0s7hmp",
        "outputId": "31fbe026-1e11-4c2b-fcdc-9cd001eabf43"
      },
      "source": [
        "df_realtor[df_realtor['num_rooms'].isna()].head(10)"
      ],
      "execution_count": 12,
      "outputs": [
        {
          "output_type": "execute_result",
          "data": {
            "text/html": [
              "<div>\n",
              "<style scoped>\n",
              "    .dataframe tbody tr th:only-of-type {\n",
              "        vertical-align: middle;\n",
              "    }\n",
              "\n",
              "    .dataframe tbody tr th {\n",
              "        vertical-align: top;\n",
              "    }\n",
              "\n",
              "    .dataframe thead th {\n",
              "        text-align: right;\n",
              "    }\n",
              "</style>\n",
              "<table border=\"1\" class=\"dataframe\">\n",
              "  <thead>\n",
              "    <tr style=\"text-align: right;\">\n",
              "      <th></th>\n",
              "      <th>address</th>\n",
              "      <th>price</th>\n",
              "      <th>num_rooms</th>\n",
              "      <th>num_bath</th>\n",
              "      <th>Property Type</th>\n",
              "      <th>Building Type</th>\n",
              "      <th>storeys</th>\n",
              "      <th>Community Name</th>\n",
              "      <th>Title</th>\n",
              "      <th>Annual Property Taxes</th>\n",
              "      <th>Parking Type</th>\n",
              "    </tr>\n",
              "  </thead>\n",
              "  <tbody>\n",
              "    <tr>\n",
              "      <th>9</th>\n",
              "      <td>0 HIGHWAY 50\\nBrampton, Ontario L6P0V6</td>\n",
              "      <td>$1</td>\n",
              "      <td>NaN</td>\n",
              "      <td>NaN</td>\n",
              "      <td>Vacant Land</td>\n",
              "      <td>NaN</td>\n",
              "      <td>NaN</td>\n",
              "      <td>Highway 427</td>\n",
              "      <td>NaN</td>\n",
              "      <td>$0 (CAD)</td>\n",
              "      <td>NaN</td>\n",
              "    </tr>\n",
              "    <tr>\n",
              "      <th>12</th>\n",
              "      <td>1260 CENTRE ST\\nVaughan, Ontario L4J3M9</td>\n",
              "      <td>$1</td>\n",
              "      <td>NaN</td>\n",
              "      <td>NaN</td>\n",
              "      <td>Vacant Land</td>\n",
              "      <td>NaN</td>\n",
              "      <td>NaN</td>\n",
              "      <td>Beverley Glen</td>\n",
              "      <td>NaN</td>\n",
              "      <td>$42,877.45 (CAD)</td>\n",
              "      <td>NaN</td>\n",
              "    </tr>\n",
              "    <tr>\n",
              "      <th>41</th>\n",
              "      <td>4151 HIGHWAY 7\\nMarkham, Ontario L3R1L5</td>\n",
              "      <td>$1</td>\n",
              "      <td>NaN</td>\n",
              "      <td>NaN</td>\n",
              "      <td>Vacant Land</td>\n",
              "      <td>NaN</td>\n",
              "      <td>NaN</td>\n",
              "      <td>Unionville</td>\n",
              "      <td>NaN</td>\n",
              "      <td>$21,335.69 (CAD)</td>\n",
              "      <td>NaN</td>\n",
              "    </tr>\n",
              "    <tr>\n",
              "      <th>43</th>\n",
              "      <td>2265 MARKHAM RD\\nToronto, Ontario M1B2W3</td>\n",
              "      <td>$1</td>\n",
              "      <td>NaN</td>\n",
              "      <td>NaN</td>\n",
              "      <td>Vacant Land</td>\n",
              "      <td>NaN</td>\n",
              "      <td>NaN</td>\n",
              "      <td>Agincourt North</td>\n",
              "      <td>NaN</td>\n",
              "      <td>$26,049 (CAD)</td>\n",
              "      <td>NaN</td>\n",
              "    </tr>\n",
              "    <tr>\n",
              "      <th>46</th>\n",
              "      <td>7760 NINTH LINE\\nMarkham, Ontario L6B1A8</td>\n",
              "      <td>$1</td>\n",
              "      <td>NaN</td>\n",
              "      <td>0.0</td>\n",
              "      <td>Vacant Land</td>\n",
              "      <td>NaN</td>\n",
              "      <td>NaN</td>\n",
              "      <td>Legacy</td>\n",
              "      <td>NaN</td>\n",
              "      <td>$3,461.33 (CAD)</td>\n",
              "      <td>NaN</td>\n",
              "    </tr>\n",
              "    <tr>\n",
              "      <th>48</th>\n",
              "      <td>7768 NINTH LINE\\nMarkham, Ontario L6B1A8</td>\n",
              "      <td>$1</td>\n",
              "      <td>NaN</td>\n",
              "      <td>0.0</td>\n",
              "      <td>Vacant Land</td>\n",
              "      <td>NaN</td>\n",
              "      <td>NaN</td>\n",
              "      <td>Legacy</td>\n",
              "      <td>NaN</td>\n",
              "      <td>$1,934.83 (CAD)</td>\n",
              "      <td>NaN</td>\n",
              "    </tr>\n",
              "    <tr>\n",
              "      <th>60</th>\n",
              "      <td>7790 NINTH LINE\\nMarkham, Ontario L6B1A8</td>\n",
              "      <td>$1</td>\n",
              "      <td>NaN</td>\n",
              "      <td>0.0</td>\n",
              "      <td>Vacant Land</td>\n",
              "      <td>NaN</td>\n",
              "      <td>NaN</td>\n",
              "      <td>Legacy</td>\n",
              "      <td>NaN</td>\n",
              "      <td>$1,934.83 (CAD)</td>\n",
              "      <td>NaN</td>\n",
              "    </tr>\n",
              "    <tr>\n",
              "      <th>66</th>\n",
              "      <td>7782 NINTH LINE\\nMarkham, Ontario L6B1A8</td>\n",
              "      <td>$1</td>\n",
              "      <td>NaN</td>\n",
              "      <td>0.0</td>\n",
              "      <td>Vacant Land</td>\n",
              "      <td>NaN</td>\n",
              "      <td>NaN</td>\n",
              "      <td>Legacy</td>\n",
              "      <td>NaN</td>\n",
              "      <td>$1,934.83 (CAD)</td>\n",
              "      <td>NaN</td>\n",
              "    </tr>\n",
              "    <tr>\n",
              "      <th>84</th>\n",
              "      <td>30-46 OLD KENNEDY RD\\nMarkham, Ontario L3R5E6</td>\n",
              "      <td>$1</td>\n",
              "      <td>NaN</td>\n",
              "      <td>NaN</td>\n",
              "      <td>Vacant Land</td>\n",
              "      <td>NaN</td>\n",
              "      <td>NaN</td>\n",
              "      <td>Milliken Mills East</td>\n",
              "      <td>NaN</td>\n",
              "      <td>$1 (CAD)</td>\n",
              "      <td>NaN</td>\n",
              "    </tr>\n",
              "    <tr>\n",
              "      <th>89</th>\n",
              "      <td>7776 NINTH LINE\\nMarkham, Ontario L6B1A8</td>\n",
              "      <td>$1</td>\n",
              "      <td>NaN</td>\n",
              "      <td>0.0</td>\n",
              "      <td>Vacant Land</td>\n",
              "      <td>NaN</td>\n",
              "      <td>NaN</td>\n",
              "      <td>Legacy</td>\n",
              "      <td>NaN</td>\n",
              "      <td>$48,881 (CAD)</td>\n",
              "      <td>NaN</td>\n",
              "    </tr>\n",
              "  </tbody>\n",
              "</table>\n",
              "</div>"
            ],
            "text/plain": [
              "                                          address  ... Parking Type\n",
              "9          0 HIGHWAY 50\\nBrampton, Ontario L6P0V6  ...          NaN\n",
              "12        1260 CENTRE ST\\nVaughan, Ontario L4J3M9  ...          NaN\n",
              "41        4151 HIGHWAY 7\\nMarkham, Ontario L3R1L5  ...          NaN\n",
              "43       2265 MARKHAM RD\\nToronto, Ontario M1B2W3  ...          NaN\n",
              "46       7760 NINTH LINE\\nMarkham, Ontario L6B1A8  ...          NaN\n",
              "48       7768 NINTH LINE\\nMarkham, Ontario L6B1A8  ...          NaN\n",
              "60       7790 NINTH LINE\\nMarkham, Ontario L6B1A8  ...          NaN\n",
              "66       7782 NINTH LINE\\nMarkham, Ontario L6B1A8  ...          NaN\n",
              "84  30-46 OLD KENNEDY RD\\nMarkham, Ontario L3R5E6  ...          NaN\n",
              "89       7776 NINTH LINE\\nMarkham, Ontario L6B1A8  ...          NaN\n",
              "\n",
              "[10 rows x 11 columns]"
            ]
          },
          "metadata": {},
          "execution_count": 12
        }
      ]
    },
    {
      "cell_type": "code",
      "metadata": {
        "colab": {
          "base_uri": "https://localhost:8080/"
        },
        "id": "x46JSBtR9EDe",
        "outputId": "26510899-52bb-4bda-a74a-1732de7ca0c4"
      },
      "source": [
        "df_realtor[df_realtor['Property Type'] == \"Vacant Land\"].shape"
      ],
      "execution_count": 13,
      "outputs": [
        {
          "output_type": "execute_result",
          "data": {
            "text/plain": [
              "(57, 11)"
            ]
          },
          "metadata": {},
          "execution_count": 13
        }
      ]
    },
    {
      "cell_type": "markdown",
      "metadata": {
        "id": "Df-cjtuU99yj"
      },
      "source": [
        "After seeing the rows with missing values for number of rooms, we notice that the Property Type for all of them are Vacant Land. Since we are interested in analyzing the housing trends, we may discard all rows with Property Type matching Vacant Land."
      ]
    },
    {
      "cell_type": "code",
      "metadata": {
        "id": "elJqErh59z-G"
      },
      "source": [
        "df_realtor = df_realtor.drop(df_realtor[df_realtor['Property Type'] == \"Vacant Land\"].index)\n"
      ],
      "execution_count": 14,
      "outputs": []
    },
    {
      "cell_type": "code",
      "metadata": {
        "colab": {
          "base_uri": "https://localhost:8080/"
        },
        "id": "hEy1dSqZ-lwA",
        "outputId": "d8258ed6-9411-4bee-d532-3dbca28bdc2c"
      },
      "source": [
        "df_realtor.isna().sum()"
      ],
      "execution_count": 15,
      "outputs": [
        {
          "output_type": "execute_result",
          "data": {
            "text/plain": [
              "address                    0\n",
              "price                      0\n",
              "num_rooms                  2\n",
              "num_bath                   0\n",
              "Property Type              0\n",
              "Building Type              0\n",
              "storeys                  246\n",
              "Community Name             0\n",
              "Title                     11\n",
              "Annual Property Taxes      0\n",
              "Parking Type              53\n",
              "dtype: int64"
            ]
          },
          "metadata": {},
          "execution_count": 15
        }
      ]
    },
    {
      "cell_type": "markdown",
      "metadata": {
        "id": "ZRpcTsCY-3ON"
      },
      "source": [
        "We notice that discarding the 57 listings for Vacant Land helped alot with cleaning. Now, we only have 2 missing values for number of rooms, 246 for storeys, 11 for Title, and 53 for Parking Type. Since Title and Number of rooms have insignificant number of missing values, we will remove those rows."
      ]
    },
    {
      "cell_type": "code",
      "metadata": {
        "id": "WyA5asZH_WYH"
      },
      "source": [
        "df_realtor = df_realtor.drop(df_realtor[df_realtor['num_rooms'].isna()].index)\n",
        "df_realtor = df_realtor.drop(df_realtor[df_realtor['Title'].isna()].index)"
      ],
      "execution_count": 16,
      "outputs": []
    },
    {
      "cell_type": "markdown",
      "metadata": {
        "id": "4eXhpEhb_jEX"
      },
      "source": [
        "Now for the number of storeys, we mustn't discard the rows as there a significant amount of rows with missing values. It would be reasonable to replace them by the average storey height for each building type. "
      ]
    },
    {
      "cell_type": "code",
      "metadata": {
        "colab": {
          "base_uri": "https://localhost:8080/",
          "height": 173
        },
        "id": "e5LJ54k3ARHa",
        "outputId": "45ebab18-f209-4cb9-d550-aeedb7391684"
      },
      "source": [
        "df_realtor.groupby('Building Type').mean()"
      ],
      "execution_count": 17,
      "outputs": [
        {
          "output_type": "execute_result",
          "data": {
            "text/html": [
              "<div>\n",
              "<style scoped>\n",
              "    .dataframe tbody tr th:only-of-type {\n",
              "        vertical-align: middle;\n",
              "    }\n",
              "\n",
              "    .dataframe tbody tr th {\n",
              "        vertical-align: top;\n",
              "    }\n",
              "\n",
              "    .dataframe thead th {\n",
              "        text-align: right;\n",
              "    }\n",
              "</style>\n",
              "<table border=\"1\" class=\"dataframe\">\n",
              "  <thead>\n",
              "    <tr style=\"text-align: right;\">\n",
              "      <th></th>\n",
              "      <th>num_bath</th>\n",
              "      <th>storeys</th>\n",
              "    </tr>\n",
              "    <tr>\n",
              "      <th>Building Type</th>\n",
              "      <th></th>\n",
              "      <th></th>\n",
              "    </tr>\n",
              "  </thead>\n",
              "  <tbody>\n",
              "    <tr>\n",
              "      <th>Apartment</th>\n",
              "      <td>1.829016</td>\n",
              "      <td>2.200000</td>\n",
              "    </tr>\n",
              "    <tr>\n",
              "      <th>House</th>\n",
              "      <td>3.988304</td>\n",
              "      <td>1.822153</td>\n",
              "    </tr>\n",
              "    <tr>\n",
              "      <th>Row / Townhouse</th>\n",
              "      <td>3.298077</td>\n",
              "      <td>2.483146</td>\n",
              "    </tr>\n",
              "  </tbody>\n",
              "</table>\n",
              "</div>"
            ],
            "text/plain": [
              "                 num_bath   storeys\n",
              "Building Type                      \n",
              "Apartment        1.829016  2.200000\n",
              "House            3.988304  1.822153\n",
              "Row / Townhouse  3.298077  2.483146"
            ]
          },
          "metadata": {},
          "execution_count": 17
        }
      ]
    },
    {
      "cell_type": "markdown",
      "metadata": {
        "id": "YLKeWKqYBsvb"
      },
      "source": [
        "The data seems strange here. Apartments are usually higher than 2 storeys and also doesnt make sense that a townhouse is taller than an apartment. After investigation, we notice that Realtor.ca usually does not provide apartment storeys information and only provides storey information for houses and townhouses. As there are misleading and incomplete data, we should remove storeys column as it does not really give important insights."
      ]
    },
    {
      "cell_type": "code",
      "metadata": {
        "id": "90SGrwnlHU4R"
      },
      "source": [
        "df_realtor = df_realtor.drop(['storeys'], axis = 1)"
      ],
      "execution_count": 18,
      "outputs": []
    },
    {
      "cell_type": "code",
      "metadata": {
        "colab": {
          "base_uri": "https://localhost:8080/"
        },
        "id": "-v2Y4wHp_d-F",
        "outputId": "21c162a3-f5a4-40bc-884a-e04c81cd13a2"
      },
      "source": [
        "df_realtor.isna().sum()"
      ],
      "execution_count": 19,
      "outputs": [
        {
          "output_type": "execute_result",
          "data": {
            "text/plain": [
              "address                   0\n",
              "price                     0\n",
              "num_rooms                 0\n",
              "num_bath                  0\n",
              "Property Type             0\n",
              "Building Type             0\n",
              "Community Name            0\n",
              "Title                     0\n",
              "Annual Property Taxes     0\n",
              "Parking Type             53\n",
              "dtype: int64"
            ]
          },
          "metadata": {},
          "execution_count": 19
        }
      ]
    },
    {
      "cell_type": "markdown",
      "metadata": {
        "id": "3SdeMHFTRQWU"
      },
      "source": [
        "For parking type, we can drop the rows with missing values. There are inconsistencies in the data because some realtors do not include the parking type information on the website. "
      ]
    },
    {
      "cell_type": "code",
      "metadata": {
        "id": "AecNKzWEPEdX"
      },
      "source": [
        "df_realtor = df_realtor.drop(df_realtor[df_realtor['Parking Type'].isna()].index)"
      ],
      "execution_count": 20,
      "outputs": []
    },
    {
      "cell_type": "markdown",
      "metadata": {
        "id": "TVI05vUmTa5f"
      },
      "source": [
        "Now we have successfully dealt with the missing values in the data. Now before we proceed with feature engineering, we must first clean up the address by removing newline (\\n)."
      ]
    },
    {
      "cell_type": "code",
      "metadata": {
        "colab": {
          "base_uri": "https://localhost:8080/",
          "height": 204
        },
        "id": "IZPQhpb4Uf9R",
        "outputId": "c5944cf2-10e2-41bc-e718-f9520a696597"
      },
      "source": [
        "df_realtor.head()"
      ],
      "execution_count": 21,
      "outputs": [
        {
          "output_type": "execute_result",
          "data": {
            "text/html": [
              "<div>\n",
              "<style scoped>\n",
              "    .dataframe tbody tr th:only-of-type {\n",
              "        vertical-align: middle;\n",
              "    }\n",
              "\n",
              "    .dataframe tbody tr th {\n",
              "        vertical-align: top;\n",
              "    }\n",
              "\n",
              "    .dataframe thead th {\n",
              "        text-align: right;\n",
              "    }\n",
              "</style>\n",
              "<table border=\"1\" class=\"dataframe\">\n",
              "  <thead>\n",
              "    <tr style=\"text-align: right;\">\n",
              "      <th></th>\n",
              "      <th>address</th>\n",
              "      <th>price</th>\n",
              "      <th>num_rooms</th>\n",
              "      <th>num_bath</th>\n",
              "      <th>Property Type</th>\n",
              "      <th>Building Type</th>\n",
              "      <th>Community Name</th>\n",
              "      <th>Title</th>\n",
              "      <th>Annual Property Taxes</th>\n",
              "      <th>Parking Type</th>\n",
              "    </tr>\n",
              "  </thead>\n",
              "  <tbody>\n",
              "    <tr>\n",
              "      <th>0</th>\n",
              "      <td>#708 -480 MCLEVIN AVE\\nToronto, Ontario M1B5N9</td>\n",
              "      <td>$535,000</td>\n",
              "      <td>2</td>\n",
              "      <td>2.0</td>\n",
              "      <td>Single Family</td>\n",
              "      <td>Apartment</td>\n",
              "      <td>Malvern</td>\n",
              "      <td>Condominium/Strata</td>\n",
              "      <td>$1,173.15 (CAD)</td>\n",
              "      <td>Underground, Visitor Parking</td>\n",
              "    </tr>\n",
              "    <tr>\n",
              "      <th>1</th>\n",
              "      <td>#2414 -8960 JANE ST\\nVaughan, Ontario L4K2M9</td>\n",
              "      <td>$659,999</td>\n",
              "      <td>1 + 1</td>\n",
              "      <td>2.0</td>\n",
              "      <td>Single Family</td>\n",
              "      <td>Apartment</td>\n",
              "      <td>Concord</td>\n",
              "      <td>Condominium/Strata</td>\n",
              "      <td>$0 (CAD)</td>\n",
              "      <td>Underground</td>\n",
              "    </tr>\n",
              "    <tr>\n",
              "      <th>2</th>\n",
              "      <td>#202 -9017 LESLIE ST\\nRichmond Hill, Ontario L...</td>\n",
              "      <td>$508,000</td>\n",
              "      <td>1</td>\n",
              "      <td>1.0</td>\n",
              "      <td>Single Family</td>\n",
              "      <td>Apartment</td>\n",
              "      <td>Beaver Creek Business Park</td>\n",
              "      <td>Condominium/Strata</td>\n",
              "      <td>$1,516.97 (CAD)</td>\n",
              "      <td>Underground</td>\n",
              "    </tr>\n",
              "    <tr>\n",
              "      <th>3</th>\n",
              "      <td>#PH 11 -25 SILVER SPRINGS BLVD\\nToronto, Ontar...</td>\n",
              "      <td>$475,000</td>\n",
              "      <td>1 + 1</td>\n",
              "      <td>1.0</td>\n",
              "      <td>Single Family</td>\n",
              "      <td>Apartment</td>\n",
              "      <td>L'Amoreaux</td>\n",
              "      <td>Condominium/Strata</td>\n",
              "      <td>$1,496.98 (CAD)</td>\n",
              "      <td>Underground</td>\n",
              "    </tr>\n",
              "    <tr>\n",
              "      <th>4</th>\n",
              "      <td>#1922 -8960 JANE ST\\nVaughan, Ontario</td>\n",
              "      <td>$599,900</td>\n",
              "      <td>1 + 1</td>\n",
              "      <td>1.0</td>\n",
              "      <td>Single Family</td>\n",
              "      <td>Apartment</td>\n",
              "      <td>Concord</td>\n",
              "      <td>Condominium/Strata</td>\n",
              "      <td>$0 (CAD)</td>\n",
              "      <td>Underground</td>\n",
              "    </tr>\n",
              "  </tbody>\n",
              "</table>\n",
              "</div>"
            ],
            "text/plain": [
              "                                             address  ...                  Parking Type\n",
              "0     #708 -480 MCLEVIN AVE\\nToronto, Ontario M1B5N9  ...  Underground, Visitor Parking\n",
              "1       #2414 -8960 JANE ST\\nVaughan, Ontario L4K2M9  ...                   Underground\n",
              "2  #202 -9017 LESLIE ST\\nRichmond Hill, Ontario L...  ...                   Underground\n",
              "3  #PH 11 -25 SILVER SPRINGS BLVD\\nToronto, Ontar...  ...                   Underground\n",
              "4              #1922 -8960 JANE ST\\nVaughan, Ontario  ...                   Underground\n",
              "\n",
              "[5 rows x 10 columns]"
            ]
          },
          "metadata": {},
          "execution_count": 21
        }
      ]
    },
    {
      "cell_type": "code",
      "metadata": {
        "id": "6stX0N8wTJmn"
      },
      "source": [
        "df_realtor['address'] = df_realtor['address'].apply(lambda x: x.split(\"\\n\")[0] + \" \" + x.split(\"\\n\")[1] if len(x.split(\"\\n\")) > 1 else x)"
      ],
      "execution_count": 22,
      "outputs": []
    },
    {
      "cell_type": "markdown",
      "metadata": {
        "id": "Yy0Y134aX3d5"
      },
      "source": [
        "Now, we change the columns price and Annual Property Taxes to strip the dollar sign,comma, and(CAD). Then we convert to proper datatypes."
      ]
    },
    {
      "cell_type": "code",
      "metadata": {
        "id": "uszo1XWMYq00"
      },
      "source": [
        "df_realtor['price'] = df_realtor['price'].apply(lambda x: x.strip(\"$\"))\n",
        "df_realtor['price'] = df_realtor['price'].apply(lambda x: x.replace(\",\",\"\"))\n",
        "df_realtor['Annual Property Taxes'] = df_realtor['Annual Property Taxes'].apply(lambda x: x.strip(\"$\"))\n",
        "df_realtor['Annual Property Taxes'] = df_realtor['Annual Property Taxes'].apply(lambda x: x.strip(\"(CAD)\"))\n",
        "df_realtor['Annual Property Taxes'] = df_realtor['Annual Property Taxes'].apply(lambda x: x.replace(\",\",\"\"))"
      ],
      "execution_count": 23,
      "outputs": []
    },
    {
      "cell_type": "markdown",
      "metadata": {
        "id": "QD5e2DXFZJaO"
      },
      "source": [
        "# Changing to appropriate Data Types"
      ]
    },
    {
      "cell_type": "markdown",
      "metadata": {
        "id": "45hwZb6qbfrq"
      },
      "source": [
        "Price, Number of Bathrooms, storeys, and annual property taxes need to be numeric so we change them to appropriate numeric data types. We need to also change the datatype for num_rooms, but we need to do some feature engineering first so we will leave that for now. Property type, Building Type, Title, and Parking type need to be categorical."
      ]
    },
    {
      "cell_type": "code",
      "metadata": {
        "colab": {
          "base_uri": "https://localhost:8080/"
        },
        "id": "2vi7hTzXbSqr",
        "outputId": "c8bff974-b807-4ac9-8743-7f15b1e67876"
      },
      "source": [
        "df_realtor.info()"
      ],
      "execution_count": 24,
      "outputs": [
        {
          "output_type": "stream",
          "name": "stdout",
          "text": [
            "<class 'pandas.core.frame.DataFrame'>\n",
            "Int64Index: 928 entries, 0 to 1062\n",
            "Data columns (total 10 columns):\n",
            " #   Column                 Non-Null Count  Dtype  \n",
            "---  ------                 --------------  -----  \n",
            " 0   address                928 non-null    object \n",
            " 1   price                  928 non-null    object \n",
            " 2   num_rooms              928 non-null    object \n",
            " 3   num_bath               928 non-null    float64\n",
            " 4   Property Type          928 non-null    object \n",
            " 5   Building Type          928 non-null    object \n",
            " 6   Community Name         928 non-null    object \n",
            " 7   Title                  928 non-null    object \n",
            " 8   Annual Property Taxes  928 non-null    object \n",
            " 9   Parking Type           928 non-null    object \n",
            "dtypes: float64(1), object(9)\n",
            "memory usage: 79.8+ KB\n"
          ]
        }
      ]
    },
    {
      "cell_type": "code",
      "metadata": {
        "id": "18Wya6kHZI-q"
      },
      "source": [
        "df_realtor['price'] = df_realtor['price'].astype('int64')\n",
        "df_realtor['num_bath'] = df_realtor['num_bath'].astype('float64')\n",
        "df_realtor['Annual Property Taxes'] = df_realtor['Annual Property Taxes'].astype('float64')\n",
        "df_realtor['Property Type'] = df_realtor['Property Type'].astype('category')\n",
        "df_realtor['Building Type'] = df_realtor['Building Type'].astype('category')\n",
        "df_realtor['Title'] = df_realtor['Title'].astype('category')\n",
        "df_realtor['Parking Type'] = df_realtor['Parking Type'].astype('category')\n",
        "\n",
        "\n"
      ],
      "execution_count": 25,
      "outputs": []
    },
    {
      "cell_type": "markdown",
      "metadata": {
        "id": "uTtgQgGhEMTn"
      },
      "source": [
        "#Exploratory Data Analysis\n"
      ]
    },
    {
      "cell_type": "code",
      "metadata": {
        "colab": {
          "base_uri": "https://localhost:8080/"
        },
        "id": "BfU8pnubESav",
        "outputId": "7d09ac9a-fbe3-4f5e-e4a4-f80d2eaadc64"
      },
      "source": [
        "df_realtor.info()"
      ],
      "execution_count": 26,
      "outputs": [
        {
          "output_type": "stream",
          "name": "stdout",
          "text": [
            "<class 'pandas.core.frame.DataFrame'>\n",
            "Int64Index: 928 entries, 0 to 1062\n",
            "Data columns (total 10 columns):\n",
            " #   Column                 Non-Null Count  Dtype   \n",
            "---  ------                 --------------  -----   \n",
            " 0   address                928 non-null    object  \n",
            " 1   price                  928 non-null    int64   \n",
            " 2   num_rooms              928 non-null    object  \n",
            " 3   num_bath               928 non-null    float64 \n",
            " 4   Property Type          928 non-null    category\n",
            " 5   Building Type          928 non-null    category\n",
            " 6   Community Name         928 non-null    object  \n",
            " 7   Title                  928 non-null    category\n",
            " 8   Annual Property Taxes  928 non-null    float64 \n",
            " 9   Parking Type           928 non-null    category\n",
            "dtypes: category(4), float64(2), int64(1), object(3)\n",
            "memory usage: 55.1+ KB\n"
          ]
        }
      ]
    },
    {
      "cell_type": "code",
      "metadata": {
        "id": "VRKmNczQE3CF"
      },
      "source": [
        "df_realtor_cat = df_realtor[['address','num_rooms','Property Type','Building Type','Community Name','Title','Parking Type']]\n",
        "df_realtor_num = df_realtor[['price','num_bath','Annual Property Taxes']]"
      ],
      "execution_count": 27,
      "outputs": []
    },
    {
      "cell_type": "markdown",
      "metadata": {
        "id": "KhxqG4_fLs8y"
      },
      "source": [
        " **EDA for Categorical Data**"
      ]
    },
    {
      "cell_type": "code",
      "metadata": {
        "colab": {
          "base_uri": "https://localhost:8080/",
          "height": 497
        },
        "id": "UExkKM2JGKJG",
        "outputId": "e4878e17-6e5d-48ca-d2d5-d9d2ea6b5660"
      },
      "source": [
        "f,ax=plt.subplots(2,2,figsize=(16,8))\n",
        "sns.countplot(y = 'num_rooms',data=df_realtor_cat,order = df_realtor_cat['num_rooms'].value_counts().index, ax = ax[0,0])\n",
        "sns.countplot(y = 'Building Type',data=df_realtor_cat,order = df_realtor_cat['Building Type'].value_counts().index, ax = ax[0,1])\n",
        "sns.countplot(y = 'Parking Type',data=df_realtor_cat,order = df_realtor_cat['Parking Type'].value_counts().index, ax = ax[1,0])\n",
        "sns.countplot(y = 'Title',data=df_realtor_cat,order = df_realtor_cat['Title'].value_counts().index, ax = ax[1,1])\n",
        "\n",
        "plt.show()"
      ],
      "execution_count": 28,
      "outputs": [
        {
          "output_type": "display_data",
          "data": {
            "image/png": "[encoded data removed]",
            "text/plain": [
              "<Figure size 1152x576 with 4 Axes>"
            ]
          },
          "metadata": {
            "needs_background": "light"
          }
        }
      ]
    },
    {
      "cell_type": "markdown",
      "metadata": {
        "id": "ZwlqNb4XLzGe"
      },
      "source": [
        "We see that most houses around the Richmond Hill area have 4,4+1,3 bedrooms. Also we notice most of the listings are house listings and comparably small listings for apartment and townhouses. Of those houses that are listed, significant number of them have an attached garage."
      ]
    },
    {
      "cell_type": "markdown",
      "metadata": {
        "id": "B1YvhMh2LwN4"
      },
      "source": [
        "**EDA for Numerical Data**"
      ]
    },
    {
      "cell_type": "code",
      "metadata": {
        "colab": {
          "base_uri": "https://localhost:8080/",
          "height": 526
        },
        "id": "QhEMpL_VNDO6",
        "outputId": "c5810bdb-5593-46b7-c1da-f67c7cab2132"
      },
      "source": [
        "f,ax=plt.subplots(2,2,figsize=(16,8))\n",
        "sns.scatterplot(data=df_realtor_num, x=\"num_bath\", y=\"price\",ax = ax[0,0])\n",
        "sns.scatterplot(data=df_realtor_num, x=\"Annual Property Taxes\", y=\"price\",ax = ax[0,1])\n",
        "sns.scatterplot(data=df_realtor_num, x=\"num_bath\", y=\"Annual Property Taxes\",ax = ax[1,0])\n",
        "sns.heatmap(df_realtor_num.corr(), ax = ax[1,1])"
      ],
      "execution_count": 29,
      "outputs": [
        {
          "output_type": "execute_result",
          "data": {
            "text/plain": [
              "<matplotlib.axes._subplots.AxesSubplot at 0x7f1a9d296790>"
            ]
          },
          "metadata": {},
          "execution_count": 29
        },
        {
          "output_type": "display_data",
          "data": {
            "image/png": "[encoded data removed]",
            "text/plain": [
              "<Figure size 1152x576 with 5 Axes>"
            ]
          },
          "metadata": {
            "needs_background": "light"
          }
        }
      ]
    },
    {
      "cell_type": "markdown",
      "metadata": {
        "id": "Yy_nTrgfOrSw"
      },
      "source": [
        "We see that there is some correlation between the price and the annual property taxes. This is obvious as more expensive houses tend to get taxed more. One abnormality we see here is that some of the annual property taxes information is 0 for some listings. This could have misleading information when looking at the average for certain regions. We should therefore replace them with the median. "
      ]
    },
    {
      "cell_type": "code",
      "metadata": {
        "colab": {
          "base_uri": "https://localhost:8080/"
        },
        "id": "HVfcSoPuQFMh",
        "outputId": "1ff64d83-c9cf-42c7-b179-e760c21ec670"
      },
      "source": [
        "df_realtor.groupby(['Building Type'])['Annual Property Taxes'].median()"
      ],
      "execution_count": 30,
      "outputs": [
        {
          "output_type": "execute_result",
          "data": {
            "text/plain": [
              "Building Type\n",
              "Apartment          2173.225\n",
              "House              7000.000\n",
              "Row / Townhouse    3681.670\n",
              "Name: Annual Property Taxes, dtype: float64"
            ]
          },
          "metadata": {},
          "execution_count": 30
        }
      ]
    },
    {
      "cell_type": "code",
      "metadata": {
        "id": "hzvcv83BUNpG"
      },
      "source": [
        "df_realtor.loc[df_realtor['Building Type'] == \"Apartment\",'Annual Property Taxes'] = df_realtor.loc[df_realtor['Building Type'] == \"Apartment\",'Annual Property Taxes'].replace(0,2173.23)\n",
        "df_realtor.loc[df_realtor['Building Type'] == \"House\",'Annual Property Taxes'] = df_realtor.loc[df_realtor['Building Type'] == \"House\",'Annual Property Taxes'].replace(0,7000.00)\n",
        "df_realtor.loc[df_realtor['Building Type'] == \"Row / Townhouse\",'Annual Property Taxes'] = df_realtor.loc[df_realtor['Building Type'] == \"Row / Townhouse\",'Annual Property Taxes'].replace(0,3681.67)"
      ],
      "execution_count": 31,
      "outputs": []
    },
    {
      "cell_type": "code",
      "metadata": {
        "colab": {
          "base_uri": "https://localhost:8080/",
          "height": 419
        },
        "id": "cAZrbd0kSBM1",
        "outputId": "1407aef5-ec2a-4822-d5a6-bc3eeb8742c8"
      },
      "source": [
        "df_realtor"
      ],
      "execution_count": 32,
      "outputs": [
        {
          "output_type": "execute_result",
          "data": {
            "text/html": [
              "<div>\n",
              "<style scoped>\n",
              "    .dataframe tbody tr th:only-of-type {\n",
              "        vertical-align: middle;\n",
              "    }\n",
              "\n",
              "    .dataframe tbody tr th {\n",
              "        vertical-align: top;\n",
              "    }\n",
              "\n",
              "    .dataframe thead th {\n",
              "        text-align: right;\n",
              "    }\n",
              "</style>\n",
              "<table border=\"1\" class=\"dataframe\">\n",
              "  <thead>\n",
              "    <tr style=\"text-align: right;\">\n",
              "      <th></th>\n",
              "      <th>address</th>\n",
              "      <th>price</th>\n",
              "      <th>num_rooms</th>\n",
              "      <th>num_bath</th>\n",
              "      <th>Property Type</th>\n",
              "      <th>Building Type</th>\n",
              "      <th>Community Name</th>\n",
              "      <th>Title</th>\n",
              "      <th>Annual Property Taxes</th>\n",
              "      <th>Parking Type</th>\n",
              "    </tr>\n",
              "  </thead>\n",
              "  <tbody>\n",
              "    <tr>\n",
              "      <th>0</th>\n",
              "      <td>#708 -480 MCLEVIN AVE Toronto, Ontario M1B5N9</td>\n",
              "      <td>535000</td>\n",
              "      <td>2</td>\n",
              "      <td>2.0</td>\n",
              "      <td>Single Family</td>\n",
              "      <td>Apartment</td>\n",
              "      <td>Malvern</td>\n",
              "      <td>Condominium/Strata</td>\n",
              "      <td>1173.15</td>\n",
              "      <td>Underground, Visitor Parking</td>\n",
              "    </tr>\n",
              "    <tr>\n",
              "      <th>1</th>\n",
              "      <td>#2414 -8960 JANE ST Vaughan, Ontario L4K2M9</td>\n",
              "      <td>659999</td>\n",
              "      <td>1 + 1</td>\n",
              "      <td>2.0</td>\n",
              "      <td>Single Family</td>\n",
              "      <td>Apartment</td>\n",
              "      <td>Concord</td>\n",
              "      <td>Condominium/Strata</td>\n",
              "      <td>2173.23</td>\n",
              "      <td>Underground</td>\n",
              "    </tr>\n",
              "    <tr>\n",
              "      <th>2</th>\n",
              "      <td>#202 -9017 LESLIE ST Richmond Hill, Ontario L4...</td>\n",
              "      <td>508000</td>\n",
              "      <td>1</td>\n",
              "      <td>1.0</td>\n",
              "      <td>Single Family</td>\n",
              "      <td>Apartment</td>\n",
              "      <td>Beaver Creek Business Park</td>\n",
              "      <td>Condominium/Strata</td>\n",
              "      <td>1516.97</td>\n",
              "      <td>Underground</td>\n",
              "    </tr>\n",
              "    <tr>\n",
              "      <th>3</th>\n",
              "      <td>#PH 11 -25 SILVER SPRINGS BLVD Toronto, Ontari...</td>\n",
              "      <td>475000</td>\n",
              "      <td>1 + 1</td>\n",
              "      <td>1.0</td>\n",
              "      <td>Single Family</td>\n",
              "      <td>Apartment</td>\n",
              "      <td>L'Amoreaux</td>\n",
              "      <td>Condominium/Strata</td>\n",
              "      <td>1496.98</td>\n",
              "      <td>Underground</td>\n",
              "    </tr>\n",
              "    <tr>\n",
              "      <th>4</th>\n",
              "      <td>#1922 -8960 JANE ST Vaughan, Ontario</td>\n",
              "      <td>599900</td>\n",
              "      <td>1 + 1</td>\n",
              "      <td>1.0</td>\n",
              "      <td>Single Family</td>\n",
              "      <td>Apartment</td>\n",
              "      <td>Concord</td>\n",
              "      <td>Condominium/Strata</td>\n",
              "      <td>2173.23</td>\n",
              "      <td>Underground</td>\n",
              "    </tr>\n",
              "    <tr>\n",
              "      <th>...</th>\n",
              "      <td>...</td>\n",
              "      <td>...</td>\n",
              "      <td>...</td>\n",
              "      <td>...</td>\n",
              "      <td>...</td>\n",
              "      <td>...</td>\n",
              "      <td>...</td>\n",
              "      <td>...</td>\n",
              "      <td>...</td>\n",
              "      <td>...</td>\n",
              "    </tr>\n",
              "    <tr>\n",
              "      <th>1056</th>\n",
              "      <td>20 CLARIDGE DR Richmond Hill, Ontario L4C6H1</td>\n",
              "      <td>4800000</td>\n",
              "      <td>5 + 2</td>\n",
              "      <td>8.0</td>\n",
              "      <td>Single Family</td>\n",
              "      <td>House</td>\n",
              "      <td>South Richvale</td>\n",
              "      <td>Freehold</td>\n",
              "      <td>18830.12</td>\n",
              "      <td>Attached Garage</td>\n",
              "    </tr>\n",
              "    <tr>\n",
              "      <th>1057</th>\n",
              "      <td>68 MAPLE GROVE AVE Richmond Hill, Ontario L4E2X2</td>\n",
              "      <td>3999888</td>\n",
              "      <td>4 + 1</td>\n",
              "      <td>6.0</td>\n",
              "      <td>Single Family</td>\n",
              "      <td>House</td>\n",
              "      <td>Oak Ridges</td>\n",
              "      <td>Freehold</td>\n",
              "      <td>15837.87</td>\n",
              "      <td>Attached Garage</td>\n",
              "    </tr>\n",
              "    <tr>\n",
              "      <th>1059</th>\n",
              "      <td>4665 19TH AVE Markham, Ontario L6C1M3</td>\n",
              "      <td>4280000</td>\n",
              "      <td>3</td>\n",
              "      <td>2.0</td>\n",
              "      <td>Single Family</td>\n",
              "      <td>House</td>\n",
              "      <td>Rural Markham</td>\n",
              "      <td>Freehold</td>\n",
              "      <td>4556.00</td>\n",
              "      <td>Attached Garage</td>\n",
              "    </tr>\n",
              "    <tr>\n",
              "      <th>1061</th>\n",
              "      <td>303 TORREY PINES RD Vaughan, Ontario L4H3X3</td>\n",
              "      <td>3670000</td>\n",
              "      <td>5</td>\n",
              "      <td>7.0</td>\n",
              "      <td>Single Family</td>\n",
              "      <td>House</td>\n",
              "      <td>Kleinburg</td>\n",
              "      <td>Freehold</td>\n",
              "      <td>15208.00</td>\n",
              "      <td>Garage</td>\n",
              "    </tr>\n",
              "    <tr>\n",
              "      <th>1062</th>\n",
              "      <td>171 MILLWOOD PKWY Vaughan, Ontario L4H4X5</td>\n",
              "      <td>4399900</td>\n",
              "      <td>5 + 1</td>\n",
              "      <td>6.0</td>\n",
              "      <td>Single Family</td>\n",
              "      <td>House</td>\n",
              "      <td>Vellore Village</td>\n",
              "      <td>Freehold</td>\n",
              "      <td>12936.42</td>\n",
              "      <td>Attached Garage</td>\n",
              "    </tr>\n",
              "  </tbody>\n",
              "</table>\n",
              "<p>928 rows × 10 columns</p>\n",
              "</div>"
            ],
            "text/plain": [
              "                                                address  ...                  Parking Type\n",
              "0         #708 -480 MCLEVIN AVE Toronto, Ontario M1B5N9  ...  Underground, Visitor Parking\n",
              "1           #2414 -8960 JANE ST Vaughan, Ontario L4K2M9  ...                   Underground\n",
              "2     #202 -9017 LESLIE ST Richmond Hill, Ontario L4...  ...                   Underground\n",
              "3     #PH 11 -25 SILVER SPRINGS BLVD Toronto, Ontari...  ...                   Underground\n",
              "4                  #1922 -8960 JANE ST Vaughan, Ontario  ...                   Underground\n",
              "...                                                 ...  ...                           ...\n",
              "1056       20 CLARIDGE DR Richmond Hill, Ontario L4C6H1  ...               Attached Garage\n",
              "1057   68 MAPLE GROVE AVE Richmond Hill, Ontario L4E2X2  ...               Attached Garage\n",
              "1059              4665 19TH AVE Markham, Ontario L6C1M3  ...               Attached Garage\n",
              "1061        303 TORREY PINES RD Vaughan, Ontario L4H3X3  ...                        Garage\n",
              "1062          171 MILLWOOD PKWY Vaughan, Ontario L4H4X5  ...               Attached Garage\n",
              "\n",
              "[928 rows x 10 columns]"
            ]
          },
          "metadata": {},
          "execution_count": 32
        }
      ]
    },
    {
      "cell_type": "markdown",
      "metadata": {
        "id": "YjSlpnADbDTp"
      },
      "source": [
        "# Feature Engineering"
      ]
    },
    {
      "cell_type": "markdown",
      "metadata": {
        "id": "VBTCXD9NcYvQ"
      },
      "source": [
        "For feature engineering, we first need to extract the number of rooms and number of dens from num_rooms column. If there is a den then it comes after the + sign. We can extract 2 new columns from this. Number of bedrooms and number of den."
      ]
    },
    {
      "cell_type": "code",
      "metadata": {
        "id": "d1iNRz7gbFTq"
      },
      "source": [
        "df_realtor['num_beds'] = df_realtor['num_rooms'].apply(lambda x: x.split(\"+\")[0] if len(x.split(\"+\")) > 1 else x)\n",
        "df_realtor['num_den'] = df_realtor['num_rooms'].apply(lambda x: x.split(\"+\")[1] if len(x.split(\"+\")) > 1 else 0)"
      ],
      "execution_count": 33,
      "outputs": []
    },
    {
      "cell_type": "markdown",
      "metadata": {
        "id": "WiWTmCdndpxf"
      },
      "source": [
        "Now that we extracted the rooms information from num_rooms, we can drop that column and change the datatype of the new columns to integer."
      ]
    },
    {
      "cell_type": "code",
      "metadata": {
        "id": "7omA4Ne0dd-c"
      },
      "source": [
        "df_realtor = df_realtor.drop(['num_rooms'],axis = 1)\n",
        "df_realtor['num_beds'] = df_realtor['num_beds'].astype('int64')\n",
        "df_realtor['num_den'] = df_realtor['num_den'].astype('int64')"
      ],
      "execution_count": 34,
      "outputs": []
    },
    {
      "cell_type": "markdown",
      "metadata": {
        "id": "h4jo40qreOy1"
      },
      "source": [
        "Since the address is meaningless, we will try to extract the city from the address column."
      ]
    },
    {
      "cell_type": "code",
      "metadata": {
        "id": "DtcYP39Pd3_B"
      },
      "source": [
        "df_realtor['city'] = df_realtor['address'].apply(lambda x: x.split(\",\")[0].split(\" \")[-1])\n",
        "df_realtor.loc[df_realtor['city'] == \"Hill\", 'city'] = \"Richmond Hill\""
      ],
      "execution_count": 35,
      "outputs": []
    },
    {
      "cell_type": "code",
      "metadata": {
        "colab": {
          "base_uri": "https://localhost:8080/",
          "height": 419
        },
        "id": "FPefo-lehdCC",
        "outputId": "b21c2e02-5d97-4651-b19b-e6c1ec569f8b"
      },
      "source": [
        "df_realtor"
      ],
      "execution_count": 36,
      "outputs": [
        {
          "output_type": "execute_result",
          "data": {
            "text/html": [
              "<div>\n",
              "<style scoped>\n",
              "    .dataframe tbody tr th:only-of-type {\n",
              "        vertical-align: middle;\n",
              "    }\n",
              "\n",
              "    .dataframe tbody tr th {\n",
              "        vertical-align: top;\n",
              "    }\n",
              "\n",
              "    .dataframe thead th {\n",
              "        text-align: right;\n",
              "    }\n",
              "</style>\n",
              "<table border=\"1\" class=\"dataframe\">\n",
              "  <thead>\n",
              "    <tr style=\"text-align: right;\">\n",
              "      <th></th>\n",
              "      <th>address</th>\n",
              "      <th>price</th>\n",
              "      <th>num_bath</th>\n",
              "      <th>Property Type</th>\n",
              "      <th>Building Type</th>\n",
              "      <th>Community Name</th>\n",
              "      <th>Title</th>\n",
              "      <th>Annual Property Taxes</th>\n",
              "      <th>Parking Type</th>\n",
              "      <th>num_beds</th>\n",
              "      <th>num_den</th>\n",
              "      <th>city</th>\n",
              "    </tr>\n",
              "  </thead>\n",
              "  <tbody>\n",
              "    <tr>\n",
              "      <th>0</th>\n",
              "      <td>#708 -480 MCLEVIN AVE Toronto, Ontario M1B5N9</td>\n",
              "      <td>535000</td>\n",
              "      <td>2.0</td>\n",
              "      <td>Single Family</td>\n",
              "      <td>Apartment</td>\n",
              "      <td>Malvern</td>\n",
              "      <td>Condominium/Strata</td>\n",
              "      <td>1173.15</td>\n",
              "      <td>Underground, Visitor Parking</td>\n",
              "      <td>2</td>\n",
              "      <td>0</td>\n",
              "      <td>Toronto</td>\n",
              "    </tr>\n",
              "    <tr>\n",
              "      <th>1</th>\n",
              "      <td>#2414 -8960 JANE ST Vaughan, Ontario L4K2M9</td>\n",
              "      <td>659999</td>\n",
              "      <td>2.0</td>\n",
              "      <td>Single Family</td>\n",
              "      <td>Apartment</td>\n",
              "      <td>Concord</td>\n",
              "      <td>Condominium/Strata</td>\n",
              "      <td>2173.23</td>\n",
              "      <td>Underground</td>\n",
              "      <td>1</td>\n",
              "      <td>1</td>\n",
              "      <td>Vaughan</td>\n",
              "    </tr>\n",
              "    <tr>\n",
              "      <th>2</th>\n",
              "      <td>#202 -9017 LESLIE ST Richmond Hill, Ontario L4...</td>\n",
              "      <td>508000</td>\n",
              "      <td>1.0</td>\n",
              "      <td>Single Family</td>\n",
              "      <td>Apartment</td>\n",
              "      <td>Beaver Creek Business Park</td>\n",
              "      <td>Condominium/Strata</td>\n",
              "      <td>1516.97</td>\n",
              "      <td>Underground</td>\n",
              "      <td>1</td>\n",
              "      <td>0</td>\n",
              "      <td>Richmond Hill</td>\n",
              "    </tr>\n",
              "    <tr>\n",
              "      <th>3</th>\n",
              "      <td>#PH 11 -25 SILVER SPRINGS BLVD Toronto, Ontari...</td>\n",
              "      <td>475000</td>\n",
              "      <td>1.0</td>\n",
              "      <td>Single Family</td>\n",
              "      <td>Apartment</td>\n",
              "      <td>L'Amoreaux</td>\n",
              "      <td>Condominium/Strata</td>\n",
              "      <td>1496.98</td>\n",
              "      <td>Underground</td>\n",
              "      <td>1</td>\n",
              "      <td>1</td>\n",
              "      <td>Toronto</td>\n",
              "    </tr>\n",
              "    <tr>\n",
              "      <th>4</th>\n",
              "      <td>#1922 -8960 JANE ST Vaughan, Ontario</td>\n",
              "      <td>599900</td>\n",
              "      <td>1.0</td>\n",
              "      <td>Single Family</td>\n",
              "      <td>Apartment</td>\n",
              "      <td>Concord</td>\n",
              "      <td>Condominium/Strata</td>\n",
              "      <td>2173.23</td>\n",
              "      <td>Underground</td>\n",
              "      <td>1</td>\n",
              "      <td>1</td>\n",
              "      <td>Vaughan</td>\n",
              "    </tr>\n",
              "    <tr>\n",
              "      <th>...</th>\n",
              "      <td>...</td>\n",
              "      <td>...</td>\n",
              "      <td>...</td>\n",
              "      <td>...</td>\n",
              "      <td>...</td>\n",
              "      <td>...</td>\n",
              "      <td>...</td>\n",
              "      <td>...</td>\n",
              "      <td>...</td>\n",
              "      <td>...</td>\n",
              "      <td>...</td>\n",
              "      <td>...</td>\n",
              "    </tr>\n",
              "    <tr>\n",
              "      <th>1056</th>\n",
              "      <td>20 CLARIDGE DR Richmond Hill, Ontario L4C6H1</td>\n",
              "      <td>4800000</td>\n",
              "      <td>8.0</td>\n",
              "      <td>Single Family</td>\n",
              "      <td>House</td>\n",
              "      <td>South Richvale</td>\n",
              "      <td>Freehold</td>\n",
              "      <td>18830.12</td>\n",
              "      <td>Attached Garage</td>\n",
              "      <td>5</td>\n",
              "      <td>2</td>\n",
              "      <td>Richmond Hill</td>\n",
              "    </tr>\n",
              "    <tr>\n",
              "      <th>1057</th>\n",
              "      <td>68 MAPLE GROVE AVE Richmond Hill, Ontario L4E2X2</td>\n",
              "      <td>3999888</td>\n",
              "      <td>6.0</td>\n",
              "      <td>Single Family</td>\n",
              "      <td>House</td>\n",
              "      <td>Oak Ridges</td>\n",
              "      <td>Freehold</td>\n",
              "      <td>15837.87</td>\n",
              "      <td>Attached Garage</td>\n",
              "      <td>4</td>\n",
              "      <td>1</td>\n",
              "      <td>Richmond Hill</td>\n",
              "    </tr>\n",
              "    <tr>\n",
              "      <th>1059</th>\n",
              "      <td>4665 19TH AVE Markham, Ontario L6C1M3</td>\n",
              "      <td>4280000</td>\n",
              "      <td>2.0</td>\n",
              "      <td>Single Family</td>\n",
              "      <td>House</td>\n",
              "      <td>Rural Markham</td>\n",
              "      <td>Freehold</td>\n",
              "      <td>4556.00</td>\n",
              "      <td>Attached Garage</td>\n",
              "      <td>3</td>\n",
              "      <td>0</td>\n",
              "      <td>Markham</td>\n",
              "    </tr>\n",
              "    <tr>\n",
              "      <th>1061</th>\n",
              "      <td>303 TORREY PINES RD Vaughan, Ontario L4H3X3</td>\n",
              "      <td>3670000</td>\n",
              "      <td>7.0</td>\n",
              "      <td>Single Family</td>\n",
              "      <td>House</td>\n",
              "      <td>Kleinburg</td>\n",
              "      <td>Freehold</td>\n",
              "      <td>15208.00</td>\n",
              "      <td>Garage</td>\n",
              "      <td>5</td>\n",
              "      <td>0</td>\n",
              "      <td>Vaughan</td>\n",
              "    </tr>\n",
              "    <tr>\n",
              "      <th>1062</th>\n",
              "      <td>171 MILLWOOD PKWY Vaughan, Ontario L4H4X5</td>\n",
              "      <td>4399900</td>\n",
              "      <td>6.0</td>\n",
              "      <td>Single Family</td>\n",
              "      <td>House</td>\n",
              "      <td>Vellore Village</td>\n",
              "      <td>Freehold</td>\n",
              "      <td>12936.42</td>\n",
              "      <td>Attached Garage</td>\n",
              "      <td>5</td>\n",
              "      <td>1</td>\n",
              "      <td>Vaughan</td>\n",
              "    </tr>\n",
              "  </tbody>\n",
              "</table>\n",
              "<p>928 rows × 12 columns</p>\n",
              "</div>"
            ],
            "text/plain": [
              "                                                address  ...           city\n",
              "0         #708 -480 MCLEVIN AVE Toronto, Ontario M1B5N9  ...        Toronto\n",
              "1           #2414 -8960 JANE ST Vaughan, Ontario L4K2M9  ...        Vaughan\n",
              "2     #202 -9017 LESLIE ST Richmond Hill, Ontario L4...  ...  Richmond Hill\n",
              "3     #PH 11 -25 SILVER SPRINGS BLVD Toronto, Ontari...  ...        Toronto\n",
              "4                  #1922 -8960 JANE ST Vaughan, Ontario  ...        Vaughan\n",
              "...                                                 ...  ...            ...\n",
              "1056       20 CLARIDGE DR Richmond Hill, Ontario L4C6H1  ...  Richmond Hill\n",
              "1057   68 MAPLE GROVE AVE Richmond Hill, Ontario L4E2X2  ...  Richmond Hill\n",
              "1059              4665 19TH AVE Markham, Ontario L6C1M3  ...        Markham\n",
              "1061        303 TORREY PINES RD Vaughan, Ontario L4H3X3  ...        Vaughan\n",
              "1062          171 MILLWOOD PKWY Vaughan, Ontario L4H4X5  ...        Vaughan\n",
              "\n",
              "[928 rows x 12 columns]"
            ]
          },
          "metadata": {},
          "execution_count": 36
        }
      ]
    },
    {
      "cell_type": "code",
      "metadata": {
        "colab": {
          "base_uri": "https://localhost:8080/"
        },
        "id": "Cezk6co-gkJQ",
        "outputId": "18322250-249a-47a2-fc00-d6cf906d0945"
      },
      "source": [
        "df_realtor['city'].value_counts()"
      ],
      "execution_count": 37,
      "outputs": [
        {
          "output_type": "execute_result",
          "data": {
            "text/plain": [
              "Richmond Hill             283\n",
              "Markham                   249\n",
              "Vaughan                   218\n",
              "Toronto                    58\n",
              "Aurora                     40\n",
              "Whitchurch-Stouffville     38\n",
              "King                       37\n",
              "available                   3\n",
              "Pickering                   1\n",
              "Brampton                    1\n",
              "Name: city, dtype: int64"
            ]
          },
          "metadata": {},
          "execution_count": 37
        }
      ]
    },
    {
      "cell_type": "markdown",
      "metadata": {
        "id": "It2IG2M8hy8B"
      },
      "source": [
        "We see that everything is working except we should get rid of the rows with \"available\" as city. This probably happened because of the vacant land advertisements. Also, we can get rid of the listing from Pickering and Brampton because there are only 1 of each which indicates that they are outliers."
      ]
    },
    {
      "cell_type": "code",
      "metadata": {
        "id": "4HbfKsF_iArH"
      },
      "source": [
        "df_realtor = df_realtor.drop(df_realtor[df_realtor['city'] == \"available\"].index)\n",
        "df_realtor = df_realtor.drop(df_realtor[df_realtor['city'] == \"Pickering\"].index)\n",
        "df_realtor = df_realtor.drop(df_realtor[df_realtor['city'] == \"Brampton\"].index)"
      ],
      "execution_count": 38,
      "outputs": []
    },
    {
      "cell_type": "code",
      "metadata": {
        "colab": {
          "base_uri": "https://localhost:8080/"
        },
        "id": "tLleJawliKv1",
        "outputId": "3bf2a010-954f-4969-d25f-f76c467deb18"
      },
      "source": [
        "df_realtor['city'].value_counts()"
      ],
      "execution_count": 39,
      "outputs": [
        {
          "output_type": "execute_result",
          "data": {
            "text/plain": [
              "Richmond Hill             283\n",
              "Markham                   249\n",
              "Vaughan                   218\n",
              "Toronto                    58\n",
              "Aurora                     40\n",
              "Whitchurch-Stouffville     38\n",
              "King                       37\n",
              "Name: city, dtype: int64"
            ]
          },
          "metadata": {},
          "execution_count": 39
        }
      ]
    },
    {
      "cell_type": "markdown",
      "metadata": {
        "id": "LwByzflrIdfA"
      },
      "source": [
        "Now we are going to add a column visitors to see whether a listing has visitors parking."
      ]
    },
    {
      "cell_type": "code",
      "metadata": {
        "id": "jN3BVbECitDY",
        "colab": {
          "base_uri": "https://localhost:8080/"
        },
        "outputId": "4f8edd11-beec-4800-8688-5e5b8a9e9fec"
      },
      "source": [
        "df_realtor['Parking Type'].value_counts()"
      ],
      "execution_count": 40,
      "outputs": [
        {
          "output_type": "execute_result",
          "data": {
            "text/plain": [
              "Attached Garage                     409\n",
              "Garage                              224\n",
              "Underground, Visitor Parking        101\n",
              "Underground                          99\n",
              "Detached Garage                      66\n",
              "Visitor Parking                       7\n",
              "Carport                               5\n",
              "Carport, Visitor Parking              4\n",
              "Attached Garage, Visitor Parking      4\n",
              "Garage, Visitor Parking               3\n",
              "Detached Garage, Visitor Parking      1\n",
              "Name: Parking Type, dtype: int64"
            ]
          },
          "metadata": {},
          "execution_count": 40
        }
      ]
    },
    {
      "cell_type": "markdown",
      "metadata": {
        "id": "HEuhWWNBIzhk"
      },
      "source": [
        "7 of the parking types are visitors, which means they do not have their own parking space. Therefore, I should change these to No Parking in Parking Types column and extract visitor parking information."
      ]
    },
    {
      "cell_type": "code",
      "metadata": {
        "id": "DYayiU4HJi7I"
      },
      "source": [
        "df_realtor['visitors'] = df_realtor['Parking Type'].apply(lambda x: \"Yes\" if ((len(x.split(\",\")) > 1)  or (x == \"Visitor Parking\")) else \"No\")\n",
        "df_realtor['Parking Type'] = df_realtor['Parking Type'].apply(lambda x: x.split(\",\")[0] if len(x.split(\",\")) > 1 else x)\n",
        "df_realtor['Parking Type'] = df_realtor['Parking Type'].apply(lambda x: \"No Private Parking\" if x == \"Visitor Parking\" else x)"
      ],
      "execution_count": 41,
      "outputs": []
    },
    {
      "cell_type": "code",
      "metadata": {
        "colab": {
          "base_uri": "https://localhost:8080/"
        },
        "id": "kAjA6M4ILc4R",
        "outputId": "cc671f67-122a-4ead-a94b-95cb4d8fe031"
      },
      "source": [
        "df_realtor['Parking Type'].value_counts()"
      ],
      "execution_count": 42,
      "outputs": [
        {
          "output_type": "execute_result",
          "data": {
            "text/plain": [
              "Attached Garage       413\n",
              "Garage                227\n",
              "Underground           200\n",
              "Detached Garage        67\n",
              "Carport                 9\n",
              "No Private Parking      7\n",
              "Name: Parking Type, dtype: int64"
            ]
          },
          "metadata": {},
          "execution_count": 42
        }
      ]
    },
    {
      "cell_type": "code",
      "metadata": {
        "id": "kO3JQBaFLLEX"
      },
      "source": [
        "df_realtor.to_csv('/content/gdrive/My Drive/realtor.ca/realtor_vis.csv')"
      ],
      "execution_count": 43,
      "outputs": []
    },
    {
      "cell_type": "markdown",
      "metadata": {
        "id": "fU-JJismVV5t"
      },
      "source": [
        "# Data Visualization in Tableau"
      ]
    },
    {
      "cell_type": "markdown",
      "metadata": {
        "id": "YOFFGAB8VYW_"
      },
      "source": [
        "https://public.tableau.com/views/Realtor_caAnalysisDashboard/Realtor_caAnalysis?:language=en-US&:display_count=n&:origin=viz_share_link"
      ]
    },
    {
      "cell_type": "markdown",
      "metadata": {
        "id": "i7FrW-dhVdGT"
      },
      "source": [
        "\n",
        "#Summary of EDA/dashboard findings\n",
        "# Cities with most listings per Building Type\n",
        "\n",
        "*   Top 3 areas with most houses in order: 1) Richmond Hill. 2) Markham. 3) Vaughan\n",
        "*   Top 3 areas with most apartment in order: 1) Vaughan. 2) Markham. 3) Richmond Hill\n",
        "*   Top 3 areas with most townhouses in order: 1) Richmond Hill. 2) Markham. 3) Vaughan\n",
        "\n",
        "# Distribution of Building Types per City \n",
        "* In Aurora: Approximately 85% of listings are houses, 15% of listings are townhouses, and 0% of listings are apartments.\n",
        "* In King: Approximately 94% of listings are houses, 3% of listings are townhouses, and 3% of listings are apartments.\n",
        "* In Markham: Approximately 65% of listings are houses, 12% of listings are townhouses, and 21% of listings are apartments.\n",
        "* In Richmond Hill: Approximately 70% of listings are houses, 12% of listings are townhouses, and 17% of listings are apartments.\n",
        "* In Toronto: Approximately 43% of listings are houses, 8% of listings are townhouses, and 48% of listings are apartments.\n",
        "* In Vaughan: Approximately 64% of listings are houses, 10% of listings are townhouses, and 25% of listings are apartments.\n",
        "* In Whitechurch-Stouffville: Approximately 76% of listings are houses, 6% of listings are townhouses, and 17% of listings are apartments.\n",
        "\n",
        "#Average Annual Property Taxes per City\n",
        "* King has the highest average property tax for all types of buildings.\n",
        "\n",
        "#Visitors Parking\n",
        "* We see that Richmond Hill has the highest absence of Visitors Parking. This may be due to the fact that visitors parking only exist in apartments, which Richmond Hill lacks. Following Richmond Hill comes Markham and Vaughan.\n",
        "\n",
        "#Community Cluster Distribution\n",
        "* We see that Markham has a lot of listings from different small communities within the city. There are a lot of diversification of community within Markham.\n",
        "* On the other hand, for Richmond Hill and Vaughan, there are less variety of communities but have much more abundent listings within the same community. These information can be useful if a potential buyer wants to buy multiple property within a certain vicinity.\n"
      ]
    }
  ]
}